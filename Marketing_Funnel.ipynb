{
  "cells": [
    {
      "cell_type": "markdown",
      "id": "794d6f80",
      "metadata": {
        "id": "794d6f80"
      },
      "source": [
        "# Import Package & Read Dataset"
      ]
    },
    {
      "cell_type": "code",
      "execution_count": null,
      "id": "3e3b43a1",
      "metadata": {
        "id": "3e3b43a1"
      },
      "outputs": [],
      "source": [
        "import pandas as pd\n",
        "import numpy as np\n",
        "import matplotlib.pyplot as plt\n",
        "\n",
        "import seaborn as sns\n",
        "\n",
        "from marketing_attribution_models import MAM\n",
        "\n",
        "%matplotlib inline"
      ]
    },
    {
      "cell_type": "code",
      "execution_count": null,
      "id": "24061424",
      "metadata": {
        "id": "24061424"
      },
      "outputs": [],
      "source": [
        "# read dataset\n",
        "# marketing funnel\n",
        "olist_marketing_qualified_leads = pd.read_csv(\"https://raw.githubusercontent.com/hadimaster65555/dataset_for_teaching/main/dataset/olist_marketing_funnel_dataset/olist_marketing_qualified_leads_dataset.csv\")\n",
        "olist_closed_deals = pd.read_csv(\"https://raw.githubusercontent.com/hadimaster65555/dataset_for_teaching/main/dataset/olist_marketing_funnel_dataset/olist_closed_deals_dataset.csv\")\n",
        "\n",
        "# marketing order|\n",
        "olist_order_items = pd.read_csv(\"https://raw.githubusercontent.com/hadimaster65555/dataset_for_teaching/main/dataset/olist_ecommerce_data/olist_order_items_dataset.csv\")\n",
        "olist_seller = pd.read_csv(\"https://raw.githubusercontent.com/hadimaster65555/dataset_for_teaching/main/dataset/olist_ecommerce_data/olist_sellers_dataset.csv\")"
      ]
    },
    {
      "cell_type": "markdown",
      "id": "5ea21bc9",
      "metadata": {
        "id": "5ea21bc9"
      },
      "source": [
        "# Combining Dataset"
      ]
    },
    {
      "cell_type": "markdown",
      "id": "dfcf4e91",
      "metadata": {
        "id": "dfcf4e91"
      },
      "source": [
        "## Order Items & Seller"
      ]
    },
    {
      "cell_type": "code",
      "execution_count": null,
      "id": "dcae79c6",
      "metadata": {
        "id": "dcae79c6",
        "outputId": "e9150092-3456-4044-d189-bfcb7e2c2fbc"
      },
      "outputs": [
        {
          "data": {
            "text/html": [
              "<div>\n",
              "<style scoped>\n",
              "    .dataframe tbody tr th:only-of-type {\n",
              "        vertical-align: middle;\n",
              "    }\n",
              "\n",
              "    .dataframe tbody tr th {\n",
              "        vertical-align: top;\n",
              "    }\n",
              "\n",
              "    .dataframe thead th {\n",
              "        text-align: right;\n",
              "    }\n",
              "</style>\n",
              "<table border=\"1\" class=\"dataframe\">\n",
              "  <thead>\n",
              "    <tr style=\"text-align: right;\">\n",
              "      <th></th>\n",
              "      <th>order_id</th>\n",
              "      <th>order_item_id</th>\n",
              "      <th>product_id</th>\n",
              "      <th>seller_id</th>\n",
              "      <th>shipping_limit_date</th>\n",
              "      <th>price</th>\n",
              "      <th>freight_value</th>\n",
              "    </tr>\n",
              "  </thead>\n",
              "  <tbody>\n",
              "    <tr>\n",
              "      <th>0</th>\n",
              "      <td>00010242fe8c5a6d1ba2dd792cb16214</td>\n",
              "      <td>1</td>\n",
              "      <td>4244733e06e7ecb4970a6e2683c13e61</td>\n",
              "      <td>48436dade18ac8b2bce089ec2a041202</td>\n",
              "      <td>2017-09-19 09:45:35</td>\n",
              "      <td>58.90</td>\n",
              "      <td>13.29</td>\n",
              "    </tr>\n",
              "    <tr>\n",
              "      <th>1</th>\n",
              "      <td>00018f77f2f0320c557190d7a144bdd3</td>\n",
              "      <td>1</td>\n",
              "      <td>e5f2d52b802189ee658865ca93d83a8f</td>\n",
              "      <td>dd7ddc04e1b6c2c614352b383efe2d36</td>\n",
              "      <td>2017-05-03 11:05:13</td>\n",
              "      <td>239.90</td>\n",
              "      <td>19.93</td>\n",
              "    </tr>\n",
              "    <tr>\n",
              "      <th>2</th>\n",
              "      <td>000229ec398224ef6ca0657da4fc703e</td>\n",
              "      <td>1</td>\n",
              "      <td>c777355d18b72b67abbeef9df44fd0fd</td>\n",
              "      <td>5b51032eddd242adc84c38acab88f23d</td>\n",
              "      <td>2018-01-18 14:48:30</td>\n",
              "      <td>199.00</td>\n",
              "      <td>17.87</td>\n",
              "    </tr>\n",
              "    <tr>\n",
              "      <th>3</th>\n",
              "      <td>00024acbcdf0a6daa1e931b038114c75</td>\n",
              "      <td>1</td>\n",
              "      <td>7634da152a4610f1595efa32f14722fc</td>\n",
              "      <td>9d7a1d34a5052409006425275ba1c2b4</td>\n",
              "      <td>2018-08-15 10:10:18</td>\n",
              "      <td>12.99</td>\n",
              "      <td>12.79</td>\n",
              "    </tr>\n",
              "    <tr>\n",
              "      <th>4</th>\n",
              "      <td>00042b26cf59d7ce69dfabb4e55b4fd9</td>\n",
              "      <td>1</td>\n",
              "      <td>ac6c3623068f30de03045865e4e10089</td>\n",
              "      <td>df560393f3a51e74553ab94004ba5c87</td>\n",
              "      <td>2017-02-13 13:57:51</td>\n",
              "      <td>199.90</td>\n",
              "      <td>18.14</td>\n",
              "    </tr>\n",
              "    <tr>\n",
              "      <th>...</th>\n",
              "      <td>...</td>\n",
              "      <td>...</td>\n",
              "      <td>...</td>\n",
              "      <td>...</td>\n",
              "      <td>...</td>\n",
              "      <td>...</td>\n",
              "      <td>...</td>\n",
              "    </tr>\n",
              "    <tr>\n",
              "      <th>112645</th>\n",
              "      <td>fffc94f6ce00a00581880bf54a75a037</td>\n",
              "      <td>1</td>\n",
              "      <td>4aa6014eceb682077f9dc4bffebc05b0</td>\n",
              "      <td>b8bc237ba3788b23da09c0f1f3a3288c</td>\n",
              "      <td>2018-05-02 04:11:01</td>\n",
              "      <td>299.99</td>\n",
              "      <td>43.41</td>\n",
              "    </tr>\n",
              "    <tr>\n",
              "      <th>112646</th>\n",
              "      <td>fffcd46ef2263f404302a634eb57f7eb</td>\n",
              "      <td>1</td>\n",
              "      <td>32e07fd915822b0765e448c4dd74c828</td>\n",
              "      <td>f3c38ab652836d21de61fb8314b69182</td>\n",
              "      <td>2018-07-20 04:31:48</td>\n",
              "      <td>350.00</td>\n",
              "      <td>36.53</td>\n",
              "    </tr>\n",
              "    <tr>\n",
              "      <th>112647</th>\n",
              "      <td>fffce4705a9662cd70adb13d4a31832d</td>\n",
              "      <td>1</td>\n",
              "      <td>72a30483855e2eafc67aee5dc2560482</td>\n",
              "      <td>c3cfdc648177fdbbbb35635a37472c53</td>\n",
              "      <td>2017-10-30 17:14:25</td>\n",
              "      <td>99.90</td>\n",
              "      <td>16.95</td>\n",
              "    </tr>\n",
              "    <tr>\n",
              "      <th>112648</th>\n",
              "      <td>fffe18544ffabc95dfada21779c9644f</td>\n",
              "      <td>1</td>\n",
              "      <td>9c422a519119dcad7575db5af1ba540e</td>\n",
              "      <td>2b3e4a2a3ea8e01938cabda2a3e5cc79</td>\n",
              "      <td>2017-08-21 00:04:32</td>\n",
              "      <td>55.99</td>\n",
              "      <td>8.72</td>\n",
              "    </tr>\n",
              "    <tr>\n",
              "      <th>112649</th>\n",
              "      <td>fffe41c64501cc87c801fd61db3f6244</td>\n",
              "      <td>1</td>\n",
              "      <td>350688d9dc1e75ff97be326363655e01</td>\n",
              "      <td>f7ccf836d21b2fb1de37564105216cc1</td>\n",
              "      <td>2018-06-12 17:10:13</td>\n",
              "      <td>43.00</td>\n",
              "      <td>12.79</td>\n",
              "    </tr>\n",
              "  </tbody>\n",
              "</table>\n",
              "<p>112650 rows × 7 columns</p>\n",
              "</div>"
            ],
            "text/plain": [
              "                                order_id  order_item_id  \\\n",
              "0       00010242fe8c5a6d1ba2dd792cb16214              1   \n",
              "1       00018f77f2f0320c557190d7a144bdd3              1   \n",
              "2       000229ec398224ef6ca0657da4fc703e              1   \n",
              "3       00024acbcdf0a6daa1e931b038114c75              1   \n",
              "4       00042b26cf59d7ce69dfabb4e55b4fd9              1   \n",
              "...                                  ...            ...   \n",
              "112645  fffc94f6ce00a00581880bf54a75a037              1   \n",
              "112646  fffcd46ef2263f404302a634eb57f7eb              1   \n",
              "112647  fffce4705a9662cd70adb13d4a31832d              1   \n",
              "112648  fffe18544ffabc95dfada21779c9644f              1   \n",
              "112649  fffe41c64501cc87c801fd61db3f6244              1   \n",
              "\n",
              "                              product_id                         seller_id  \\\n",
              "0       4244733e06e7ecb4970a6e2683c13e61  48436dade18ac8b2bce089ec2a041202   \n",
              "1       e5f2d52b802189ee658865ca93d83a8f  dd7ddc04e1b6c2c614352b383efe2d36   \n",
              "2       c777355d18b72b67abbeef9df44fd0fd  5b51032eddd242adc84c38acab88f23d   \n",
              "3       7634da152a4610f1595efa32f14722fc  9d7a1d34a5052409006425275ba1c2b4   \n",
              "4       ac6c3623068f30de03045865e4e10089  df560393f3a51e74553ab94004ba5c87   \n",
              "...                                  ...                               ...   \n",
              "112645  4aa6014eceb682077f9dc4bffebc05b0  b8bc237ba3788b23da09c0f1f3a3288c   \n",
              "112646  32e07fd915822b0765e448c4dd74c828  f3c38ab652836d21de61fb8314b69182   \n",
              "112647  72a30483855e2eafc67aee5dc2560482  c3cfdc648177fdbbbb35635a37472c53   \n",
              "112648  9c422a519119dcad7575db5af1ba540e  2b3e4a2a3ea8e01938cabda2a3e5cc79   \n",
              "112649  350688d9dc1e75ff97be326363655e01  f7ccf836d21b2fb1de37564105216cc1   \n",
              "\n",
              "        shipping_limit_date   price  freight_value  \n",
              "0       2017-09-19 09:45:35   58.90          13.29  \n",
              "1       2017-05-03 11:05:13  239.90          19.93  \n",
              "2       2018-01-18 14:48:30  199.00          17.87  \n",
              "3       2018-08-15 10:10:18   12.99          12.79  \n",
              "4       2017-02-13 13:57:51  199.90          18.14  \n",
              "...                     ...     ...            ...  \n",
              "112645  2018-05-02 04:11:01  299.99          43.41  \n",
              "112646  2018-07-20 04:31:48  350.00          36.53  \n",
              "112647  2017-10-30 17:14:25   99.90          16.95  \n",
              "112648  2017-08-21 00:04:32   55.99           8.72  \n",
              "112649  2018-06-12 17:10:13   43.00          12.79  \n",
              "\n",
              "[112650 rows x 7 columns]"
            ]
          },
          "execution_count": 3,
          "metadata": {},
          "output_type": "execute_result"
        }
      ],
      "source": [
        "olist_order_items"
      ]
    },
    {
      "cell_type": "code",
      "execution_count": null,
      "id": "df5bf653",
      "metadata": {
        "id": "df5bf653",
        "outputId": "b8d755b5-e269-4f2c-d96a-2f994a924ee5"
      },
      "outputs": [
        {
          "data": {
            "text/html": [
              "<div>\n",
              "<style scoped>\n",
              "    .dataframe tbody tr th:only-of-type {\n",
              "        vertical-align: middle;\n",
              "    }\n",
              "\n",
              "    .dataframe tbody tr th {\n",
              "        vertical-align: top;\n",
              "    }\n",
              "\n",
              "    .dataframe thead th {\n",
              "        text-align: right;\n",
              "    }\n",
              "</style>\n",
              "<table border=\"1\" class=\"dataframe\">\n",
              "  <thead>\n",
              "    <tr style=\"text-align: right;\">\n",
              "      <th></th>\n",
              "      <th>seller_id</th>\n",
              "      <th>seller_zip_code_prefix</th>\n",
              "      <th>seller_city</th>\n",
              "      <th>seller_state</th>\n",
              "    </tr>\n",
              "  </thead>\n",
              "  <tbody>\n",
              "    <tr>\n",
              "      <th>0</th>\n",
              "      <td>3442f8959a84dea7ee197c632cb2df15</td>\n",
              "      <td>13023</td>\n",
              "      <td>campinas</td>\n",
              "      <td>SP</td>\n",
              "    </tr>\n",
              "    <tr>\n",
              "      <th>1</th>\n",
              "      <td>d1b65fc7debc3361ea86b5f14c68d2e2</td>\n",
              "      <td>13844</td>\n",
              "      <td>mogi guacu</td>\n",
              "      <td>SP</td>\n",
              "    </tr>\n",
              "    <tr>\n",
              "      <th>2</th>\n",
              "      <td>ce3ad9de960102d0677a81f5d0bb7b2d</td>\n",
              "      <td>20031</td>\n",
              "      <td>rio de janeiro</td>\n",
              "      <td>RJ</td>\n",
              "    </tr>\n",
              "    <tr>\n",
              "      <th>3</th>\n",
              "      <td>c0f3eea2e14555b6faeea3dd58c1b1c3</td>\n",
              "      <td>4195</td>\n",
              "      <td>sao paulo</td>\n",
              "      <td>SP</td>\n",
              "    </tr>\n",
              "    <tr>\n",
              "      <th>4</th>\n",
              "      <td>51a04a8a6bdcb23deccc82b0b80742cf</td>\n",
              "      <td>12914</td>\n",
              "      <td>braganca paulista</td>\n",
              "      <td>SP</td>\n",
              "    </tr>\n",
              "    <tr>\n",
              "      <th>...</th>\n",
              "      <td>...</td>\n",
              "      <td>...</td>\n",
              "      <td>...</td>\n",
              "      <td>...</td>\n",
              "    </tr>\n",
              "    <tr>\n",
              "      <th>3090</th>\n",
              "      <td>98dddbc4601dd4443ca174359b237166</td>\n",
              "      <td>87111</td>\n",
              "      <td>sarandi</td>\n",
              "      <td>PR</td>\n",
              "    </tr>\n",
              "    <tr>\n",
              "      <th>3091</th>\n",
              "      <td>f8201cab383e484733266d1906e2fdfa</td>\n",
              "      <td>88137</td>\n",
              "      <td>palhoca</td>\n",
              "      <td>SC</td>\n",
              "    </tr>\n",
              "    <tr>\n",
              "      <th>3092</th>\n",
              "      <td>74871d19219c7d518d0090283e03c137</td>\n",
              "      <td>4650</td>\n",
              "      <td>sao paulo</td>\n",
              "      <td>SP</td>\n",
              "    </tr>\n",
              "    <tr>\n",
              "      <th>3093</th>\n",
              "      <td>e603cf3fec55f8697c9059638d6c8eb5</td>\n",
              "      <td>96080</td>\n",
              "      <td>pelotas</td>\n",
              "      <td>RS</td>\n",
              "    </tr>\n",
              "    <tr>\n",
              "      <th>3094</th>\n",
              "      <td>9e25199f6ef7e7c347120ff175652c3b</td>\n",
              "      <td>12051</td>\n",
              "      <td>taubate</td>\n",
              "      <td>SP</td>\n",
              "    </tr>\n",
              "  </tbody>\n",
              "</table>\n",
              "<p>3095 rows × 4 columns</p>\n",
              "</div>"
            ],
            "text/plain": [
              "                             seller_id  seller_zip_code_prefix  \\\n",
              "0     3442f8959a84dea7ee197c632cb2df15                   13023   \n",
              "1     d1b65fc7debc3361ea86b5f14c68d2e2                   13844   \n",
              "2     ce3ad9de960102d0677a81f5d0bb7b2d                   20031   \n",
              "3     c0f3eea2e14555b6faeea3dd58c1b1c3                    4195   \n",
              "4     51a04a8a6bdcb23deccc82b0b80742cf                   12914   \n",
              "...                                ...                     ...   \n",
              "3090  98dddbc4601dd4443ca174359b237166                   87111   \n",
              "3091  f8201cab383e484733266d1906e2fdfa                   88137   \n",
              "3092  74871d19219c7d518d0090283e03c137                    4650   \n",
              "3093  e603cf3fec55f8697c9059638d6c8eb5                   96080   \n",
              "3094  9e25199f6ef7e7c347120ff175652c3b                   12051   \n",
              "\n",
              "            seller_city seller_state  \n",
              "0              campinas           SP  \n",
              "1            mogi guacu           SP  \n",
              "2        rio de janeiro           RJ  \n",
              "3             sao paulo           SP  \n",
              "4     braganca paulista           SP  \n",
              "...                 ...          ...  \n",
              "3090            sarandi           PR  \n",
              "3091            palhoca           SC  \n",
              "3092          sao paulo           SP  \n",
              "3093            pelotas           RS  \n",
              "3094            taubate           SP  \n",
              "\n",
              "[3095 rows x 4 columns]"
            ]
          },
          "execution_count": 4,
          "metadata": {},
          "output_type": "execute_result"
        }
      ],
      "source": [
        "olist_seller"
      ]
    },
    {
      "cell_type": "code",
      "execution_count": null,
      "id": "01b94d88",
      "metadata": {
        "id": "01b94d88",
        "outputId": "2e129c01-172e-4f96-f443-faadb41bd8b9"
      },
      "outputs": [
        {
          "data": {
            "text/plain": [
              "3095"
            ]
          },
          "execution_count": 5,
          "metadata": {},
          "output_type": "execute_result"
        }
      ],
      "source": [
        "# unique check on seller_id variabel\n",
        "olist_order_items['seller_id'].nunique()"
      ]
    },
    {
      "cell_type": "code",
      "execution_count": null,
      "id": "033cd78b",
      "metadata": {
        "id": "033cd78b"
      },
      "outputs": [],
      "source": [
        "# create specific dataframe by grouping of seller id\n",
        "data_seller_agg = olist_order_items.groupby('seller_id', as_index=False).agg({\n",
        "    'order_id': 'nunique',\n",
        "    'product_id': 'nunique',\n",
        "    'price': 'sum',\n",
        "    'freight_value': 'sum'\n",
        "})"
      ]
    },
    {
      "cell_type": "code",
      "execution_count": null,
      "id": "d3528854",
      "metadata": {
        "id": "d3528854"
      },
      "outputs": [],
      "source": [
        "# renaming daa_seller_agg dataframe\n",
        "data_seller_agg = data_seller_agg.rename(columns={\n",
        "    'order_id': \"total_trx\",\n",
        "    'product_id': \"total_ordered\"\n",
        "})"
      ]
    },
    {
      "cell_type": "code",
      "execution_count": null,
      "id": "eb36df21",
      "metadata": {
        "id": "eb36df21",
        "outputId": "6cc91eff-2732-4b34-edab-4c7360a63ba2"
      },
      "outputs": [
        {
          "data": {
            "text/html": [
              "<div>\n",
              "<style scoped>\n",
              "    .dataframe tbody tr th:only-of-type {\n",
              "        vertical-align: middle;\n",
              "    }\n",
              "\n",
              "    .dataframe tbody tr th {\n",
              "        vertical-align: top;\n",
              "    }\n",
              "\n",
              "    .dataframe thead th {\n",
              "        text-align: right;\n",
              "    }\n",
              "</style>\n",
              "<table border=\"1\" class=\"dataframe\">\n",
              "  <thead>\n",
              "    <tr style=\"text-align: right;\">\n",
              "      <th></th>\n",
              "      <th>seller_id</th>\n",
              "      <th>total_trx</th>\n",
              "      <th>total_ordered</th>\n",
              "      <th>price</th>\n",
              "      <th>freight_value</th>\n",
              "    </tr>\n",
              "  </thead>\n",
              "  <tbody>\n",
              "    <tr>\n",
              "      <th>0</th>\n",
              "      <td>0015a82c2db000af6aaaf3ae2ecb0532</td>\n",
              "      <td>3</td>\n",
              "      <td>1</td>\n",
              "      <td>2685.00</td>\n",
              "      <td>63.06</td>\n",
              "    </tr>\n",
              "    <tr>\n",
              "      <th>1</th>\n",
              "      <td>001cca7ae9ae17fb1caed9dfb1094831</td>\n",
              "      <td>200</td>\n",
              "      <td>11</td>\n",
              "      <td>25080.03</td>\n",
              "      <td>8854.14</td>\n",
              "    </tr>\n",
              "    <tr>\n",
              "      <th>2</th>\n",
              "      <td>001e6ad469a905060d959994f1b41e4f</td>\n",
              "      <td>1</td>\n",
              "      <td>1</td>\n",
              "      <td>250.00</td>\n",
              "      <td>17.94</td>\n",
              "    </tr>\n",
              "    <tr>\n",
              "      <th>3</th>\n",
              "      <td>002100f778ceb8431b7a1020ff7ab48f</td>\n",
              "      <td>51</td>\n",
              "      <td>24</td>\n",
              "      <td>1234.50</td>\n",
              "      <td>793.66</td>\n",
              "    </tr>\n",
              "    <tr>\n",
              "      <th>4</th>\n",
              "      <td>003554e2dce176b5555353e4f3555ac8</td>\n",
              "      <td>1</td>\n",
              "      <td>1</td>\n",
              "      <td>120.00</td>\n",
              "      <td>19.38</td>\n",
              "    </tr>\n",
              "    <tr>\n",
              "      <th>5</th>\n",
              "      <td>004c9cd9d87a3c30c522c48c4fc07416</td>\n",
              "      <td>158</td>\n",
              "      <td>88</td>\n",
              "      <td>19712.71</td>\n",
              "      <td>3551.23</td>\n",
              "    </tr>\n",
              "    <tr>\n",
              "      <th>6</th>\n",
              "      <td>00720abe85ba0859807595bbf045a33b</td>\n",
              "      <td>13</td>\n",
              "      <td>9</td>\n",
              "      <td>1007.50</td>\n",
              "      <td>315.98</td>\n",
              "    </tr>\n",
              "    <tr>\n",
              "      <th>7</th>\n",
              "      <td>00ab3eff1b5192e5f1a63bcecfee11c8</td>\n",
              "      <td>1</td>\n",
              "      <td>1</td>\n",
              "      <td>98.00</td>\n",
              "      <td>12.08</td>\n",
              "    </tr>\n",
              "    <tr>\n",
              "      <th>8</th>\n",
              "      <td>00d8b143d12632bad99c0ad66ad52825</td>\n",
              "      <td>1</td>\n",
              "      <td>1</td>\n",
              "      <td>86.00</td>\n",
              "      <td>51.10</td>\n",
              "    </tr>\n",
              "    <tr>\n",
              "      <th>9</th>\n",
              "      <td>00ee68308b45bc5e2660cd833c3f81cc</td>\n",
              "      <td>135</td>\n",
              "      <td>23</td>\n",
              "      <td>20260.00</td>\n",
              "      <td>3180.66</td>\n",
              "    </tr>\n",
              "  </tbody>\n",
              "</table>\n",
              "</div>"
            ],
            "text/plain": [
              "                          seller_id  total_trx  total_ordered     price  \\\n",
              "0  0015a82c2db000af6aaaf3ae2ecb0532          3              1   2685.00   \n",
              "1  001cca7ae9ae17fb1caed9dfb1094831        200             11  25080.03   \n",
              "2  001e6ad469a905060d959994f1b41e4f          1              1    250.00   \n",
              "3  002100f778ceb8431b7a1020ff7ab48f         51             24   1234.50   \n",
              "4  003554e2dce176b5555353e4f3555ac8          1              1    120.00   \n",
              "5  004c9cd9d87a3c30c522c48c4fc07416        158             88  19712.71   \n",
              "6  00720abe85ba0859807595bbf045a33b         13              9   1007.50   \n",
              "7  00ab3eff1b5192e5f1a63bcecfee11c8          1              1     98.00   \n",
              "8  00d8b143d12632bad99c0ad66ad52825          1              1     86.00   \n",
              "9  00ee68308b45bc5e2660cd833c3f81cc        135             23  20260.00   \n",
              "\n",
              "   freight_value  \n",
              "0          63.06  \n",
              "1        8854.14  \n",
              "2          17.94  \n",
              "3         793.66  \n",
              "4          19.38  \n",
              "5        3551.23  \n",
              "6         315.98  \n",
              "7          12.08  \n",
              "8          51.10  \n",
              "9        3180.66  "
            ]
          },
          "execution_count": 8,
          "metadata": {},
          "output_type": "execute_result"
        }
      ],
      "source": [
        "# check data_seller_agg\n",
        "data_seller_agg.head(10)"
      ]
    },
    {
      "cell_type": "code",
      "execution_count": null,
      "id": "b7009f1a",
      "metadata": {
        "id": "b7009f1a",
        "outputId": "abaa0ae0-0f8b-44c0-f8b5-947b051a8f25"
      },
      "outputs": [
        {
          "data": {
            "text/html": [
              "<div>\n",
              "<style scoped>\n",
              "    .dataframe tbody tr th:only-of-type {\n",
              "        vertical-align: middle;\n",
              "    }\n",
              "\n",
              "    .dataframe tbody tr th {\n",
              "        vertical-align: top;\n",
              "    }\n",
              "\n",
              "    .dataframe thead th {\n",
              "        text-align: right;\n",
              "    }\n",
              "</style>\n",
              "<table border=\"1\" class=\"dataframe\">\n",
              "  <thead>\n",
              "    <tr style=\"text-align: right;\">\n",
              "      <th></th>\n",
              "      <th>seller_id</th>\n",
              "      <th>seller_city</th>\n",
              "      <th>seller_state</th>\n",
              "      <th>total_trx</th>\n",
              "      <th>total_ordered</th>\n",
              "      <th>price</th>\n",
              "      <th>freight_value</th>\n",
              "    </tr>\n",
              "  </thead>\n",
              "  <tbody>\n",
              "    <tr>\n",
              "      <th>0</th>\n",
              "      <td>0015a82c2db000af6aaaf3ae2ecb0532</td>\n",
              "      <td>santo andre</td>\n",
              "      <td>SP</td>\n",
              "      <td>3</td>\n",
              "      <td>1</td>\n",
              "      <td>2685.00</td>\n",
              "      <td>63.06</td>\n",
              "    </tr>\n",
              "    <tr>\n",
              "      <th>1</th>\n",
              "      <td>001cca7ae9ae17fb1caed9dfb1094831</td>\n",
              "      <td>cariacica</td>\n",
              "      <td>ES</td>\n",
              "      <td>200</td>\n",
              "      <td>11</td>\n",
              "      <td>25080.03</td>\n",
              "      <td>8854.14</td>\n",
              "    </tr>\n",
              "    <tr>\n",
              "      <th>2</th>\n",
              "      <td>001e6ad469a905060d959994f1b41e4f</td>\n",
              "      <td>sao goncalo</td>\n",
              "      <td>RJ</td>\n",
              "      <td>1</td>\n",
              "      <td>1</td>\n",
              "      <td>250.00</td>\n",
              "      <td>17.94</td>\n",
              "    </tr>\n",
              "    <tr>\n",
              "      <th>3</th>\n",
              "      <td>002100f778ceb8431b7a1020ff7ab48f</td>\n",
              "      <td>franca</td>\n",
              "      <td>SP</td>\n",
              "      <td>51</td>\n",
              "      <td>24</td>\n",
              "      <td>1234.50</td>\n",
              "      <td>793.66</td>\n",
              "    </tr>\n",
              "    <tr>\n",
              "      <th>4</th>\n",
              "      <td>003554e2dce176b5555353e4f3555ac8</td>\n",
              "      <td>goiania</td>\n",
              "      <td>GO</td>\n",
              "      <td>1</td>\n",
              "      <td>1</td>\n",
              "      <td>120.00</td>\n",
              "      <td>19.38</td>\n",
              "    </tr>\n",
              "  </tbody>\n",
              "</table>\n",
              "</div>"
            ],
            "text/plain": [
              "                          seller_id  seller_city seller_state  total_trx  \\\n",
              "0  0015a82c2db000af6aaaf3ae2ecb0532  santo andre           SP          3   \n",
              "1  001cca7ae9ae17fb1caed9dfb1094831    cariacica           ES        200   \n",
              "2  001e6ad469a905060d959994f1b41e4f  sao goncalo           RJ          1   \n",
              "3  002100f778ceb8431b7a1020ff7ab48f       franca           SP         51   \n",
              "4  003554e2dce176b5555353e4f3555ac8      goiania           GO          1   \n",
              "\n",
              "   total_ordered     price  freight_value  \n",
              "0              1   2685.00          63.06  \n",
              "1             11  25080.03        8854.14  \n",
              "2              1    250.00          17.94  \n",
              "3             24   1234.50         793.66  \n",
              "4              1    120.00          19.38  "
            ]
          },
          "execution_count": 9,
          "metadata": {},
          "output_type": "execute_result"
        }
      ],
      "source": [
        "# combining the order items and order dataset by joining on order id\n",
        "cols= [\n",
        "    'seller_id',\n",
        "    'seller_city',\n",
        "    'seller_state',\n",
        "    'total_trx',\n",
        "    'total_ordered',\n",
        "    'price',\n",
        "    'freight_value'\n",
        "]\n",
        "\n",
        "data_seller = pd.merge(\n",
        "    left= data_seller_agg,\n",
        "    right= olist_seller,\n",
        "    on= 'seller_id',\n",
        "    how= 'inner'\n",
        ")[cols]\n",
        "\n",
        "data_seller.head(5)"
      ]
    },
    {
      "cell_type": "code",
      "execution_count": null,
      "id": "aa784ec5",
      "metadata": {
        "id": "aa784ec5",
        "outputId": "9a8e8e31-1ddf-4775-eb97-9bdc2afb482a"
      },
      "outputs": [
        {
          "data": {
            "text/plain": [
              "(3095, 7)"
            ]
          },
          "execution_count": 10,
          "metadata": {},
          "output_type": "execute_result"
        }
      ],
      "source": [
        "# check data shape\n",
        "data_seller.shape"
      ]
    },
    {
      "cell_type": "markdown",
      "id": "dd236eea",
      "metadata": {
        "id": "dd236eea"
      },
      "source": [
        "## Marketing Channel Dataset"
      ]
    },
    {
      "cell_type": "code",
      "execution_count": null,
      "id": "d69d3098",
      "metadata": {
        "id": "d69d3098",
        "outputId": "38be3f8c-22d4-42bd-c4e0-7e7dfb50087e"
      },
      "outputs": [
        {
          "data": {
            "text/html": [
              "<div>\n",
              "<style scoped>\n",
              "    .dataframe tbody tr th:only-of-type {\n",
              "        vertical-align: middle;\n",
              "    }\n",
              "\n",
              "    .dataframe tbody tr th {\n",
              "        vertical-align: top;\n",
              "    }\n",
              "\n",
              "    .dataframe thead th {\n",
              "        text-align: right;\n",
              "    }\n",
              "</style>\n",
              "<table border=\"1\" class=\"dataframe\">\n",
              "  <thead>\n",
              "    <tr style=\"text-align: right;\">\n",
              "      <th></th>\n",
              "      <th>mql_id</th>\n",
              "      <th>first_contact_date</th>\n",
              "      <th>landing_page_id</th>\n",
              "      <th>origin</th>\n",
              "    </tr>\n",
              "  </thead>\n",
              "  <tbody>\n",
              "    <tr>\n",
              "      <th>0</th>\n",
              "      <td>dac32acd4db4c29c230538b72f8dd87d</td>\n",
              "      <td>2018-02-01</td>\n",
              "      <td>88740e65d5d6b056e0cda098e1ea6313</td>\n",
              "      <td>social</td>\n",
              "    </tr>\n",
              "    <tr>\n",
              "      <th>1</th>\n",
              "      <td>8c18d1de7f67e60dbd64e3c07d7e9d5d</td>\n",
              "      <td>2017-10-20</td>\n",
              "      <td>007f9098284a86ee80ddeb25d53e0af8</td>\n",
              "      <td>paid_search</td>\n",
              "    </tr>\n",
              "    <tr>\n",
              "      <th>2</th>\n",
              "      <td>b4bc852d233dfefc5131f593b538befa</td>\n",
              "      <td>2018-03-22</td>\n",
              "      <td>a7982125ff7aa3b2054c6e44f9d28522</td>\n",
              "      <td>organic_search</td>\n",
              "    </tr>\n",
              "    <tr>\n",
              "      <th>3</th>\n",
              "      <td>6be030b81c75970747525b843c1ef4f8</td>\n",
              "      <td>2018-01-22</td>\n",
              "      <td>d45d558f0daeecf3cccdffe3c59684aa</td>\n",
              "      <td>email</td>\n",
              "    </tr>\n",
              "    <tr>\n",
              "      <th>4</th>\n",
              "      <td>5420aad7fec3549a85876ba1c529bd84</td>\n",
              "      <td>2018-02-21</td>\n",
              "      <td>b48ec5f3b04e9068441002a19df93c6c</td>\n",
              "      <td>organic_search</td>\n",
              "    </tr>\n",
              "    <tr>\n",
              "      <th>...</th>\n",
              "      <td>...</td>\n",
              "      <td>...</td>\n",
              "      <td>...</td>\n",
              "      <td>...</td>\n",
              "    </tr>\n",
              "    <tr>\n",
              "      <th>7995</th>\n",
              "      <td>feaba3ffcd2ff97501696c7f9a42f41c</td>\n",
              "      <td>2018-05-22</td>\n",
              "      <td>e42a14209c69c3e9cc6b042620465f12</td>\n",
              "      <td>paid_search</td>\n",
              "    </tr>\n",
              "    <tr>\n",
              "      <th>7996</th>\n",
              "      <td>a79cb53cd009ab92e0143b92baa2407b</td>\n",
              "      <td>2018-03-27</td>\n",
              "      <td>c494978688ccf66ad9fad3d6a3338c22</td>\n",
              "      <td>paid_search</td>\n",
              "    </tr>\n",
              "    <tr>\n",
              "      <th>7997</th>\n",
              "      <td>68f049a23ab109c6a0f6989bb9a02994</td>\n",
              "      <td>2017-08-27</td>\n",
              "      <td>b48ec5f3b04e9068441002a19df93c6c</td>\n",
              "      <td>organic_search</td>\n",
              "    </tr>\n",
              "    <tr>\n",
              "      <th>7998</th>\n",
              "      <td>4f8c96e2509b984329044c6682c88ee9</td>\n",
              "      <td>2017-10-06</td>\n",
              "      <td>a56671a54260a44923d32c2f08fad39c</td>\n",
              "      <td>organic_search</td>\n",
              "    </tr>\n",
              "    <tr>\n",
              "      <th>7999</th>\n",
              "      <td>8a6492305a5fbcdcdd1a7f5a90764c07</td>\n",
              "      <td>2018-01-11</td>\n",
              "      <td>b76ef37428e6799c421989521c0e5077</td>\n",
              "      <td>direct_traffic</td>\n",
              "    </tr>\n",
              "  </tbody>\n",
              "</table>\n",
              "<p>8000 rows × 4 columns</p>\n",
              "</div>"
            ],
            "text/plain": [
              "                                mql_id first_contact_date  \\\n",
              "0     dac32acd4db4c29c230538b72f8dd87d         2018-02-01   \n",
              "1     8c18d1de7f67e60dbd64e3c07d7e9d5d         2017-10-20   \n",
              "2     b4bc852d233dfefc5131f593b538befa         2018-03-22   \n",
              "3     6be030b81c75970747525b843c1ef4f8         2018-01-22   \n",
              "4     5420aad7fec3549a85876ba1c529bd84         2018-02-21   \n",
              "...                                ...                ...   \n",
              "7995  feaba3ffcd2ff97501696c7f9a42f41c         2018-05-22   \n",
              "7996  a79cb53cd009ab92e0143b92baa2407b         2018-03-27   \n",
              "7997  68f049a23ab109c6a0f6989bb9a02994         2017-08-27   \n",
              "7998  4f8c96e2509b984329044c6682c88ee9         2017-10-06   \n",
              "7999  8a6492305a5fbcdcdd1a7f5a90764c07         2018-01-11   \n",
              "\n",
              "                       landing_page_id          origin  \n",
              "0     88740e65d5d6b056e0cda098e1ea6313          social  \n",
              "1     007f9098284a86ee80ddeb25d53e0af8     paid_search  \n",
              "2     a7982125ff7aa3b2054c6e44f9d28522  organic_search  \n",
              "3     d45d558f0daeecf3cccdffe3c59684aa           email  \n",
              "4     b48ec5f3b04e9068441002a19df93c6c  organic_search  \n",
              "...                                ...             ...  \n",
              "7995  e42a14209c69c3e9cc6b042620465f12     paid_search  \n",
              "7996  c494978688ccf66ad9fad3d6a3338c22     paid_search  \n",
              "7997  b48ec5f3b04e9068441002a19df93c6c  organic_search  \n",
              "7998  a56671a54260a44923d32c2f08fad39c  organic_search  \n",
              "7999  b76ef37428e6799c421989521c0e5077  direct_traffic  \n",
              "\n",
              "[8000 rows x 4 columns]"
            ]
          },
          "execution_count": 11,
          "metadata": {},
          "output_type": "execute_result"
        }
      ],
      "source": [
        "olist_marketing_qualified_leads"
      ]
    },
    {
      "cell_type": "code",
      "execution_count": null,
      "id": "7545ea84",
      "metadata": {
        "id": "7545ea84",
        "outputId": "a1192e92-7a57-4ca3-9f90-c4d97eef8a5d"
      },
      "outputs": [
        {
          "data": {
            "text/html": [
              "<div>\n",
              "<style scoped>\n",
              "    .dataframe tbody tr th:only-of-type {\n",
              "        vertical-align: middle;\n",
              "    }\n",
              "\n",
              "    .dataframe tbody tr th {\n",
              "        vertical-align: top;\n",
              "    }\n",
              "\n",
              "    .dataframe thead th {\n",
              "        text-align: right;\n",
              "    }\n",
              "</style>\n",
              "<table border=\"1\" class=\"dataframe\">\n",
              "  <thead>\n",
              "    <tr style=\"text-align: right;\">\n",
              "      <th></th>\n",
              "      <th>mql_id</th>\n",
              "      <th>seller_id</th>\n",
              "      <th>sdr_id</th>\n",
              "      <th>sr_id</th>\n",
              "      <th>won_date</th>\n",
              "      <th>business_segment</th>\n",
              "      <th>lead_type</th>\n",
              "      <th>lead_behaviour_profile</th>\n",
              "      <th>has_company</th>\n",
              "      <th>has_gtin</th>\n",
              "      <th>average_stock</th>\n",
              "      <th>business_type</th>\n",
              "      <th>declared_product_catalog_size</th>\n",
              "      <th>declared_monthly_revenue</th>\n",
              "    </tr>\n",
              "  </thead>\n",
              "  <tbody>\n",
              "    <tr>\n",
              "      <th>0</th>\n",
              "      <td>5420aad7fec3549a85876ba1c529bd84</td>\n",
              "      <td>2c43fb513632d29b3b58df74816f1b06</td>\n",
              "      <td>a8387c01a09e99ce014107505b92388c</td>\n",
              "      <td>4ef15afb4b2723d8f3d81e51ec7afefe</td>\n",
              "      <td>2018-02-26 19:58:54</td>\n",
              "      <td>pet</td>\n",
              "      <td>online_medium</td>\n",
              "      <td>cat</td>\n",
              "      <td>NaN</td>\n",
              "      <td>NaN</td>\n",
              "      <td>NaN</td>\n",
              "      <td>reseller</td>\n",
              "      <td>NaN</td>\n",
              "      <td>0.0</td>\n",
              "    </tr>\n",
              "    <tr>\n",
              "      <th>1</th>\n",
              "      <td>a555fb36b9368110ede0f043dfc3b9a0</td>\n",
              "      <td>bbb7d7893a450660432ea6652310ebb7</td>\n",
              "      <td>09285259593c61296eef10c734121d5b</td>\n",
              "      <td>d3d1e91a157ea7f90548eef82f1955e3</td>\n",
              "      <td>2018-05-08 20:17:59</td>\n",
              "      <td>car_accessories</td>\n",
              "      <td>industry</td>\n",
              "      <td>eagle</td>\n",
              "      <td>NaN</td>\n",
              "      <td>NaN</td>\n",
              "      <td>NaN</td>\n",
              "      <td>reseller</td>\n",
              "      <td>NaN</td>\n",
              "      <td>0.0</td>\n",
              "    </tr>\n",
              "    <tr>\n",
              "      <th>2</th>\n",
              "      <td>327174d3648a2d047e8940d7d15204ca</td>\n",
              "      <td>612170e34b97004b3ba37eae81836b4c</td>\n",
              "      <td>b90f87164b5f8c2cfa5c8572834dbe3f</td>\n",
              "      <td>6565aa9ce3178a5caf6171827af3a9ba</td>\n",
              "      <td>2018-06-05 17:27:23</td>\n",
              "      <td>home_appliances</td>\n",
              "      <td>online_big</td>\n",
              "      <td>cat</td>\n",
              "      <td>NaN</td>\n",
              "      <td>NaN</td>\n",
              "      <td>NaN</td>\n",
              "      <td>reseller</td>\n",
              "      <td>NaN</td>\n",
              "      <td>0.0</td>\n",
              "    </tr>\n",
              "    <tr>\n",
              "      <th>3</th>\n",
              "      <td>f5fee8f7da74f4887f5bcae2bafb6dd6</td>\n",
              "      <td>21e1781e36faf92725dde4730a88ca0f</td>\n",
              "      <td>56bf83c4bb35763a51c2baab501b4c67</td>\n",
              "      <td>d3d1e91a157ea7f90548eef82f1955e3</td>\n",
              "      <td>2018-01-17 13:51:03</td>\n",
              "      <td>food_drink</td>\n",
              "      <td>online_small</td>\n",
              "      <td>NaN</td>\n",
              "      <td>NaN</td>\n",
              "      <td>NaN</td>\n",
              "      <td>NaN</td>\n",
              "      <td>reseller</td>\n",
              "      <td>NaN</td>\n",
              "      <td>0.0</td>\n",
              "    </tr>\n",
              "    <tr>\n",
              "      <th>4</th>\n",
              "      <td>ffe640179b554e295c167a2f6be528e0</td>\n",
              "      <td>ed8cb7b190ceb6067227478e48cf8dde</td>\n",
              "      <td>4b339f9567d060bcea4f5136b9f5949e</td>\n",
              "      <td>d3d1e91a157ea7f90548eef82f1955e3</td>\n",
              "      <td>2018-07-03 20:17:45</td>\n",
              "      <td>home_appliances</td>\n",
              "      <td>industry</td>\n",
              "      <td>wolf</td>\n",
              "      <td>NaN</td>\n",
              "      <td>NaN</td>\n",
              "      <td>NaN</td>\n",
              "      <td>manufacturer</td>\n",
              "      <td>NaN</td>\n",
              "      <td>0.0</td>\n",
              "    </tr>\n",
              "    <tr>\n",
              "      <th>...</th>\n",
              "      <td>...</td>\n",
              "      <td>...</td>\n",
              "      <td>...</td>\n",
              "      <td>...</td>\n",
              "      <td>...</td>\n",
              "      <td>...</td>\n",
              "      <td>...</td>\n",
              "      <td>...</td>\n",
              "      <td>...</td>\n",
              "      <td>...</td>\n",
              "      <td>...</td>\n",
              "      <td>...</td>\n",
              "      <td>...</td>\n",
              "      <td>...</td>\n",
              "    </tr>\n",
              "    <tr>\n",
              "      <th>837</th>\n",
              "      <td>df9a2abe2ad3f2d8758b675ac8331ecf</td>\n",
              "      <td>bfcc27719640628da877db48b672b169</td>\n",
              "      <td>45749fb708130f78d0db07d8d80f030b</td>\n",
              "      <td>a8387c01a09e99ce014107505b92388c</td>\n",
              "      <td>2018-08-01 20:22:31</td>\n",
              "      <td>home_decor</td>\n",
              "      <td>offline</td>\n",
              "      <td>cat</td>\n",
              "      <td>NaN</td>\n",
              "      <td>NaN</td>\n",
              "      <td>NaN</td>\n",
              "      <td>reseller</td>\n",
              "      <td>NaN</td>\n",
              "      <td>0.0</td>\n",
              "    </tr>\n",
              "    <tr>\n",
              "      <th>838</th>\n",
              "      <td>8723201570415eb23b4f095d8c20a27c</td>\n",
              "      <td>4a82eab98441aeb64566e2776c1fb2b6</td>\n",
              "      <td>370c9f455f93a9a96cbe9bea48e70033</td>\n",
              "      <td>4b339f9567d060bcea4f5136b9f5949e</td>\n",
              "      <td>2018-09-27 18:58:41</td>\n",
              "      <td>construction_tools_house_garden</td>\n",
              "      <td>online_big</td>\n",
              "      <td>wolf</td>\n",
              "      <td>NaN</td>\n",
              "      <td>NaN</td>\n",
              "      <td>NaN</td>\n",
              "      <td>reseller</td>\n",
              "      <td>132.0</td>\n",
              "      <td>200000.0</td>\n",
              "    </tr>\n",
              "    <tr>\n",
              "      <th>839</th>\n",
              "      <td>2e57665b8faf05c967a801eb5aedfa0a</td>\n",
              "      <td>55031883943971ca22db6894574cfe2c</td>\n",
              "      <td>370c9f455f93a9a96cbe9bea48e70033</td>\n",
              "      <td>a8387c01a09e99ce014107505b92388c</td>\n",
              "      <td>2018-06-06 20:15:26</td>\n",
              "      <td>computers</td>\n",
              "      <td>online_medium</td>\n",
              "      <td>wolf</td>\n",
              "      <td>NaN</td>\n",
              "      <td>NaN</td>\n",
              "      <td>NaN</td>\n",
              "      <td>reseller</td>\n",
              "      <td>NaN</td>\n",
              "      <td>0.0</td>\n",
              "    </tr>\n",
              "    <tr>\n",
              "      <th>840</th>\n",
              "      <td>40955be51cc85c5a5a6cdd12b19e9f10</td>\n",
              "      <td>c0e933c238e41f0cd459d6025ee9b364</td>\n",
              "      <td>068066e24f0c643eb1d089c7dd20cd73</td>\n",
              "      <td>d3d1e91a157ea7f90548eef82f1955e3</td>\n",
              "      <td>2018-03-06 15:52:23</td>\n",
              "      <td>pet</td>\n",
              "      <td>online_beginner</td>\n",
              "      <td>cat</td>\n",
              "      <td>NaN</td>\n",
              "      <td>NaN</td>\n",
              "      <td>NaN</td>\n",
              "      <td>reseller</td>\n",
              "      <td>NaN</td>\n",
              "      <td>0.0</td>\n",
              "    </tr>\n",
              "    <tr>\n",
              "      <th>841</th>\n",
              "      <td>8a6492305a5fbcdcdd1a7f5a90764c07</td>\n",
              "      <td>1bba9c94eb5c4e82fba9f7286fe81025</td>\n",
              "      <td>56bf83c4bb35763a51c2baab501b4c67</td>\n",
              "      <td>de63de0d10a6012430098db33c679b0b</td>\n",
              "      <td>2018-05-02 13:31:32</td>\n",
              "      <td>household_utilities</td>\n",
              "      <td>industry</td>\n",
              "      <td>eagle</td>\n",
              "      <td>NaN</td>\n",
              "      <td>NaN</td>\n",
              "      <td>NaN</td>\n",
              "      <td>manufacturer</td>\n",
              "      <td>NaN</td>\n",
              "      <td>0.0</td>\n",
              "    </tr>\n",
              "  </tbody>\n",
              "</table>\n",
              "<p>842 rows × 14 columns</p>\n",
              "</div>"
            ],
            "text/plain": [
              "                               mql_id                         seller_id  \\\n",
              "0    5420aad7fec3549a85876ba1c529bd84  2c43fb513632d29b3b58df74816f1b06   \n",
              "1    a555fb36b9368110ede0f043dfc3b9a0  bbb7d7893a450660432ea6652310ebb7   \n",
              "2    327174d3648a2d047e8940d7d15204ca  612170e34b97004b3ba37eae81836b4c   \n",
              "3    f5fee8f7da74f4887f5bcae2bafb6dd6  21e1781e36faf92725dde4730a88ca0f   \n",
              "4    ffe640179b554e295c167a2f6be528e0  ed8cb7b190ceb6067227478e48cf8dde   \n",
              "..                                ...                               ...   \n",
              "837  df9a2abe2ad3f2d8758b675ac8331ecf  bfcc27719640628da877db48b672b169   \n",
              "838  8723201570415eb23b4f095d8c20a27c  4a82eab98441aeb64566e2776c1fb2b6   \n",
              "839  2e57665b8faf05c967a801eb5aedfa0a  55031883943971ca22db6894574cfe2c   \n",
              "840  40955be51cc85c5a5a6cdd12b19e9f10  c0e933c238e41f0cd459d6025ee9b364   \n",
              "841  8a6492305a5fbcdcdd1a7f5a90764c07  1bba9c94eb5c4e82fba9f7286fe81025   \n",
              "\n",
              "                               sdr_id                             sr_id  \\\n",
              "0    a8387c01a09e99ce014107505b92388c  4ef15afb4b2723d8f3d81e51ec7afefe   \n",
              "1    09285259593c61296eef10c734121d5b  d3d1e91a157ea7f90548eef82f1955e3   \n",
              "2    b90f87164b5f8c2cfa5c8572834dbe3f  6565aa9ce3178a5caf6171827af3a9ba   \n",
              "3    56bf83c4bb35763a51c2baab501b4c67  d3d1e91a157ea7f90548eef82f1955e3   \n",
              "4    4b339f9567d060bcea4f5136b9f5949e  d3d1e91a157ea7f90548eef82f1955e3   \n",
              "..                                ...                               ...   \n",
              "837  45749fb708130f78d0db07d8d80f030b  a8387c01a09e99ce014107505b92388c   \n",
              "838  370c9f455f93a9a96cbe9bea48e70033  4b339f9567d060bcea4f5136b9f5949e   \n",
              "839  370c9f455f93a9a96cbe9bea48e70033  a8387c01a09e99ce014107505b92388c   \n",
              "840  068066e24f0c643eb1d089c7dd20cd73  d3d1e91a157ea7f90548eef82f1955e3   \n",
              "841  56bf83c4bb35763a51c2baab501b4c67  de63de0d10a6012430098db33c679b0b   \n",
              "\n",
              "                won_date                 business_segment        lead_type  \\\n",
              "0    2018-02-26 19:58:54                              pet    online_medium   \n",
              "1    2018-05-08 20:17:59                  car_accessories         industry   \n",
              "2    2018-06-05 17:27:23                  home_appliances       online_big   \n",
              "3    2018-01-17 13:51:03                       food_drink     online_small   \n",
              "4    2018-07-03 20:17:45                  home_appliances         industry   \n",
              "..                   ...                              ...              ...   \n",
              "837  2018-08-01 20:22:31                       home_decor          offline   \n",
              "838  2018-09-27 18:58:41  construction_tools_house_garden       online_big   \n",
              "839  2018-06-06 20:15:26                        computers    online_medium   \n",
              "840  2018-03-06 15:52:23                              pet  online_beginner   \n",
              "841  2018-05-02 13:31:32              household_utilities         industry   \n",
              "\n",
              "    lead_behaviour_profile has_company has_gtin average_stock business_type  \\\n",
              "0                      cat         NaN      NaN           NaN      reseller   \n",
              "1                    eagle         NaN      NaN           NaN      reseller   \n",
              "2                      cat         NaN      NaN           NaN      reseller   \n",
              "3                      NaN         NaN      NaN           NaN      reseller   \n",
              "4                     wolf         NaN      NaN           NaN  manufacturer   \n",
              "..                     ...         ...      ...           ...           ...   \n",
              "837                    cat         NaN      NaN           NaN      reseller   \n",
              "838                   wolf         NaN      NaN           NaN      reseller   \n",
              "839                   wolf         NaN      NaN           NaN      reseller   \n",
              "840                    cat         NaN      NaN           NaN      reseller   \n",
              "841                  eagle         NaN      NaN           NaN  manufacturer   \n",
              "\n",
              "     declared_product_catalog_size  declared_monthly_revenue  \n",
              "0                              NaN                       0.0  \n",
              "1                              NaN                       0.0  \n",
              "2                              NaN                       0.0  \n",
              "3                              NaN                       0.0  \n",
              "4                              NaN                       0.0  \n",
              "..                             ...                       ...  \n",
              "837                            NaN                       0.0  \n",
              "838                          132.0                  200000.0  \n",
              "839                            NaN                       0.0  \n",
              "840                            NaN                       0.0  \n",
              "841                            NaN                       0.0  \n",
              "\n",
              "[842 rows x 14 columns]"
            ]
          },
          "execution_count": 12,
          "metadata": {},
          "output_type": "execute_result"
        }
      ],
      "source": [
        "olist_closed_deals"
      ]
    },
    {
      "cell_type": "code",
      "execution_count": null,
      "id": "b2abc168",
      "metadata": {
        "id": "b2abc168",
        "outputId": "bebba9ac-6814-4d14-98b9-9a090926dee6"
      },
      "outputs": [
        {
          "data": {
            "text/plain": [
              "8000"
            ]
          },
          "execution_count": 13,
          "metadata": {},
          "output_type": "execute_result"
        }
      ],
      "source": [
        "# check mql_id nunique\n",
        "olist_marketing_qualified_leads['mql_id'].nunique()"
      ]
    },
    {
      "cell_type": "code",
      "execution_count": null,
      "id": "6835aad8",
      "metadata": {
        "id": "6835aad8",
        "outputId": "3f96d027-7562-4118-b9ab-ec0ca4253ecf"
      },
      "outputs": [
        {
          "data": {
            "text/html": [
              "<div>\n",
              "<style scoped>\n",
              "    .dataframe tbody tr th:only-of-type {\n",
              "        vertical-align: middle;\n",
              "    }\n",
              "\n",
              "    .dataframe tbody tr th {\n",
              "        vertical-align: top;\n",
              "    }\n",
              "\n",
              "    .dataframe thead th {\n",
              "        text-align: right;\n",
              "    }\n",
              "</style>\n",
              "<table border=\"1\" class=\"dataframe\">\n",
              "  <thead>\n",
              "    <tr style=\"text-align: right;\">\n",
              "      <th></th>\n",
              "      <th>mql_id</th>\n",
              "      <th>seller_id</th>\n",
              "      <th>business_segment</th>\n",
              "      <th>lead_type</th>\n",
              "      <th>business_type</th>\n",
              "      <th>first_contact_date</th>\n",
              "      <th>landing_page_id</th>\n",
              "      <th>declared_monthly_revenue</th>\n",
              "      <th>origin</th>\n",
              "    </tr>\n",
              "  </thead>\n",
              "  <tbody>\n",
              "    <tr>\n",
              "      <th>0</th>\n",
              "      <td>5420aad7fec3549a85876ba1c529bd84</td>\n",
              "      <td>2c43fb513632d29b3b58df74816f1b06</td>\n",
              "      <td>pet</td>\n",
              "      <td>online_medium</td>\n",
              "      <td>reseller</td>\n",
              "      <td>2018-02-21</td>\n",
              "      <td>b48ec5f3b04e9068441002a19df93c6c</td>\n",
              "      <td>0.0</td>\n",
              "      <td>organic_search</td>\n",
              "    </tr>\n",
              "    <tr>\n",
              "      <th>1</th>\n",
              "      <td>a555fb36b9368110ede0f043dfc3b9a0</td>\n",
              "      <td>bbb7d7893a450660432ea6652310ebb7</td>\n",
              "      <td>car_accessories</td>\n",
              "      <td>industry</td>\n",
              "      <td>reseller</td>\n",
              "      <td>2018-04-04</td>\n",
              "      <td>2f08471dfb83baef522f952438a36f6e</td>\n",
              "      <td>0.0</td>\n",
              "      <td>referral</td>\n",
              "    </tr>\n",
              "    <tr>\n",
              "      <th>2</th>\n",
              "      <td>327174d3648a2d047e8940d7d15204ca</td>\n",
              "      <td>612170e34b97004b3ba37eae81836b4c</td>\n",
              "      <td>home_appliances</td>\n",
              "      <td>online_big</td>\n",
              "      <td>reseller</td>\n",
              "      <td>2018-04-03</td>\n",
              "      <td>1ceb590cd1e00c7ee95220971f82693d</td>\n",
              "      <td>0.0</td>\n",
              "      <td>organic_search</td>\n",
              "    </tr>\n",
              "    <tr>\n",
              "      <th>3</th>\n",
              "      <td>f5fee8f7da74f4887f5bcae2bafb6dd6</td>\n",
              "      <td>21e1781e36faf92725dde4730a88ca0f</td>\n",
              "      <td>food_drink</td>\n",
              "      <td>online_small</td>\n",
              "      <td>reseller</td>\n",
              "      <td>2018-01-14</td>\n",
              "      <td>22c29808c4f815213303f8933030604c</td>\n",
              "      <td>0.0</td>\n",
              "      <td>paid_search</td>\n",
              "    </tr>\n",
              "    <tr>\n",
              "      <th>4</th>\n",
              "      <td>ffe640179b554e295c167a2f6be528e0</td>\n",
              "      <td>ed8cb7b190ceb6067227478e48cf8dde</td>\n",
              "      <td>home_appliances</td>\n",
              "      <td>industry</td>\n",
              "      <td>manufacturer</td>\n",
              "      <td>2017-10-09</td>\n",
              "      <td>a0fbc0263cb98bdb0d72b9f9f283a172</td>\n",
              "      <td>0.0</td>\n",
              "      <td>unknown</td>\n",
              "    </tr>\n",
              "  </tbody>\n",
              "</table>\n",
              "</div>"
            ],
            "text/plain": [
              "                             mql_id                         seller_id  \\\n",
              "0  5420aad7fec3549a85876ba1c529bd84  2c43fb513632d29b3b58df74816f1b06   \n",
              "1  a555fb36b9368110ede0f043dfc3b9a0  bbb7d7893a450660432ea6652310ebb7   \n",
              "2  327174d3648a2d047e8940d7d15204ca  612170e34b97004b3ba37eae81836b4c   \n",
              "3  f5fee8f7da74f4887f5bcae2bafb6dd6  21e1781e36faf92725dde4730a88ca0f   \n",
              "4  ffe640179b554e295c167a2f6be528e0  ed8cb7b190ceb6067227478e48cf8dde   \n",
              "\n",
              "  business_segment      lead_type business_type first_contact_date  \\\n",
              "0              pet  online_medium      reseller         2018-02-21   \n",
              "1  car_accessories       industry      reseller         2018-04-04   \n",
              "2  home_appliances     online_big      reseller         2018-04-03   \n",
              "3       food_drink   online_small      reseller         2018-01-14   \n",
              "4  home_appliances       industry  manufacturer         2017-10-09   \n",
              "\n",
              "                    landing_page_id  declared_monthly_revenue          origin  \n",
              "0  b48ec5f3b04e9068441002a19df93c6c                       0.0  organic_search  \n",
              "1  2f08471dfb83baef522f952438a36f6e                       0.0        referral  \n",
              "2  1ceb590cd1e00c7ee95220971f82693d                       0.0  organic_search  \n",
              "3  22c29808c4f815213303f8933030604c                       0.0     paid_search  \n",
              "4  a0fbc0263cb98bdb0d72b9f9f283a172                       0.0         unknown  "
            ]
          },
          "execution_count": 14,
          "metadata": {},
          "output_type": "execute_result"
        }
      ],
      "source": [
        "# based on nunique mql we only combine those data by mql_id that th order already closed\n",
        "cols= [\n",
        "    'mql_id',\n",
        "    'seller_id',\n",
        "    'business_segment',\n",
        "    'lead_type',\n",
        "    'business_type',\n",
        "    'first_contact_date',\n",
        "    'landing_page_id',\n",
        "    'declared_monthly_revenue',\n",
        "    'origin'\n",
        "]\n",
        "\n",
        "data_marketing = pd.merge(\n",
        "    left= olist_closed_deals,\n",
        "    right= olist_marketing_qualified_leads,\n",
        "    on= 'mql_id',\n",
        "    how= 'left'\n",
        ")[cols]\n",
        "\n",
        "data_marketing.head(5)"
      ]
    },
    {
      "cell_type": "code",
      "execution_count": null,
      "id": "7d6b1bd7",
      "metadata": {
        "id": "7d6b1bd7",
        "outputId": "8efba73d-34f9-4e7e-bef4-204a7be2f083"
      },
      "outputs": [
        {
          "data": {
            "text/plain": [
              "(842, 9)"
            ]
          },
          "execution_count": 15,
          "metadata": {},
          "output_type": "execute_result"
        }
      ],
      "source": [
        "# check data shape\n",
        "data_marketing.shape"
      ]
    },
    {
      "cell_type": "code",
      "execution_count": null,
      "id": "b145a882",
      "metadata": {
        "id": "b145a882",
        "outputId": "fe6f6242-4283-4f02-9be5-310997090a99"
      },
      "outputs": [
        {
          "name": "stdout",
          "output_type": "stream",
          "text": [
            "842 \n",
            "\n",
            "842\n"
          ]
        }
      ],
      "source": [
        "# nunique of seller_id and mql_id\n",
        "print(data_marketing['mql_id'].nunique(),'\\n')\n",
        "print(data_marketing['seller_id'].nunique())"
      ]
    },
    {
      "cell_type": "markdown",
      "id": "1d50c463",
      "metadata": {
        "id": "1d50c463"
      },
      "source": [
        "## Combining"
      ]
    },
    {
      "cell_type": "code",
      "execution_count": null,
      "id": "285e5f28",
      "metadata": {
        "id": "285e5f28",
        "outputId": "23fcab49-6c3b-4b06-de85-e4f69bee5016"
      },
      "outputs": [
        {
          "data": {
            "text/html": [
              "<div>\n",
              "<style scoped>\n",
              "    .dataframe tbody tr th:only-of-type {\n",
              "        vertical-align: middle;\n",
              "    }\n",
              "\n",
              "    .dataframe tbody tr th {\n",
              "        vertical-align: top;\n",
              "    }\n",
              "\n",
              "    .dataframe thead th {\n",
              "        text-align: right;\n",
              "    }\n",
              "</style>\n",
              "<table border=\"1\" class=\"dataframe\">\n",
              "  <thead>\n",
              "    <tr style=\"text-align: right;\">\n",
              "      <th></th>\n",
              "      <th>mql_id</th>\n",
              "      <th>seller_id</th>\n",
              "      <th>seller_city</th>\n",
              "      <th>seller_state</th>\n",
              "      <th>business_segment</th>\n",
              "      <th>lead_type</th>\n",
              "      <th>business_type</th>\n",
              "      <th>first_contact_date</th>\n",
              "      <th>landing_page_id</th>\n",
              "      <th>declared_monthly_revenue</th>\n",
              "      <th>origin</th>\n",
              "      <th>total_trx</th>\n",
              "      <th>total_ordered</th>\n",
              "      <th>price</th>\n",
              "      <th>freight_value</th>\n",
              "    </tr>\n",
              "  </thead>\n",
              "  <tbody>\n",
              "    <tr>\n",
              "      <th>0</th>\n",
              "      <td>5420aad7fec3549a85876ba1c529bd84</td>\n",
              "      <td>2c43fb513632d29b3b58df74816f1b06</td>\n",
              "      <td>belo horizonte</td>\n",
              "      <td>MG</td>\n",
              "      <td>pet</td>\n",
              "      <td>online_medium</td>\n",
              "      <td>reseller</td>\n",
              "      <td>2018-02-21</td>\n",
              "      <td>b48ec5f3b04e9068441002a19df93c6c</td>\n",
              "      <td>0.0</td>\n",
              "      <td>organic_search</td>\n",
              "      <td>3.0</td>\n",
              "      <td>3.0</td>\n",
              "      <td>858.00</td>\n",
              "      <td>72.17</td>\n",
              "    </tr>\n",
              "    <tr>\n",
              "      <th>1</th>\n",
              "      <td>a555fb36b9368110ede0f043dfc3b9a0</td>\n",
              "      <td>bbb7d7893a450660432ea6652310ebb7</td>\n",
              "      <td>NaN</td>\n",
              "      <td>NaN</td>\n",
              "      <td>car_accessories</td>\n",
              "      <td>industry</td>\n",
              "      <td>reseller</td>\n",
              "      <td>2018-04-04</td>\n",
              "      <td>2f08471dfb83baef522f952438a36f6e</td>\n",
              "      <td>0.0</td>\n",
              "      <td>referral</td>\n",
              "      <td>NaN</td>\n",
              "      <td>NaN</td>\n",
              "      <td>NaN</td>\n",
              "      <td>NaN</td>\n",
              "    </tr>\n",
              "    <tr>\n",
              "      <th>2</th>\n",
              "      <td>327174d3648a2d047e8940d7d15204ca</td>\n",
              "      <td>612170e34b97004b3ba37eae81836b4c</td>\n",
              "      <td>novo hamburgo</td>\n",
              "      <td>RS</td>\n",
              "      <td>home_appliances</td>\n",
              "      <td>online_big</td>\n",
              "      <td>reseller</td>\n",
              "      <td>2018-04-03</td>\n",
              "      <td>1ceb590cd1e00c7ee95220971f82693d</td>\n",
              "      <td>0.0</td>\n",
              "      <td>organic_search</td>\n",
              "      <td>107.0</td>\n",
              "      <td>48.0</td>\n",
              "      <td>23065.02</td>\n",
              "      <td>2307.06</td>\n",
              "    </tr>\n",
              "    <tr>\n",
              "      <th>3</th>\n",
              "      <td>f5fee8f7da74f4887f5bcae2bafb6dd6</td>\n",
              "      <td>21e1781e36faf92725dde4730a88ca0f</td>\n",
              "      <td>NaN</td>\n",
              "      <td>NaN</td>\n",
              "      <td>food_drink</td>\n",
              "      <td>online_small</td>\n",
              "      <td>reseller</td>\n",
              "      <td>2018-01-14</td>\n",
              "      <td>22c29808c4f815213303f8933030604c</td>\n",
              "      <td>0.0</td>\n",
              "      <td>paid_search</td>\n",
              "      <td>NaN</td>\n",
              "      <td>NaN</td>\n",
              "      <td>NaN</td>\n",
              "      <td>NaN</td>\n",
              "    </tr>\n",
              "    <tr>\n",
              "      <th>4</th>\n",
              "      <td>ffe640179b554e295c167a2f6be528e0</td>\n",
              "      <td>ed8cb7b190ceb6067227478e48cf8dde</td>\n",
              "      <td>santos</td>\n",
              "      <td>SP</td>\n",
              "      <td>home_appliances</td>\n",
              "      <td>industry</td>\n",
              "      <td>manufacturer</td>\n",
              "      <td>2017-10-09</td>\n",
              "      <td>a0fbc0263cb98bdb0d72b9f9f283a172</td>\n",
              "      <td>0.0</td>\n",
              "      <td>unknown</td>\n",
              "      <td>15.0</td>\n",
              "      <td>10.0</td>\n",
              "      <td>573.50</td>\n",
              "      <td>242.71</td>\n",
              "    </tr>\n",
              "    <tr>\n",
              "      <th>...</th>\n",
              "      <td>...</td>\n",
              "      <td>...</td>\n",
              "      <td>...</td>\n",
              "      <td>...</td>\n",
              "      <td>...</td>\n",
              "      <td>...</td>\n",
              "      <td>...</td>\n",
              "      <td>...</td>\n",
              "      <td>...</td>\n",
              "      <td>...</td>\n",
              "      <td>...</td>\n",
              "      <td>...</td>\n",
              "      <td>...</td>\n",
              "      <td>...</td>\n",
              "      <td>...</td>\n",
              "    </tr>\n",
              "    <tr>\n",
              "      <th>837</th>\n",
              "      <td>df9a2abe2ad3f2d8758b675ac8331ecf</td>\n",
              "      <td>bfcc27719640628da877db48b672b169</td>\n",
              "      <td>NaN</td>\n",
              "      <td>NaN</td>\n",
              "      <td>home_decor</td>\n",
              "      <td>offline</td>\n",
              "      <td>reseller</td>\n",
              "      <td>2018-03-28</td>\n",
              "      <td>a7982125ff7aa3b2054c6e44f9d28522</td>\n",
              "      <td>0.0</td>\n",
              "      <td>organic_search</td>\n",
              "      <td>NaN</td>\n",
              "      <td>NaN</td>\n",
              "      <td>NaN</td>\n",
              "      <td>NaN</td>\n",
              "    </tr>\n",
              "    <tr>\n",
              "      <th>838</th>\n",
              "      <td>8723201570415eb23b4f095d8c20a27c</td>\n",
              "      <td>4a82eab98441aeb64566e2776c1fb2b6</td>\n",
              "      <td>NaN</td>\n",
              "      <td>NaN</td>\n",
              "      <td>construction_tools_house_garden</td>\n",
              "      <td>online_big</td>\n",
              "      <td>reseller</td>\n",
              "      <td>2018-05-18</td>\n",
              "      <td>b76ef37428e6799c421989521c0e5077</td>\n",
              "      <td>200000.0</td>\n",
              "      <td>organic_search</td>\n",
              "      <td>NaN</td>\n",
              "      <td>NaN</td>\n",
              "      <td>NaN</td>\n",
              "      <td>NaN</td>\n",
              "    </tr>\n",
              "    <tr>\n",
              "      <th>839</th>\n",
              "      <td>2e57665b8faf05c967a801eb5aedfa0a</td>\n",
              "      <td>55031883943971ca22db6894574cfe2c</td>\n",
              "      <td>NaN</td>\n",
              "      <td>NaN</td>\n",
              "      <td>computers</td>\n",
              "      <td>online_medium</td>\n",
              "      <td>reseller</td>\n",
              "      <td>2018-05-25</td>\n",
              "      <td>40dec9f3d5259a3d2dbcdab2114fae47</td>\n",
              "      <td>0.0</td>\n",
              "      <td>paid_search</td>\n",
              "      <td>NaN</td>\n",
              "      <td>NaN</td>\n",
              "      <td>NaN</td>\n",
              "      <td>NaN</td>\n",
              "    </tr>\n",
              "    <tr>\n",
              "      <th>840</th>\n",
              "      <td>40955be51cc85c5a5a6cdd12b19e9f10</td>\n",
              "      <td>c0e933c238e41f0cd459d6025ee9b364</td>\n",
              "      <td>NaN</td>\n",
              "      <td>NaN</td>\n",
              "      <td>pet</td>\n",
              "      <td>online_beginner</td>\n",
              "      <td>reseller</td>\n",
              "      <td>2018-02-04</td>\n",
              "      <td>88740e65d5d6b056e0cda098e1ea6313</td>\n",
              "      <td>0.0</td>\n",
              "      <td>social</td>\n",
              "      <td>NaN</td>\n",
              "      <td>NaN</td>\n",
              "      <td>NaN</td>\n",
              "      <td>NaN</td>\n",
              "    </tr>\n",
              "    <tr>\n",
              "      <th>841</th>\n",
              "      <td>8a6492305a5fbcdcdd1a7f5a90764c07</td>\n",
              "      <td>1bba9c94eb5c4e82fba9f7286fe81025</td>\n",
              "      <td>NaN</td>\n",
              "      <td>NaN</td>\n",
              "      <td>household_utilities</td>\n",
              "      <td>industry</td>\n",
              "      <td>manufacturer</td>\n",
              "      <td>2018-01-11</td>\n",
              "      <td>b76ef37428e6799c421989521c0e5077</td>\n",
              "      <td>0.0</td>\n",
              "      <td>direct_traffic</td>\n",
              "      <td>NaN</td>\n",
              "      <td>NaN</td>\n",
              "      <td>NaN</td>\n",
              "      <td>NaN</td>\n",
              "    </tr>\n",
              "  </tbody>\n",
              "</table>\n",
              "<p>842 rows × 15 columns</p>\n",
              "</div>"
            ],
            "text/plain": [
              "                               mql_id                         seller_id  \\\n",
              "0    5420aad7fec3549a85876ba1c529bd84  2c43fb513632d29b3b58df74816f1b06   \n",
              "1    a555fb36b9368110ede0f043dfc3b9a0  bbb7d7893a450660432ea6652310ebb7   \n",
              "2    327174d3648a2d047e8940d7d15204ca  612170e34b97004b3ba37eae81836b4c   \n",
              "3    f5fee8f7da74f4887f5bcae2bafb6dd6  21e1781e36faf92725dde4730a88ca0f   \n",
              "4    ffe640179b554e295c167a2f6be528e0  ed8cb7b190ceb6067227478e48cf8dde   \n",
              "..                                ...                               ...   \n",
              "837  df9a2abe2ad3f2d8758b675ac8331ecf  bfcc27719640628da877db48b672b169   \n",
              "838  8723201570415eb23b4f095d8c20a27c  4a82eab98441aeb64566e2776c1fb2b6   \n",
              "839  2e57665b8faf05c967a801eb5aedfa0a  55031883943971ca22db6894574cfe2c   \n",
              "840  40955be51cc85c5a5a6cdd12b19e9f10  c0e933c238e41f0cd459d6025ee9b364   \n",
              "841  8a6492305a5fbcdcdd1a7f5a90764c07  1bba9c94eb5c4e82fba9f7286fe81025   \n",
              "\n",
              "        seller_city seller_state                 business_segment  \\\n",
              "0    belo horizonte           MG                              pet   \n",
              "1               NaN          NaN                  car_accessories   \n",
              "2     novo hamburgo           RS                  home_appliances   \n",
              "3               NaN          NaN                       food_drink   \n",
              "4            santos           SP                  home_appliances   \n",
              "..              ...          ...                              ...   \n",
              "837             NaN          NaN                       home_decor   \n",
              "838             NaN          NaN  construction_tools_house_garden   \n",
              "839             NaN          NaN                        computers   \n",
              "840             NaN          NaN                              pet   \n",
              "841             NaN          NaN              household_utilities   \n",
              "\n",
              "           lead_type business_type first_contact_date  \\\n",
              "0      online_medium      reseller         2018-02-21   \n",
              "1           industry      reseller         2018-04-04   \n",
              "2         online_big      reseller         2018-04-03   \n",
              "3       online_small      reseller         2018-01-14   \n",
              "4           industry  manufacturer         2017-10-09   \n",
              "..               ...           ...                ...   \n",
              "837          offline      reseller         2018-03-28   \n",
              "838       online_big      reseller         2018-05-18   \n",
              "839    online_medium      reseller         2018-05-25   \n",
              "840  online_beginner      reseller         2018-02-04   \n",
              "841         industry  manufacturer         2018-01-11   \n",
              "\n",
              "                      landing_page_id  declared_monthly_revenue  \\\n",
              "0    b48ec5f3b04e9068441002a19df93c6c                       0.0   \n",
              "1    2f08471dfb83baef522f952438a36f6e                       0.0   \n",
              "2    1ceb590cd1e00c7ee95220971f82693d                       0.0   \n",
              "3    22c29808c4f815213303f8933030604c                       0.0   \n",
              "4    a0fbc0263cb98bdb0d72b9f9f283a172                       0.0   \n",
              "..                                ...                       ...   \n",
              "837  a7982125ff7aa3b2054c6e44f9d28522                       0.0   \n",
              "838  b76ef37428e6799c421989521c0e5077                  200000.0   \n",
              "839  40dec9f3d5259a3d2dbcdab2114fae47                       0.0   \n",
              "840  88740e65d5d6b056e0cda098e1ea6313                       0.0   \n",
              "841  b76ef37428e6799c421989521c0e5077                       0.0   \n",
              "\n",
              "             origin  total_trx  total_ordered     price  freight_value  \n",
              "0    organic_search        3.0            3.0    858.00          72.17  \n",
              "1          referral        NaN            NaN       NaN            NaN  \n",
              "2    organic_search      107.0           48.0  23065.02        2307.06  \n",
              "3       paid_search        NaN            NaN       NaN            NaN  \n",
              "4           unknown       15.0           10.0    573.50         242.71  \n",
              "..              ...        ...            ...       ...            ...  \n",
              "837  organic_search        NaN            NaN       NaN            NaN  \n",
              "838  organic_search        NaN            NaN       NaN            NaN  \n",
              "839     paid_search        NaN            NaN       NaN            NaN  \n",
              "840          social        NaN            NaN       NaN            NaN  \n",
              "841  direct_traffic        NaN            NaN       NaN            NaN  \n",
              "\n",
              "[842 rows x 15 columns]"
            ]
          },
          "execution_count": 17,
          "metadata": {},
          "output_type": "execute_result"
        }
      ],
      "source": [
        "cols= [\n",
        "    'mql_id',\n",
        "    'seller_id',\n",
        "    'seller_city',\n",
        "    'seller_state',\n",
        "    'business_segment',\n",
        "    'lead_type',\n",
        "    'business_type',\n",
        "    'first_contact_date',\n",
        "    'landing_page_id',\n",
        "    'declared_monthly_revenue',\n",
        "    'origin',\n",
        "    'total_trx',\n",
        "    'total_ordered',\n",
        "    'price',\n",
        "    'freight_value'\n",
        "]\n",
        "\n",
        "data = pd.merge(\n",
        "    left= data_marketing,\n",
        "    right= data_seller,\n",
        "    on= 'seller_id',\n",
        "    how= 'left'\n",
        ")[cols]\n",
        "\n",
        "data"
      ]
    },
    {
      "cell_type": "markdown",
      "id": "3a89711a",
      "metadata": {
        "id": "3a89711a"
      },
      "source": [
        "# Data Description"
      ]
    },
    {
      "cell_type": "code",
      "execution_count": null,
      "id": "d68d20d9",
      "metadata": {
        "id": "d68d20d9",
        "outputId": "2032a9ea-793f-4764-bc90-1597db4c41a9"
      },
      "outputs": [
        {
          "name": "stdout",
          "output_type": "stream",
          "text": [
            "========== Data Understanding & Profilling ==========\n",
            "\n",
            "\n",
            "There is 842 observation and 15 columns on dataset\n",
            "\n",
            "\n",
            "<class 'pandas.core.frame.DataFrame'>\n",
            "Int64Index: 842 entries, 0 to 841\n",
            "Data columns (total 15 columns):\n",
            " #   Column                    Non-Null Count  Dtype  \n",
            "---  ------                    --------------  -----  \n",
            " 0   mql_id                    842 non-null    object \n",
            " 1   seller_id                 842 non-null    object \n",
            " 2   seller_city               380 non-null    object \n",
            " 3   seller_state              380 non-null    object \n",
            " 4   business_segment          841 non-null    object \n",
            " 5   lead_type                 836 non-null    object \n",
            " 6   business_type             832 non-null    object \n",
            " 7   first_contact_date        842 non-null    object \n",
            " 8   landing_page_id           842 non-null    object \n",
            " 9   declared_monthly_revenue  842 non-null    float64\n",
            " 10  origin                    828 non-null    object \n",
            " 11  total_trx                 380 non-null    float64\n",
            " 12  total_ordered             380 non-null    float64\n",
            " 13  price                     380 non-null    float64\n",
            " 14  freight_value             380 non-null    float64\n",
            "dtypes: float64(5), object(10)\n",
            "memory usage: 105.2+ KB\n",
            "Data Info: None\n",
            "\n",
            "\n",
            "Numerical Columns:  Index(['declared_monthly_revenue', 'total_trx', 'total_ordered', 'price',\n",
            "       'freight_value'],\n",
            "      dtype='object')\n",
            "\n",
            "\n",
            "Categorical Columns: Index(['mql_id', 'seller_id', 'seller_city', 'seller_state',\n",
            "       'business_segment', 'lead_type', 'business_type', 'first_contact_date',\n",
            "       'landing_page_id', 'origin'],\n",
            "      dtype='object')\n",
            "\n",
            "\n",
            "Statistical Description of Data:        declared_monthly_revenue   total_trx  total_ordered          price  \\\n",
            "count              8.420000e+02  380.000000     380.000000     380.000000   \n",
            "mean               7.337768e+04   11.889474       5.613158    1781.188105   \n",
            "std                1.744799e+06   34.566572       7.919472    6800.937058   \n",
            "min                0.000000e+00    1.000000       1.000000      18.900000   \n",
            "25%                0.000000e+00    2.000000       1.000000     179.650000   \n",
            "50%                0.000000e+00    4.000000       3.000000     547.405000   \n",
            "75%                0.000000e+00   11.000000       6.250000    1286.000000   \n",
            "max                5.000000e+07  565.000000      66.000000  113628.970000   \n",
            "\n",
            "       freight_value  \n",
            "count     380.000000  \n",
            "mean      260.431974  \n",
            "std       579.320147  \n",
            "min         7.420000  \n",
            "25%        39.085000  \n",
            "50%       104.580000  \n",
            "75%       249.640000  \n",
            "max      8632.050000  \n",
            "\n",
            " \n",
            "\n"
          ]
        }
      ],
      "source": [
        "# data understanding and profilling\n",
        "print(\"=\"*10,\"Data Understanding & Profilling\",\"=\"*10)\n",
        "print(\"\\n\")\n",
        "\n",
        "# data shape\n",
        "print(\"There is\", data.shape[0], \"observation and\", data.shape[1], \"columns on dataset\")\n",
        "print(\"\\n\")\n",
        "\n",
        "# Data Information \n",
        "print(\"Data Info:\", data.info())\n",
        "print(\"\\n\")\n",
        "\n",
        "# Numerical and Categorical Column\n",
        "num= data.select_dtypes('number').columns\n",
        "cat = data.select_dtypes('object').columns\n",
        "\n",
        "print(f'Numerical Columns:  {data[num].columns}')\n",
        "print('\\n')\n",
        "print(f'Categorical Columns: {data[cat].columns}')\n",
        "print('\\n')\n",
        "\n",
        "# Statistical Summary of The Data\n",
        "print(\"Statistical Description of Data:\", data.describe())\n",
        "print('\\n','\\n')"
      ]
    },
    {
      "cell_type": "markdown",
      "id": "41085481",
      "metadata": {
        "id": "41085481"
      },
      "source": [
        "# Feature Engineering"
      ]
    },
    {
      "cell_type": "markdown",
      "id": "af4460b1",
      "metadata": {
        "id": "af4460b1"
      },
      "source": [
        "## Data Inspection & Exploration"
      ]
    },
    {
      "cell_type": "code",
      "execution_count": null,
      "id": "1aed4eb7",
      "metadata": {
        "id": "1aed4eb7"
      },
      "outputs": [],
      "source": [
        "# change Date column to Date-type\n",
        "data['first_contact_date'] = pd.to_datetime(data['first_contact_date'])"
      ]
    },
    {
      "cell_type": "code",
      "execution_count": null,
      "id": "f94ad931",
      "metadata": {
        "id": "f94ad931",
        "outputId": "f43cb20b-55fe-4229-9a93-60bfde3ac3f4"
      },
      "outputs": [
        {
          "data": {
            "text/html": [
              "<div>\n",
              "<style scoped>\n",
              "    .dataframe tbody tr th:only-of-type {\n",
              "        vertical-align: middle;\n",
              "    }\n",
              "\n",
              "    .dataframe tbody tr th {\n",
              "        vertical-align: top;\n",
              "    }\n",
              "\n",
              "    .dataframe thead th {\n",
              "        text-align: right;\n",
              "    }\n",
              "</style>\n",
              "<table border=\"1\" class=\"dataframe\">\n",
              "  <thead>\n",
              "    <tr style=\"text-align: right;\">\n",
              "      <th></th>\n",
              "      <th>mql_id</th>\n",
              "      <th>seller_id</th>\n",
              "      <th>seller_city</th>\n",
              "      <th>seller_state</th>\n",
              "      <th>business_segment</th>\n",
              "      <th>lead_type</th>\n",
              "      <th>business_type</th>\n",
              "      <th>first_contact_date</th>\n",
              "      <th>landing_page_id</th>\n",
              "      <th>declared_monthly_revenue</th>\n",
              "      <th>origin</th>\n",
              "      <th>total_trx</th>\n",
              "      <th>total_ordered</th>\n",
              "      <th>price</th>\n",
              "      <th>freight_value</th>\n",
              "    </tr>\n",
              "  </thead>\n",
              "  <tbody>\n",
              "    <tr>\n",
              "      <th>0</th>\n",
              "      <td>5420aad7fec3549a85876ba1c529bd84</td>\n",
              "      <td>2c43fb513632d29b3b58df74816f1b06</td>\n",
              "      <td>belo horizonte</td>\n",
              "      <td>MG</td>\n",
              "      <td>pet</td>\n",
              "      <td>online_medium</td>\n",
              "      <td>reseller</td>\n",
              "      <td>2018-02-21</td>\n",
              "      <td>b48ec5f3b04e9068441002a19df93c6c</td>\n",
              "      <td>0.0</td>\n",
              "      <td>organic_search</td>\n",
              "      <td>3.0</td>\n",
              "      <td>3.0</td>\n",
              "      <td>858.00</td>\n",
              "      <td>72.17</td>\n",
              "    </tr>\n",
              "    <tr>\n",
              "      <th>1</th>\n",
              "      <td>a555fb36b9368110ede0f043dfc3b9a0</td>\n",
              "      <td>bbb7d7893a450660432ea6652310ebb7</td>\n",
              "      <td>NaN</td>\n",
              "      <td>NaN</td>\n",
              "      <td>car_accessories</td>\n",
              "      <td>industry</td>\n",
              "      <td>reseller</td>\n",
              "      <td>2018-04-04</td>\n",
              "      <td>2f08471dfb83baef522f952438a36f6e</td>\n",
              "      <td>0.0</td>\n",
              "      <td>referral</td>\n",
              "      <td>NaN</td>\n",
              "      <td>NaN</td>\n",
              "      <td>NaN</td>\n",
              "      <td>NaN</td>\n",
              "    </tr>\n",
              "    <tr>\n",
              "      <th>2</th>\n",
              "      <td>327174d3648a2d047e8940d7d15204ca</td>\n",
              "      <td>612170e34b97004b3ba37eae81836b4c</td>\n",
              "      <td>novo hamburgo</td>\n",
              "      <td>RS</td>\n",
              "      <td>home_appliances</td>\n",
              "      <td>online_big</td>\n",
              "      <td>reseller</td>\n",
              "      <td>2018-04-03</td>\n",
              "      <td>1ceb590cd1e00c7ee95220971f82693d</td>\n",
              "      <td>0.0</td>\n",
              "      <td>organic_search</td>\n",
              "      <td>107.0</td>\n",
              "      <td>48.0</td>\n",
              "      <td>23065.02</td>\n",
              "      <td>2307.06</td>\n",
              "    </tr>\n",
              "    <tr>\n",
              "      <th>3</th>\n",
              "      <td>f5fee8f7da74f4887f5bcae2bafb6dd6</td>\n",
              "      <td>21e1781e36faf92725dde4730a88ca0f</td>\n",
              "      <td>NaN</td>\n",
              "      <td>NaN</td>\n",
              "      <td>food_drink</td>\n",
              "      <td>online_small</td>\n",
              "      <td>reseller</td>\n",
              "      <td>2018-01-14</td>\n",
              "      <td>22c29808c4f815213303f8933030604c</td>\n",
              "      <td>0.0</td>\n",
              "      <td>paid_search</td>\n",
              "      <td>NaN</td>\n",
              "      <td>NaN</td>\n",
              "      <td>NaN</td>\n",
              "      <td>NaN</td>\n",
              "    </tr>\n",
              "    <tr>\n",
              "      <th>4</th>\n",
              "      <td>ffe640179b554e295c167a2f6be528e0</td>\n",
              "      <td>ed8cb7b190ceb6067227478e48cf8dde</td>\n",
              "      <td>santos</td>\n",
              "      <td>SP</td>\n",
              "      <td>home_appliances</td>\n",
              "      <td>industry</td>\n",
              "      <td>manufacturer</td>\n",
              "      <td>2017-10-09</td>\n",
              "      <td>a0fbc0263cb98bdb0d72b9f9f283a172</td>\n",
              "      <td>0.0</td>\n",
              "      <td>unknown</td>\n",
              "      <td>15.0</td>\n",
              "      <td>10.0</td>\n",
              "      <td>573.50</td>\n",
              "      <td>242.71</td>\n",
              "    </tr>\n",
              "    <tr>\n",
              "      <th>...</th>\n",
              "      <td>...</td>\n",
              "      <td>...</td>\n",
              "      <td>...</td>\n",
              "      <td>...</td>\n",
              "      <td>...</td>\n",
              "      <td>...</td>\n",
              "      <td>...</td>\n",
              "      <td>...</td>\n",
              "      <td>...</td>\n",
              "      <td>...</td>\n",
              "      <td>...</td>\n",
              "      <td>...</td>\n",
              "      <td>...</td>\n",
              "      <td>...</td>\n",
              "      <td>...</td>\n",
              "    </tr>\n",
              "    <tr>\n",
              "      <th>837</th>\n",
              "      <td>df9a2abe2ad3f2d8758b675ac8331ecf</td>\n",
              "      <td>bfcc27719640628da877db48b672b169</td>\n",
              "      <td>NaN</td>\n",
              "      <td>NaN</td>\n",
              "      <td>home_decor</td>\n",
              "      <td>offline</td>\n",
              "      <td>reseller</td>\n",
              "      <td>2018-03-28</td>\n",
              "      <td>a7982125ff7aa3b2054c6e44f9d28522</td>\n",
              "      <td>0.0</td>\n",
              "      <td>organic_search</td>\n",
              "      <td>NaN</td>\n",
              "      <td>NaN</td>\n",
              "      <td>NaN</td>\n",
              "      <td>NaN</td>\n",
              "    </tr>\n",
              "    <tr>\n",
              "      <th>838</th>\n",
              "      <td>8723201570415eb23b4f095d8c20a27c</td>\n",
              "      <td>4a82eab98441aeb64566e2776c1fb2b6</td>\n",
              "      <td>NaN</td>\n",
              "      <td>NaN</td>\n",
              "      <td>construction_tools_house_garden</td>\n",
              "      <td>online_big</td>\n",
              "      <td>reseller</td>\n",
              "      <td>2018-05-18</td>\n",
              "      <td>b76ef37428e6799c421989521c0e5077</td>\n",
              "      <td>200000.0</td>\n",
              "      <td>organic_search</td>\n",
              "      <td>NaN</td>\n",
              "      <td>NaN</td>\n",
              "      <td>NaN</td>\n",
              "      <td>NaN</td>\n",
              "    </tr>\n",
              "    <tr>\n",
              "      <th>839</th>\n",
              "      <td>2e57665b8faf05c967a801eb5aedfa0a</td>\n",
              "      <td>55031883943971ca22db6894574cfe2c</td>\n",
              "      <td>NaN</td>\n",
              "      <td>NaN</td>\n",
              "      <td>computers</td>\n",
              "      <td>online_medium</td>\n",
              "      <td>reseller</td>\n",
              "      <td>2018-05-25</td>\n",
              "      <td>40dec9f3d5259a3d2dbcdab2114fae47</td>\n",
              "      <td>0.0</td>\n",
              "      <td>paid_search</td>\n",
              "      <td>NaN</td>\n",
              "      <td>NaN</td>\n",
              "      <td>NaN</td>\n",
              "      <td>NaN</td>\n",
              "    </tr>\n",
              "    <tr>\n",
              "      <th>840</th>\n",
              "      <td>40955be51cc85c5a5a6cdd12b19e9f10</td>\n",
              "      <td>c0e933c238e41f0cd459d6025ee9b364</td>\n",
              "      <td>NaN</td>\n",
              "      <td>NaN</td>\n",
              "      <td>pet</td>\n",
              "      <td>online_beginner</td>\n",
              "      <td>reseller</td>\n",
              "      <td>2018-02-04</td>\n",
              "      <td>88740e65d5d6b056e0cda098e1ea6313</td>\n",
              "      <td>0.0</td>\n",
              "      <td>social</td>\n",
              "      <td>NaN</td>\n",
              "      <td>NaN</td>\n",
              "      <td>NaN</td>\n",
              "      <td>NaN</td>\n",
              "    </tr>\n",
              "    <tr>\n",
              "      <th>841</th>\n",
              "      <td>8a6492305a5fbcdcdd1a7f5a90764c07</td>\n",
              "      <td>1bba9c94eb5c4e82fba9f7286fe81025</td>\n",
              "      <td>NaN</td>\n",
              "      <td>NaN</td>\n",
              "      <td>household_utilities</td>\n",
              "      <td>industry</td>\n",
              "      <td>manufacturer</td>\n",
              "      <td>2018-01-11</td>\n",
              "      <td>b76ef37428e6799c421989521c0e5077</td>\n",
              "      <td>0.0</td>\n",
              "      <td>direct_traffic</td>\n",
              "      <td>NaN</td>\n",
              "      <td>NaN</td>\n",
              "      <td>NaN</td>\n",
              "      <td>NaN</td>\n",
              "    </tr>\n",
              "  </tbody>\n",
              "</table>\n",
              "<p>842 rows × 15 columns</p>\n",
              "</div>"
            ],
            "text/plain": [
              "                               mql_id                         seller_id  \\\n",
              "0    5420aad7fec3549a85876ba1c529bd84  2c43fb513632d29b3b58df74816f1b06   \n",
              "1    a555fb36b9368110ede0f043dfc3b9a0  bbb7d7893a450660432ea6652310ebb7   \n",
              "2    327174d3648a2d047e8940d7d15204ca  612170e34b97004b3ba37eae81836b4c   \n",
              "3    f5fee8f7da74f4887f5bcae2bafb6dd6  21e1781e36faf92725dde4730a88ca0f   \n",
              "4    ffe640179b554e295c167a2f6be528e0  ed8cb7b190ceb6067227478e48cf8dde   \n",
              "..                                ...                               ...   \n",
              "837  df9a2abe2ad3f2d8758b675ac8331ecf  bfcc27719640628da877db48b672b169   \n",
              "838  8723201570415eb23b4f095d8c20a27c  4a82eab98441aeb64566e2776c1fb2b6   \n",
              "839  2e57665b8faf05c967a801eb5aedfa0a  55031883943971ca22db6894574cfe2c   \n",
              "840  40955be51cc85c5a5a6cdd12b19e9f10  c0e933c238e41f0cd459d6025ee9b364   \n",
              "841  8a6492305a5fbcdcdd1a7f5a90764c07  1bba9c94eb5c4e82fba9f7286fe81025   \n",
              "\n",
              "        seller_city seller_state                 business_segment  \\\n",
              "0    belo horizonte           MG                              pet   \n",
              "1               NaN          NaN                  car_accessories   \n",
              "2     novo hamburgo           RS                  home_appliances   \n",
              "3               NaN          NaN                       food_drink   \n",
              "4            santos           SP                  home_appliances   \n",
              "..              ...          ...                              ...   \n",
              "837             NaN          NaN                       home_decor   \n",
              "838             NaN          NaN  construction_tools_house_garden   \n",
              "839             NaN          NaN                        computers   \n",
              "840             NaN          NaN                              pet   \n",
              "841             NaN          NaN              household_utilities   \n",
              "\n",
              "           lead_type business_type first_contact_date  \\\n",
              "0      online_medium      reseller         2018-02-21   \n",
              "1           industry      reseller         2018-04-04   \n",
              "2         online_big      reseller         2018-04-03   \n",
              "3       online_small      reseller         2018-01-14   \n",
              "4           industry  manufacturer         2017-10-09   \n",
              "..               ...           ...                ...   \n",
              "837          offline      reseller         2018-03-28   \n",
              "838       online_big      reseller         2018-05-18   \n",
              "839    online_medium      reseller         2018-05-25   \n",
              "840  online_beginner      reseller         2018-02-04   \n",
              "841         industry  manufacturer         2018-01-11   \n",
              "\n",
              "                      landing_page_id  declared_monthly_revenue  \\\n",
              "0    b48ec5f3b04e9068441002a19df93c6c                       0.0   \n",
              "1    2f08471dfb83baef522f952438a36f6e                       0.0   \n",
              "2    1ceb590cd1e00c7ee95220971f82693d                       0.0   \n",
              "3    22c29808c4f815213303f8933030604c                       0.0   \n",
              "4    a0fbc0263cb98bdb0d72b9f9f283a172                       0.0   \n",
              "..                                ...                       ...   \n",
              "837  a7982125ff7aa3b2054c6e44f9d28522                       0.0   \n",
              "838  b76ef37428e6799c421989521c0e5077                  200000.0   \n",
              "839  40dec9f3d5259a3d2dbcdab2114fae47                       0.0   \n",
              "840  88740e65d5d6b056e0cda098e1ea6313                       0.0   \n",
              "841  b76ef37428e6799c421989521c0e5077                       0.0   \n",
              "\n",
              "             origin  total_trx  total_ordered     price  freight_value  \n",
              "0    organic_search        3.0            3.0    858.00          72.17  \n",
              "1          referral        NaN            NaN       NaN            NaN  \n",
              "2    organic_search      107.0           48.0  23065.02        2307.06  \n",
              "3       paid_search        NaN            NaN       NaN            NaN  \n",
              "4           unknown       15.0           10.0    573.50         242.71  \n",
              "..              ...        ...            ...       ...            ...  \n",
              "837  organic_search        NaN            NaN       NaN            NaN  \n",
              "838  organic_search        NaN            NaN       NaN            NaN  \n",
              "839     paid_search        NaN            NaN       NaN            NaN  \n",
              "840          social        NaN            NaN       NaN            NaN  \n",
              "841  direct_traffic        NaN            NaN       NaN            NaN  \n",
              "\n",
              "[842 rows x 15 columns]"
            ]
          },
          "execution_count": 20,
          "metadata": {},
          "output_type": "execute_result"
        }
      ],
      "source": [
        "data"
      ]
    },
    {
      "cell_type": "code",
      "execution_count": null,
      "id": "940d7c74",
      "metadata": {
        "id": "940d7c74"
      },
      "outputs": [],
      "source": [
        "# calculate number of transfaction based on seller_id, landing_page_id, date, and origin\n",
        "aggregated_data = data.groupby(['seller_id', 'first_contact_date', 'landing_page_id', 'origin'],as_index=False).agg(\n",
        "    {\n",
        "        'declared_monthly_revenue': 'sum',\n",
        "        'total_trx': 'sum',\n",
        "        'total_ordered': 'sum',\n",
        "        'price': 'sum',\n",
        "        'freight_value': 'sum'\n",
        "    }\n",
        ").sort_values(by=['declared_monthly_revenue'], ascending = False)"
      ]
    },
    {
      "cell_type": "code",
      "execution_count": null,
      "id": "1aed749b",
      "metadata": {
        "id": "1aed749b",
        "outputId": "82f4bf48-e3f8-4281-bc84-c9f24a883065"
      },
      "outputs": [
        {
          "data": {
            "text/html": [
              "<div>\n",
              "<style scoped>\n",
              "    .dataframe tbody tr th:only-of-type {\n",
              "        vertical-align: middle;\n",
              "    }\n",
              "\n",
              "    .dataframe tbody tr th {\n",
              "        vertical-align: top;\n",
              "    }\n",
              "\n",
              "    .dataframe thead th {\n",
              "        text-align: right;\n",
              "    }\n",
              "</style>\n",
              "<table border=\"1\" class=\"dataframe\">\n",
              "  <thead>\n",
              "    <tr style=\"text-align: right;\">\n",
              "      <th></th>\n",
              "      <th>seller_id</th>\n",
              "      <th>first_contact_date</th>\n",
              "      <th>landing_page_id</th>\n",
              "      <th>origin</th>\n",
              "      <th>declared_monthly_revenue</th>\n",
              "      <th>total_trx</th>\n",
              "      <th>total_ordered</th>\n",
              "      <th>price</th>\n",
              "      <th>freight_value</th>\n",
              "    </tr>\n",
              "  </thead>\n",
              "  <tbody>\n",
              "    <tr>\n",
              "      <th>347</th>\n",
              "      <td>6fcc97197c64771f3c18aea3aa9d3913</td>\n",
              "      <td>2018-05-22</td>\n",
              "      <td>22c29808c4f815213303f8933030604c</td>\n",
              "      <td>organic_search</td>\n",
              "      <td>50000000.0</td>\n",
              "      <td>0.0</td>\n",
              "      <td>0.0</td>\n",
              "      <td>0.0</td>\n",
              "      <td>0.0</td>\n",
              "    </tr>\n",
              "    <tr>\n",
              "      <th>494</th>\n",
              "      <td>9966324e28b7fa38165d2d3d12d53b7f</td>\n",
              "      <td>2018-03-24</td>\n",
              "      <td>fbc24da54d531c6204ae2d17b1090bb1</td>\n",
              "      <td>paid_search</td>\n",
              "      <td>8000000.0</td>\n",
              "      <td>0.0</td>\n",
              "      <td>0.0</td>\n",
              "      <td>0.0</td>\n",
              "      <td>0.0</td>\n",
              "    </tr>\n",
              "    <tr>\n",
              "      <th>639</th>\n",
              "      <td>c33e6d3ad32fd5bec1b0f2522f668213</td>\n",
              "      <td>2018-04-28</td>\n",
              "      <td>22c29808c4f815213303f8933030604c</td>\n",
              "      <td>organic_search</td>\n",
              "      <td>500000.0</td>\n",
              "      <td>0.0</td>\n",
              "      <td>0.0</td>\n",
              "      <td>0.0</td>\n",
              "      <td>0.0</td>\n",
              "    </tr>\n",
              "    <tr>\n",
              "      <th>64</th>\n",
              "      <td>157497483bb7876340ea4441c9bd1774</td>\n",
              "      <td>2017-09-18</td>\n",
              "      <td>22c29808c4f815213303f8933030604c</td>\n",
              "      <td>organic_search</td>\n",
              "      <td>300000.0</td>\n",
              "      <td>0.0</td>\n",
              "      <td>0.0</td>\n",
              "      <td>0.0</td>\n",
              "      <td>0.0</td>\n",
              "    </tr>\n",
              "    <tr>\n",
              "      <th>391</th>\n",
              "      <td>7c7d0dee362960b1d9b01fe7284e19ba</td>\n",
              "      <td>2017-08-17</td>\n",
              "      <td>1722481ac9e5371e5099dea226b5421d</td>\n",
              "      <td>social</td>\n",
              "      <td>300000.0</td>\n",
              "      <td>0.0</td>\n",
              "      <td>0.0</td>\n",
              "      <td>0.0</td>\n",
              "      <td>0.0</td>\n",
              "    </tr>\n",
              "    <tr>\n",
              "      <th>37</th>\n",
              "      <td>0d7d5bca59d45d750fb7913b974e9d08</td>\n",
              "      <td>2018-01-11</td>\n",
              "      <td>b76ef37428e6799c421989521c0e5077</td>\n",
              "      <td>unknown</td>\n",
              "      <td>250000.0</td>\n",
              "      <td>0.0</td>\n",
              "      <td>0.0</td>\n",
              "      <td>0.0</td>\n",
              "      <td>0.0</td>\n",
              "    </tr>\n",
              "    <tr>\n",
              "      <th>450</th>\n",
              "      <td>8c6d188ef073e289887bc52bc37f3e61</td>\n",
              "      <td>2018-03-06</td>\n",
              "      <td>b6885f18d203a61176418c1fb3764815</td>\n",
              "      <td>paid_search</td>\n",
              "      <td>250000.0</td>\n",
              "      <td>0.0</td>\n",
              "      <td>0.0</td>\n",
              "      <td>0.0</td>\n",
              "      <td>0.0</td>\n",
              "    </tr>\n",
              "    <tr>\n",
              "      <th>166</th>\n",
              "      <td>366b6b05f39997f102dc5179de14d43c</td>\n",
              "      <td>2018-02-02</td>\n",
              "      <td>22c29808c4f815213303f8933030604c</td>\n",
              "      <td>paid_search</td>\n",
              "      <td>210000.0</td>\n",
              "      <td>0.0</td>\n",
              "      <td>0.0</td>\n",
              "      <td>0.0</td>\n",
              "      <td>0.0</td>\n",
              "    </tr>\n",
              "    <tr>\n",
              "      <th>223</th>\n",
              "      <td>4a82eab98441aeb64566e2776c1fb2b6</td>\n",
              "      <td>2018-05-18</td>\n",
              "      <td>b76ef37428e6799c421989521c0e5077</td>\n",
              "      <td>organic_search</td>\n",
              "      <td>200000.0</td>\n",
              "      <td>0.0</td>\n",
              "      <td>0.0</td>\n",
              "      <td>0.0</td>\n",
              "      <td>0.0</td>\n",
              "    </tr>\n",
              "    <tr>\n",
              "      <th>246</th>\n",
              "      <td>5181ea7b0d346ed14c5c07f0ff22b2b4</td>\n",
              "      <td>2018-02-18</td>\n",
              "      <td>40dec9f3d5259a3d2dbcdab2114fae47</td>\n",
              "      <td>paid_search</td>\n",
              "      <td>180000.0</td>\n",
              "      <td>0.0</td>\n",
              "      <td>0.0</td>\n",
              "      <td>0.0</td>\n",
              "      <td>0.0</td>\n",
              "    </tr>\n",
              "  </tbody>\n",
              "</table>\n",
              "</div>"
            ],
            "text/plain": [
              "                            seller_id first_contact_date  \\\n",
              "347  6fcc97197c64771f3c18aea3aa9d3913         2018-05-22   \n",
              "494  9966324e28b7fa38165d2d3d12d53b7f         2018-03-24   \n",
              "639  c33e6d3ad32fd5bec1b0f2522f668213         2018-04-28   \n",
              "64   157497483bb7876340ea4441c9bd1774         2017-09-18   \n",
              "391  7c7d0dee362960b1d9b01fe7284e19ba         2017-08-17   \n",
              "37   0d7d5bca59d45d750fb7913b974e9d08         2018-01-11   \n",
              "450  8c6d188ef073e289887bc52bc37f3e61         2018-03-06   \n",
              "166  366b6b05f39997f102dc5179de14d43c         2018-02-02   \n",
              "223  4a82eab98441aeb64566e2776c1fb2b6         2018-05-18   \n",
              "246  5181ea7b0d346ed14c5c07f0ff22b2b4         2018-02-18   \n",
              "\n",
              "                      landing_page_id          origin  \\\n",
              "347  22c29808c4f815213303f8933030604c  organic_search   \n",
              "494  fbc24da54d531c6204ae2d17b1090bb1     paid_search   \n",
              "639  22c29808c4f815213303f8933030604c  organic_search   \n",
              "64   22c29808c4f815213303f8933030604c  organic_search   \n",
              "391  1722481ac9e5371e5099dea226b5421d          social   \n",
              "37   b76ef37428e6799c421989521c0e5077         unknown   \n",
              "450  b6885f18d203a61176418c1fb3764815     paid_search   \n",
              "166  22c29808c4f815213303f8933030604c     paid_search   \n",
              "223  b76ef37428e6799c421989521c0e5077  organic_search   \n",
              "246  40dec9f3d5259a3d2dbcdab2114fae47     paid_search   \n",
              "\n",
              "     declared_monthly_revenue  total_trx  total_ordered  price  freight_value  \n",
              "347                50000000.0        0.0            0.0    0.0            0.0  \n",
              "494                 8000000.0        0.0            0.0    0.0            0.0  \n",
              "639                  500000.0        0.0            0.0    0.0            0.0  \n",
              "64                   300000.0        0.0            0.0    0.0            0.0  \n",
              "391                  300000.0        0.0            0.0    0.0            0.0  \n",
              "37                   250000.0        0.0            0.0    0.0            0.0  \n",
              "450                  250000.0        0.0            0.0    0.0            0.0  \n",
              "166                  210000.0        0.0            0.0    0.0            0.0  \n",
              "223                  200000.0        0.0            0.0    0.0            0.0  \n",
              "246                  180000.0        0.0            0.0    0.0            0.0  "
            ]
          },
          "execution_count": 22,
          "metadata": {},
          "output_type": "execute_result"
        }
      ],
      "source": [
        "# check dataset\n",
        "aggregated_data.head(10)"
      ]
    },
    {
      "cell_type": "code",
      "execution_count": null,
      "id": "4a293601",
      "metadata": {
        "id": "4a293601",
        "outputId": "1bf7ba52-152c-4129-a07d-45974ec13dba"
      },
      "outputs": [
        {
          "data": {
            "text/plain": [
              "seller_id                   828\n",
              "first_contact_date          194\n",
              "landing_page_id             126\n",
              "origin                       10\n",
              "declared_monthly_revenue     26\n",
              "total_trx                    52\n",
              "total_ordered                31\n",
              "price                       360\n",
              "freight_value               372\n",
              "dtype: int64"
            ]
          },
          "execution_count": 23,
          "metadata": {},
          "output_type": "execute_result"
        }
      ],
      "source": [
        "# check landing_page_id nunique\n",
        "aggregated_data.nunique()"
      ]
    },
    {
      "cell_type": "code",
      "execution_count": null,
      "id": "4f56cb1b",
      "metadata": {
        "id": "4f56cb1b",
        "outputId": "370b8e87-92d4-4b42-d3b9-cd89ffcbd11a"
      },
      "outputs": [
        {
          "data": {
            "text/html": [
              "<div>\n",
              "<style scoped>\n",
              "    .dataframe tbody tr th:only-of-type {\n",
              "        vertical-align: middle;\n",
              "    }\n",
              "\n",
              "    .dataframe tbody tr th {\n",
              "        vertical-align: top;\n",
              "    }\n",
              "\n",
              "    .dataframe thead th {\n",
              "        text-align: right;\n",
              "    }\n",
              "</style>\n",
              "<table border=\"1\" class=\"dataframe\">\n",
              "  <thead>\n",
              "    <tr style=\"text-align: right;\">\n",
              "      <th></th>\n",
              "      <th>landing_page_id</th>\n",
              "      <th>origin</th>\n",
              "      <th>size</th>\n",
              "    </tr>\n",
              "  </thead>\n",
              "  <tbody>\n",
              "    <tr>\n",
              "      <th>149</th>\n",
              "      <td>b76ef37428e6799c421989521c0e5077</td>\n",
              "      <td>unknown</td>\n",
              "      <td>134</td>\n",
              "    </tr>\n",
              "    <tr>\n",
              "      <th>36</th>\n",
              "      <td>22c29808c4f815213303f8933030604c</td>\n",
              "      <td>organic_search</td>\n",
              "      <td>112</td>\n",
              "    </tr>\n",
              "    <tr>\n",
              "      <th>78</th>\n",
              "      <td>40dec9f3d5259a3d2dbcdab2114fae47</td>\n",
              "      <td>paid_search</td>\n",
              "      <td>50</td>\n",
              "    </tr>\n",
              "    <tr>\n",
              "      <th>164</th>\n",
              "      <td>ce1a65abd0973638f1c887a6efcfa82d</td>\n",
              "      <td>organic_search</td>\n",
              "      <td>34</td>\n",
              "    </tr>\n",
              "    <tr>\n",
              "      <th>121</th>\n",
              "      <td>88740e65d5d6b056e0cda098e1ea6313</td>\n",
              "      <td>social</td>\n",
              "      <td>30</td>\n",
              "    </tr>\n",
              "    <tr>\n",
              "      <th>...</th>\n",
              "      <td>...</td>\n",
              "      <td>...</td>\n",
              "      <td>...</td>\n",
              "    </tr>\n",
              "    <tr>\n",
              "      <th>83</th>\n",
              "      <td>4e24f6443807ad2eba56754b0dc91140</td>\n",
              "      <td>direct_traffic</td>\n",
              "      <td>1</td>\n",
              "    </tr>\n",
              "    <tr>\n",
              "      <th>84</th>\n",
              "      <td>4e82dd1f6d00626bda0723eef0a269a6</td>\n",
              "      <td>direct_traffic</td>\n",
              "      <td>1</td>\n",
              "    </tr>\n",
              "    <tr>\n",
              "      <th>85</th>\n",
              "      <td>50f87b85a731cec08d8380b08c573ed3</td>\n",
              "      <td>organic_search</td>\n",
              "      <td>1</td>\n",
              "    </tr>\n",
              "    <tr>\n",
              "      <th>86</th>\n",
              "      <td>54d5e01ab35155d4bd8cf723fc6f04a0</td>\n",
              "      <td>organic_search</td>\n",
              "      <td>1</td>\n",
              "    </tr>\n",
              "    <tr>\n",
              "      <th>207</th>\n",
              "      <td>ffc62d6945fd1423539ec6d96326c37c</td>\n",
              "      <td>display</td>\n",
              "      <td>1</td>\n",
              "    </tr>\n",
              "  </tbody>\n",
              "</table>\n",
              "<p>208 rows × 3 columns</p>\n",
              "</div>"
            ],
            "text/plain": [
              "                      landing_page_id          origin  size\n",
              "149  b76ef37428e6799c421989521c0e5077         unknown   134\n",
              "36   22c29808c4f815213303f8933030604c  organic_search   112\n",
              "78   40dec9f3d5259a3d2dbcdab2114fae47     paid_search    50\n",
              "164  ce1a65abd0973638f1c887a6efcfa82d  organic_search    34\n",
              "121  88740e65d5d6b056e0cda098e1ea6313          social    30\n",
              "..                                ...             ...   ...\n",
              "83   4e24f6443807ad2eba56754b0dc91140  direct_traffic     1\n",
              "84   4e82dd1f6d00626bda0723eef0a269a6  direct_traffic     1\n",
              "85   50f87b85a731cec08d8380b08c573ed3  organic_search     1\n",
              "86   54d5e01ab35155d4bd8cf723fc6f04a0  organic_search     1\n",
              "207  ffc62d6945fd1423539ec6d96326c37c         display     1\n",
              "\n",
              "[208 rows x 3 columns]"
            ]
          },
          "execution_count": 24,
          "metadata": {},
          "output_type": "execute_result"
        }
      ],
      "source": [
        "# aggregated data on origin and landing page\n",
        "aggregated_data.groupby(['landing_page_id', 'origin'], as_index=False).size().sort_values(by=['size'], ascending = False)"
      ]
    },
    {
      "cell_type": "markdown",
      "id": "b313559f",
      "metadata": {
        "id": "b313559f"
      },
      "source": [
        "## Missing and Duplicated Value"
      ]
    },
    {
      "cell_type": "code",
      "execution_count": null,
      "id": "d7f23813",
      "metadata": {
        "id": "d7f23813",
        "outputId": "236e44f0-8629-4f01-fb54-44415ee43a75"
      },
      "outputs": [
        {
          "data": {
            "text/plain": [
              "mql_id                        0\n",
              "seller_id                     0\n",
              "seller_city                 462\n",
              "seller_state                462\n",
              "business_segment              1\n",
              "lead_type                     6\n",
              "business_type                10\n",
              "first_contact_date            0\n",
              "landing_page_id               0\n",
              "declared_monthly_revenue      0\n",
              "origin                       14\n",
              "total_trx                   462\n",
              "total_ordered               462\n",
              "price                       462\n",
              "freight_value               462\n",
              "dtype: int64"
            ]
          },
          "execution_count": 25,
          "metadata": {},
          "output_type": "execute_result"
        }
      ],
      "source": [
        "data.isnull().sum()"
      ]
    },
    {
      "cell_type": "code",
      "execution_count": null,
      "id": "369889c3",
      "metadata": {
        "id": "369889c3"
      },
      "outputs": [],
      "source": [
        "clean_data = data.dropna()"
      ]
    },
    {
      "cell_type": "code",
      "execution_count": null,
      "id": "0702203c",
      "metadata": {
        "id": "0702203c",
        "outputId": "01598a91-6827-457e-d963-6e8b469e361d"
      },
      "outputs": [
        {
          "data": {
            "text/plain": [
              "(370, 15)"
            ]
          },
          "execution_count": 27,
          "metadata": {},
          "output_type": "execute_result"
        }
      ],
      "source": [
        "clean_data.shape"
      ]
    },
    {
      "cell_type": "markdown",
      "id": "14fea002",
      "metadata": {
        "id": "14fea002"
      },
      "source": [
        "# Attribution Analysis"
      ]
    },
    {
      "cell_type": "code",
      "execution_count": null,
      "id": "692d95f8",
      "metadata": {
        "id": "692d95f8",
        "outputId": "f163e171-5f8b-4ada-db9c-c857c9793453"
      },
      "outputs": [
        {
          "data": {
            "text/html": [
              "<div>\n",
              "<style scoped>\n",
              "    .dataframe tbody tr th:only-of-type {\n",
              "        vertical-align: middle;\n",
              "    }\n",
              "\n",
              "    .dataframe tbody tr th {\n",
              "        vertical-align: top;\n",
              "    }\n",
              "\n",
              "    .dataframe thead th {\n",
              "        text-align: right;\n",
              "    }\n",
              "</style>\n",
              "<table border=\"1\" class=\"dataframe\">\n",
              "  <thead>\n",
              "    <tr style=\"text-align: right;\">\n",
              "      <th></th>\n",
              "      <th>seller_id</th>\n",
              "      <th>first_contact_date</th>\n",
              "      <th>landing_page_id</th>\n",
              "      <th>origin</th>\n",
              "      <th>declared_monthly_revenue</th>\n",
              "      <th>total_trx</th>\n",
              "      <th>total_ordered</th>\n",
              "      <th>price</th>\n",
              "      <th>freight_value</th>\n",
              "    </tr>\n",
              "  </thead>\n",
              "  <tbody>\n",
              "    <tr>\n",
              "      <th>347</th>\n",
              "      <td>6fcc97197c64771f3c18aea3aa9d3913</td>\n",
              "      <td>2018-05-22</td>\n",
              "      <td>22c29808c4f815213303f8933030604c</td>\n",
              "      <td>organic_search</td>\n",
              "      <td>50000000.0</td>\n",
              "      <td>0.0</td>\n",
              "      <td>0.0</td>\n",
              "      <td>0.0</td>\n",
              "      <td>0.0</td>\n",
              "    </tr>\n",
              "    <tr>\n",
              "      <th>494</th>\n",
              "      <td>9966324e28b7fa38165d2d3d12d53b7f</td>\n",
              "      <td>2018-03-24</td>\n",
              "      <td>fbc24da54d531c6204ae2d17b1090bb1</td>\n",
              "      <td>paid_search</td>\n",
              "      <td>8000000.0</td>\n",
              "      <td>0.0</td>\n",
              "      <td>0.0</td>\n",
              "      <td>0.0</td>\n",
              "      <td>0.0</td>\n",
              "    </tr>\n",
              "    <tr>\n",
              "      <th>639</th>\n",
              "      <td>c33e6d3ad32fd5bec1b0f2522f668213</td>\n",
              "      <td>2018-04-28</td>\n",
              "      <td>22c29808c4f815213303f8933030604c</td>\n",
              "      <td>organic_search</td>\n",
              "      <td>500000.0</td>\n",
              "      <td>0.0</td>\n",
              "      <td>0.0</td>\n",
              "      <td>0.0</td>\n",
              "      <td>0.0</td>\n",
              "    </tr>\n",
              "    <tr>\n",
              "      <th>64</th>\n",
              "      <td>157497483bb7876340ea4441c9bd1774</td>\n",
              "      <td>2017-09-18</td>\n",
              "      <td>22c29808c4f815213303f8933030604c</td>\n",
              "      <td>organic_search</td>\n",
              "      <td>300000.0</td>\n",
              "      <td>0.0</td>\n",
              "      <td>0.0</td>\n",
              "      <td>0.0</td>\n",
              "      <td>0.0</td>\n",
              "    </tr>\n",
              "    <tr>\n",
              "      <th>391</th>\n",
              "      <td>7c7d0dee362960b1d9b01fe7284e19ba</td>\n",
              "      <td>2017-08-17</td>\n",
              "      <td>1722481ac9e5371e5099dea226b5421d</td>\n",
              "      <td>social</td>\n",
              "      <td>300000.0</td>\n",
              "      <td>0.0</td>\n",
              "      <td>0.0</td>\n",
              "      <td>0.0</td>\n",
              "      <td>0.0</td>\n",
              "    </tr>\n",
              "    <tr>\n",
              "      <th>37</th>\n",
              "      <td>0d7d5bca59d45d750fb7913b974e9d08</td>\n",
              "      <td>2018-01-11</td>\n",
              "      <td>b76ef37428e6799c421989521c0e5077</td>\n",
              "      <td>unknown</td>\n",
              "      <td>250000.0</td>\n",
              "      <td>0.0</td>\n",
              "      <td>0.0</td>\n",
              "      <td>0.0</td>\n",
              "      <td>0.0</td>\n",
              "    </tr>\n",
              "    <tr>\n",
              "      <th>450</th>\n",
              "      <td>8c6d188ef073e289887bc52bc37f3e61</td>\n",
              "      <td>2018-03-06</td>\n",
              "      <td>b6885f18d203a61176418c1fb3764815</td>\n",
              "      <td>paid_search</td>\n",
              "      <td>250000.0</td>\n",
              "      <td>0.0</td>\n",
              "      <td>0.0</td>\n",
              "      <td>0.0</td>\n",
              "      <td>0.0</td>\n",
              "    </tr>\n",
              "    <tr>\n",
              "      <th>166</th>\n",
              "      <td>366b6b05f39997f102dc5179de14d43c</td>\n",
              "      <td>2018-02-02</td>\n",
              "      <td>22c29808c4f815213303f8933030604c</td>\n",
              "      <td>paid_search</td>\n",
              "      <td>210000.0</td>\n",
              "      <td>0.0</td>\n",
              "      <td>0.0</td>\n",
              "      <td>0.0</td>\n",
              "      <td>0.0</td>\n",
              "    </tr>\n",
              "    <tr>\n",
              "      <th>223</th>\n",
              "      <td>4a82eab98441aeb64566e2776c1fb2b6</td>\n",
              "      <td>2018-05-18</td>\n",
              "      <td>b76ef37428e6799c421989521c0e5077</td>\n",
              "      <td>organic_search</td>\n",
              "      <td>200000.0</td>\n",
              "      <td>0.0</td>\n",
              "      <td>0.0</td>\n",
              "      <td>0.0</td>\n",
              "      <td>0.0</td>\n",
              "    </tr>\n",
              "    <tr>\n",
              "      <th>246</th>\n",
              "      <td>5181ea7b0d346ed14c5c07f0ff22b2b4</td>\n",
              "      <td>2018-02-18</td>\n",
              "      <td>40dec9f3d5259a3d2dbcdab2114fae47</td>\n",
              "      <td>paid_search</td>\n",
              "      <td>180000.0</td>\n",
              "      <td>0.0</td>\n",
              "      <td>0.0</td>\n",
              "      <td>0.0</td>\n",
              "      <td>0.0</td>\n",
              "    </tr>\n",
              "  </tbody>\n",
              "</table>\n",
              "</div>"
            ],
            "text/plain": [
              "                            seller_id first_contact_date  \\\n",
              "347  6fcc97197c64771f3c18aea3aa9d3913         2018-05-22   \n",
              "494  9966324e28b7fa38165d2d3d12d53b7f         2018-03-24   \n",
              "639  c33e6d3ad32fd5bec1b0f2522f668213         2018-04-28   \n",
              "64   157497483bb7876340ea4441c9bd1774         2017-09-18   \n",
              "391  7c7d0dee362960b1d9b01fe7284e19ba         2017-08-17   \n",
              "37   0d7d5bca59d45d750fb7913b974e9d08         2018-01-11   \n",
              "450  8c6d188ef073e289887bc52bc37f3e61         2018-03-06   \n",
              "166  366b6b05f39997f102dc5179de14d43c         2018-02-02   \n",
              "223  4a82eab98441aeb64566e2776c1fb2b6         2018-05-18   \n",
              "246  5181ea7b0d346ed14c5c07f0ff22b2b4         2018-02-18   \n",
              "\n",
              "                      landing_page_id          origin  \\\n",
              "347  22c29808c4f815213303f8933030604c  organic_search   \n",
              "494  fbc24da54d531c6204ae2d17b1090bb1     paid_search   \n",
              "639  22c29808c4f815213303f8933030604c  organic_search   \n",
              "64   22c29808c4f815213303f8933030604c  organic_search   \n",
              "391  1722481ac9e5371e5099dea226b5421d          social   \n",
              "37   b76ef37428e6799c421989521c0e5077         unknown   \n",
              "450  b6885f18d203a61176418c1fb3764815     paid_search   \n",
              "166  22c29808c4f815213303f8933030604c     paid_search   \n",
              "223  b76ef37428e6799c421989521c0e5077  organic_search   \n",
              "246  40dec9f3d5259a3d2dbcdab2114fae47     paid_search   \n",
              "\n",
              "     declared_monthly_revenue  total_trx  total_ordered  price  freight_value  \n",
              "347                50000000.0        0.0            0.0    0.0            0.0  \n",
              "494                 8000000.0        0.0            0.0    0.0            0.0  \n",
              "639                  500000.0        0.0            0.0    0.0            0.0  \n",
              "64                   300000.0        0.0            0.0    0.0            0.0  \n",
              "391                  300000.0        0.0            0.0    0.0            0.0  \n",
              "37                   250000.0        0.0            0.0    0.0            0.0  \n",
              "450                  250000.0        0.0            0.0    0.0            0.0  \n",
              "166                  210000.0        0.0            0.0    0.0            0.0  \n",
              "223                  200000.0        0.0            0.0    0.0            0.0  \n",
              "246                  180000.0        0.0            0.0    0.0            0.0  "
            ]
          },
          "execution_count": 28,
          "metadata": {},
          "output_type": "execute_result"
        }
      ],
      "source": [
        "aggregated_data.head(10)"
      ]
    },
    {
      "cell_type": "code",
      "execution_count": null,
      "id": "941638b5",
      "metadata": {
        "id": "941638b5",
        "outputId": "097ed60d-c5e7-4680-dbc4-dfed9480dc87"
      },
      "outputs": [
        {
          "name": "stdout",
          "output_type": "stream",
          "text": [
            "<class 'pandas.core.frame.DataFrame'>\n",
            "Int64Index: 828 entries, 347 to 827\n",
            "Data columns (total 9 columns):\n",
            " #   Column                    Non-Null Count  Dtype         \n",
            "---  ------                    --------------  -----         \n",
            " 0   seller_id                 828 non-null    object        \n",
            " 1   first_contact_date        828 non-null    datetime64[ns]\n",
            " 2   landing_page_id           828 non-null    object        \n",
            " 3   origin                    828 non-null    object        \n",
            " 4   declared_monthly_revenue  828 non-null    float64       \n",
            " 5   total_trx                 828 non-null    float64       \n",
            " 6   total_ordered             828 non-null    float64       \n",
            " 7   price                     828 non-null    float64       \n",
            " 8   freight_value             828 non-null    float64       \n",
            "dtypes: datetime64[ns](1), float64(5), object(3)\n",
            "memory usage: 64.7+ KB\n"
          ]
        }
      ],
      "source": [
        "aggregated_data.info()"
      ]
    },
    {
      "cell_type": "code",
      "execution_count": null,
      "id": "0761cdb9",
      "metadata": {
        "id": "0761cdb9",
        "outputId": "472c03b8-31df-4e9e-f87f-034a67102260"
      },
      "outputs": [
        {
          "data": {
            "text/plain": [
              "(828, 9)"
            ]
          },
          "execution_count": 30,
          "metadata": {},
          "output_type": "execute_result"
        }
      ],
      "source": [
        "# check shape\n",
        "aggregated_data.shape"
      ]
    },
    {
      "cell_type": "code",
      "execution_count": null,
      "id": "6d4990c2",
      "metadata": {
        "id": "6d4990c2"
      },
      "outputs": [],
      "source": [
        "channel_attribute_value = aggregated_data.assign(\n",
        "    n_events = 0\n",
        ").groupby(\n",
        "    ['landing_page_id', 'origin'], as_index=False\n",
        ").agg({\n",
        "    'n_events': 'size',\n",
        "    'total_trx': 'sum',\n",
        "    'total_ordered': 'sum',\n",
        "    'price': 'sum',\n",
        "    'freight_value': 'sum',\n",
        "    'seller_id' : 'nunique'\n",
        "}).rename(\n",
        "    columns={\"seller_id\":\"total_seller\"}\n",
        ").assign(\n",
        "    revenue_per_conversion = lambda x: x['total_trx']/x['n_events']\n",
        ").sort_values(by=['total_trx'], ascending=False).copy()"
      ]
    },
    {
      "cell_type": "code",
      "execution_count": null,
      "id": "2d0e4ba0",
      "metadata": {
        "id": "2d0e4ba0",
        "outputId": "79976b7f-bca9-4814-ab62-238cd5299ee3"
      },
      "outputs": [
        {
          "data": {
            "text/html": [
              "<div>\n",
              "<style scoped>\n",
              "    .dataframe tbody tr th:only-of-type {\n",
              "        vertical-align: middle;\n",
              "    }\n",
              "\n",
              "    .dataframe tbody tr th {\n",
              "        vertical-align: top;\n",
              "    }\n",
              "\n",
              "    .dataframe thead th {\n",
              "        text-align: right;\n",
              "    }\n",
              "</style>\n",
              "<table border=\"1\" class=\"dataframe\">\n",
              "  <thead>\n",
              "    <tr style=\"text-align: right;\">\n",
              "      <th></th>\n",
              "      <th>landing_page_id</th>\n",
              "      <th>origin</th>\n",
              "      <th>n_events</th>\n",
              "      <th>total_trx</th>\n",
              "      <th>total_ordered</th>\n",
              "      <th>price</th>\n",
              "      <th>freight_value</th>\n",
              "      <th>total_seller</th>\n",
              "      <th>revenue_per_conversion</th>\n",
              "    </tr>\n",
              "  </thead>\n",
              "  <tbody>\n",
              "    <tr>\n",
              "      <th>149</th>\n",
              "      <td>b76ef37428e6799c421989521c0e5077</td>\n",
              "      <td>unknown</td>\n",
              "      <td>134</td>\n",
              "      <td>1150.0</td>\n",
              "      <td>362.0</td>\n",
              "      <td>201745.20</td>\n",
              "      <td>22406.99</td>\n",
              "      <td>134</td>\n",
              "      <td>8.582090</td>\n",
              "    </tr>\n",
              "    <tr>\n",
              "      <th>36</th>\n",
              "      <td>22c29808c4f815213303f8933030604c</td>\n",
              "      <td>organic_search</td>\n",
              "      <td>112</td>\n",
              "      <td>484.0</td>\n",
              "      <td>288.0</td>\n",
              "      <td>113394.23</td>\n",
              "      <td>11140.76</td>\n",
              "      <td>112</td>\n",
              "      <td>4.321429</td>\n",
              "    </tr>\n",
              "    <tr>\n",
              "      <th>38</th>\n",
              "      <td>22c29808c4f815213303f8933030604c</td>\n",
              "      <td>paid_search</td>\n",
              "      <td>20</td>\n",
              "      <td>373.0</td>\n",
              "      <td>130.0</td>\n",
              "      <td>46367.79</td>\n",
              "      <td>6358.98</td>\n",
              "      <td>20</td>\n",
              "      <td>18.650000</td>\n",
              "    </tr>\n",
              "    <tr>\n",
              "      <th>164</th>\n",
              "      <td>ce1a65abd0973638f1c887a6efcfa82d</td>\n",
              "      <td>organic_search</td>\n",
              "      <td>34</td>\n",
              "      <td>230.0</td>\n",
              "      <td>131.0</td>\n",
              "      <td>17447.60</td>\n",
              "      <td>4457.45</td>\n",
              "      <td>34</td>\n",
              "      <td>6.764706</td>\n",
              "    </tr>\n",
              "    <tr>\n",
              "      <th>78</th>\n",
              "      <td>40dec9f3d5259a3d2dbcdab2114fae47</td>\n",
              "      <td>paid_search</td>\n",
              "      <td>50</td>\n",
              "      <td>230.0</td>\n",
              "      <td>132.0</td>\n",
              "      <td>32299.73</td>\n",
              "      <td>5576.82</td>\n",
              "      <td>50</td>\n",
              "      <td>4.600000</td>\n",
              "    </tr>\n",
              "    <tr>\n",
              "      <th>...</th>\n",
              "      <td>...</td>\n",
              "      <td>...</td>\n",
              "      <td>...</td>\n",
              "      <td>...</td>\n",
              "      <td>...</td>\n",
              "      <td>...</td>\n",
              "      <td>...</td>\n",
              "      <td>...</td>\n",
              "      <td>...</td>\n",
              "    </tr>\n",
              "    <tr>\n",
              "      <th>76</th>\n",
              "      <td>40dec9f3d5259a3d2dbcdab2114fae47</td>\n",
              "      <td>direct_traffic</td>\n",
              "      <td>1</td>\n",
              "      <td>0.0</td>\n",
              "      <td>0.0</td>\n",
              "      <td>0.00</td>\n",
              "      <td>0.00</td>\n",
              "      <td>1</td>\n",
              "      <td>0.000000</td>\n",
              "    </tr>\n",
              "    <tr>\n",
              "      <th>72</th>\n",
              "      <td>3c5cc1a2e1d86abfce2a16a1bcc80e26</td>\n",
              "      <td>organic_search</td>\n",
              "      <td>1</td>\n",
              "      <td>0.0</td>\n",
              "      <td>0.0</td>\n",
              "      <td>0.00</td>\n",
              "      <td>0.00</td>\n",
              "      <td>1</td>\n",
              "      <td>0.000000</td>\n",
              "    </tr>\n",
              "    <tr>\n",
              "      <th>70</th>\n",
              "      <td>37cf94070e940a694969304de58debe1</td>\n",
              "      <td>unknown</td>\n",
              "      <td>1</td>\n",
              "      <td>0.0</td>\n",
              "      <td>0.0</td>\n",
              "      <td>0.00</td>\n",
              "      <td>0.00</td>\n",
              "      <td>1</td>\n",
              "      <td>0.000000</td>\n",
              "    </tr>\n",
              "    <tr>\n",
              "      <th>67</th>\n",
              "      <td>36120633c8737035fbabf079082f4ec1</td>\n",
              "      <td>organic_search</td>\n",
              "      <td>1</td>\n",
              "      <td>0.0</td>\n",
              "      <td>0.0</td>\n",
              "      <td>0.00</td>\n",
              "      <td>0.00</td>\n",
              "      <td>1</td>\n",
              "      <td>0.000000</td>\n",
              "    </tr>\n",
              "    <tr>\n",
              "      <th>207</th>\n",
              "      <td>ffc62d6945fd1423539ec6d96326c37c</td>\n",
              "      <td>display</td>\n",
              "      <td>1</td>\n",
              "      <td>0.0</td>\n",
              "      <td>0.0</td>\n",
              "      <td>0.00</td>\n",
              "      <td>0.00</td>\n",
              "      <td>1</td>\n",
              "      <td>0.000000</td>\n",
              "    </tr>\n",
              "  </tbody>\n",
              "</table>\n",
              "<p>208 rows × 9 columns</p>\n",
              "</div>"
            ],
            "text/plain": [
              "                      landing_page_id          origin  n_events  total_trx  \\\n",
              "149  b76ef37428e6799c421989521c0e5077         unknown       134     1150.0   \n",
              "36   22c29808c4f815213303f8933030604c  organic_search       112      484.0   \n",
              "38   22c29808c4f815213303f8933030604c     paid_search        20      373.0   \n",
              "164  ce1a65abd0973638f1c887a6efcfa82d  organic_search        34      230.0   \n",
              "78   40dec9f3d5259a3d2dbcdab2114fae47     paid_search        50      230.0   \n",
              "..                                ...             ...       ...        ...   \n",
              "76   40dec9f3d5259a3d2dbcdab2114fae47  direct_traffic         1        0.0   \n",
              "72   3c5cc1a2e1d86abfce2a16a1bcc80e26  organic_search         1        0.0   \n",
              "70   37cf94070e940a694969304de58debe1         unknown         1        0.0   \n",
              "67   36120633c8737035fbabf079082f4ec1  organic_search         1        0.0   \n",
              "207  ffc62d6945fd1423539ec6d96326c37c         display         1        0.0   \n",
              "\n",
              "     total_ordered      price  freight_value  total_seller  \\\n",
              "149          362.0  201745.20       22406.99           134   \n",
              "36           288.0  113394.23       11140.76           112   \n",
              "38           130.0   46367.79        6358.98            20   \n",
              "164          131.0   17447.60        4457.45            34   \n",
              "78           132.0   32299.73        5576.82            50   \n",
              "..             ...        ...            ...           ...   \n",
              "76             0.0       0.00           0.00             1   \n",
              "72             0.0       0.00           0.00             1   \n",
              "70             0.0       0.00           0.00             1   \n",
              "67             0.0       0.00           0.00             1   \n",
              "207            0.0       0.00           0.00             1   \n",
              "\n",
              "     revenue_per_conversion  \n",
              "149                8.582090  \n",
              "36                 4.321429  \n",
              "38                18.650000  \n",
              "164                6.764706  \n",
              "78                 4.600000  \n",
              "..                      ...  \n",
              "76                 0.000000  \n",
              "72                 0.000000  \n",
              "70                 0.000000  \n",
              "67                 0.000000  \n",
              "207                0.000000  \n",
              "\n",
              "[208 rows x 9 columns]"
            ]
          },
          "execution_count": 32,
          "metadata": {},
          "output_type": "execute_result"
        }
      ],
      "source": [
        "# check channel attribution value\n",
        "channel_attribute_value"
      ]
    },
    {
      "cell_type": "code",
      "execution_count": null,
      "id": "194afa7d",
      "metadata": {
        "id": "194afa7d"
      },
      "outputs": [],
      "source": [
        "# create channel source\n",
        "channel_attribute_value['channel_source'] = channel_attribute_value['origin'].str.cat(channel_attribute_value[['landing_page_id']], sep='-')"
      ]
    },
    {
      "cell_type": "code",
      "execution_count": null,
      "id": "2e9b1565",
      "metadata": {
        "id": "2e9b1565",
        "outputId": "ce7546c9-f2c5-476c-8b01-5b1af9f93c39"
      },
      "outputs": [
        {
          "data": {
            "text/plain": [
              "<Figure size 72000x3600 with 0 Axes>"
            ]
          },
          "metadata": {},
          "output_type": "display_data"
        },
        {
          "data": {
            "image/png": "[encoded data removed]",
            "text/plain": [
              "<Figure size 432x288 with 1 Axes>"
            ]
          },
          "metadata": {
            "needs_background": "light"
          },
          "output_type": "display_data"
        }
      ],
      "source": [
        "# visualization\n",
        "plt.figure(figsize=(1000,50))\n",
        "channel_attribute_value[['channel_source', 'revenue_per_conversion']].sort_values(\n",
        "  by = ['revenue_per_conversion'],\n",
        "  ascending = True \n",
        ").plot(\n",
        "    x = 'channel_source', \n",
        "    y = 'revenue_per_conversion', \n",
        "    kind = 'barh',\n",
        "    title = 'Average Revenue per Channel',\n",
        "    xlabel = 'Channel',\n",
        "    ylabel = 'Revenue per Conversion'\n",
        ")\n",
        "plt.show()"
      ]
    },
    {
      "cell_type": "markdown",
      "id": "f4e47865",
      "metadata": {
        "id": "f4e47865"
      },
      "source": [
        "it's such a mess visualization. Of course it is not our false since the landing page data is in the link form. Because of that, let's jump right in to the Model"
      ]
    },
    {
      "cell_type": "markdown",
      "id": "85468df8",
      "metadata": {
        "id": "85468df8"
      },
      "source": [
        "# Channel Attribution Model"
      ]
    },
    {
      "cell_type": "markdown",
      "id": "ffa85d62",
      "metadata": {
        "id": "ffa85d62"
      },
      "source": [
        "## Heuristic Model"
      ]
    },
    {
      "cell_type": "code",
      "execution_count": null,
      "id": "46b8f97a",
      "metadata": {
        "id": "46b8f97a",
        "outputId": "7cf21a81-8dbb-4976-dd2c-4bb95dbb70b6"
      },
      "outputs": [
        {
          "data": {
            "text/plain": [
              "Index(['mql_id', 'seller_id', 'seller_city', 'seller_state',\n",
              "       'business_segment', 'lead_type', 'business_type', 'first_contact_date',\n",
              "       'landing_page_id', 'declared_monthly_revenue', 'origin', 'total_trx',\n",
              "       'total_ordered', 'price', 'freight_value'],\n",
              "      dtype='object')"
            ]
          },
          "execution_count": 35,
          "metadata": {},
          "output_type": "execute_result"
        }
      ],
      "source": [
        "data.columns"
      ]
    },
    {
      "cell_type": "code",
      "execution_count": null,
      "id": "02a2eaaf",
      "metadata": {
        "id": "02a2eaaf"
      },
      "outputs": [],
      "source": [
        "# data preprocessing\n",
        "data['total_trx'].fillna(0, inplace=True)\n",
        "data['freight_value'].fillna(0, inplace=True)\n",
        "data['has_transaction'] = data.total_trx.apply(lambda x: True if x > 0 else False)"
      ]
    },
    {
      "cell_type": "code",
      "execution_count": null,
      "id": "37e27b9c",
      "metadata": {
        "id": "37e27b9c"
      },
      "outputs": [],
      "source": [
        "# define data for model\n",
        "data_for_model = data[['seller_id', 'origin', 'first_contact_date', 'total_trx', 'freight_value', 'has_transaction']]"
      ]
    },
    {
      "cell_type": "code",
      "execution_count": null,
      "id": "32d7b243",
      "metadata": {
        "id": "32d7b243",
        "outputId": "89eaf8bb-07ad-4d9e-e224-c16fb98de862"
      },
      "outputs": [
        {
          "data": {
            "text/html": [
              "<div>\n",
              "<style scoped>\n",
              "    .dataframe tbody tr th:only-of-type {\n",
              "        vertical-align: middle;\n",
              "    }\n",
              "\n",
              "    .dataframe tbody tr th {\n",
              "        vertical-align: top;\n",
              "    }\n",
              "\n",
              "    .dataframe thead th {\n",
              "        text-align: right;\n",
              "    }\n",
              "</style>\n",
              "<table border=\"1\" class=\"dataframe\">\n",
              "  <thead>\n",
              "    <tr style=\"text-align: right;\">\n",
              "      <th></th>\n",
              "      <th>seller_id</th>\n",
              "      <th>origin</th>\n",
              "      <th>first_contact_date</th>\n",
              "      <th>total_trx</th>\n",
              "      <th>freight_value</th>\n",
              "      <th>has_transaction</th>\n",
              "    </tr>\n",
              "  </thead>\n",
              "  <tbody>\n",
              "    <tr>\n",
              "      <th>0</th>\n",
              "      <td>2c43fb513632d29b3b58df74816f1b06</td>\n",
              "      <td>organic_search</td>\n",
              "      <td>2018-02-21</td>\n",
              "      <td>3.0</td>\n",
              "      <td>72.17</td>\n",
              "      <td>True</td>\n",
              "    </tr>\n",
              "    <tr>\n",
              "      <th>1</th>\n",
              "      <td>bbb7d7893a450660432ea6652310ebb7</td>\n",
              "      <td>referral</td>\n",
              "      <td>2018-04-04</td>\n",
              "      <td>0.0</td>\n",
              "      <td>0.00</td>\n",
              "      <td>False</td>\n",
              "    </tr>\n",
              "    <tr>\n",
              "      <th>2</th>\n",
              "      <td>612170e34b97004b3ba37eae81836b4c</td>\n",
              "      <td>organic_search</td>\n",
              "      <td>2018-04-03</td>\n",
              "      <td>107.0</td>\n",
              "      <td>2307.06</td>\n",
              "      <td>True</td>\n",
              "    </tr>\n",
              "    <tr>\n",
              "      <th>3</th>\n",
              "      <td>21e1781e36faf92725dde4730a88ca0f</td>\n",
              "      <td>paid_search</td>\n",
              "      <td>2018-01-14</td>\n",
              "      <td>0.0</td>\n",
              "      <td>0.00</td>\n",
              "      <td>False</td>\n",
              "    </tr>\n",
              "    <tr>\n",
              "      <th>4</th>\n",
              "      <td>ed8cb7b190ceb6067227478e48cf8dde</td>\n",
              "      <td>unknown</td>\n",
              "      <td>2017-10-09</td>\n",
              "      <td>15.0</td>\n",
              "      <td>242.71</td>\n",
              "      <td>True</td>\n",
              "    </tr>\n",
              "    <tr>\n",
              "      <th>...</th>\n",
              "      <td>...</td>\n",
              "      <td>...</td>\n",
              "      <td>...</td>\n",
              "      <td>...</td>\n",
              "      <td>...</td>\n",
              "      <td>...</td>\n",
              "    </tr>\n",
              "    <tr>\n",
              "      <th>837</th>\n",
              "      <td>bfcc27719640628da877db48b672b169</td>\n",
              "      <td>organic_search</td>\n",
              "      <td>2018-03-28</td>\n",
              "      <td>0.0</td>\n",
              "      <td>0.00</td>\n",
              "      <td>False</td>\n",
              "    </tr>\n",
              "    <tr>\n",
              "      <th>838</th>\n",
              "      <td>4a82eab98441aeb64566e2776c1fb2b6</td>\n",
              "      <td>organic_search</td>\n",
              "      <td>2018-05-18</td>\n",
              "      <td>0.0</td>\n",
              "      <td>0.00</td>\n",
              "      <td>False</td>\n",
              "    </tr>\n",
              "    <tr>\n",
              "      <th>839</th>\n",
              "      <td>55031883943971ca22db6894574cfe2c</td>\n",
              "      <td>paid_search</td>\n",
              "      <td>2018-05-25</td>\n",
              "      <td>0.0</td>\n",
              "      <td>0.00</td>\n",
              "      <td>False</td>\n",
              "    </tr>\n",
              "    <tr>\n",
              "      <th>840</th>\n",
              "      <td>c0e933c238e41f0cd459d6025ee9b364</td>\n",
              "      <td>social</td>\n",
              "      <td>2018-02-04</td>\n",
              "      <td>0.0</td>\n",
              "      <td>0.00</td>\n",
              "      <td>False</td>\n",
              "    </tr>\n",
              "    <tr>\n",
              "      <th>841</th>\n",
              "      <td>1bba9c94eb5c4e82fba9f7286fe81025</td>\n",
              "      <td>direct_traffic</td>\n",
              "      <td>2018-01-11</td>\n",
              "      <td>0.0</td>\n",
              "      <td>0.00</td>\n",
              "      <td>False</td>\n",
              "    </tr>\n",
              "  </tbody>\n",
              "</table>\n",
              "<p>842 rows × 6 columns</p>\n",
              "</div>"
            ],
            "text/plain": [
              "                            seller_id          origin first_contact_date  \\\n",
              "0    2c43fb513632d29b3b58df74816f1b06  organic_search         2018-02-21   \n",
              "1    bbb7d7893a450660432ea6652310ebb7        referral         2018-04-04   \n",
              "2    612170e34b97004b3ba37eae81836b4c  organic_search         2018-04-03   \n",
              "3    21e1781e36faf92725dde4730a88ca0f     paid_search         2018-01-14   \n",
              "4    ed8cb7b190ceb6067227478e48cf8dde         unknown         2017-10-09   \n",
              "..                                ...             ...                ...   \n",
              "837  bfcc27719640628da877db48b672b169  organic_search         2018-03-28   \n",
              "838  4a82eab98441aeb64566e2776c1fb2b6  organic_search         2018-05-18   \n",
              "839  55031883943971ca22db6894574cfe2c     paid_search         2018-05-25   \n",
              "840  c0e933c238e41f0cd459d6025ee9b364          social         2018-02-04   \n",
              "841  1bba9c94eb5c4e82fba9f7286fe81025  direct_traffic         2018-01-11   \n",
              "\n",
              "     total_trx  freight_value  has_transaction  \n",
              "0          3.0          72.17             True  \n",
              "1          0.0           0.00            False  \n",
              "2        107.0        2307.06             True  \n",
              "3          0.0           0.00            False  \n",
              "4         15.0         242.71             True  \n",
              "..         ...            ...              ...  \n",
              "837        0.0           0.00            False  \n",
              "838        0.0           0.00            False  \n",
              "839        0.0           0.00            False  \n",
              "840        0.0           0.00            False  \n",
              "841        0.0           0.00            False  \n",
              "\n",
              "[842 rows x 6 columns]"
            ]
          },
          "execution_count": 38,
          "metadata": {},
          "output_type": "execute_result"
        }
      ],
      "source": [
        "data_for_model"
      ]
    },
    {
      "cell_type": "code",
      "execution_count": null,
      "id": "3287d595",
      "metadata": {
        "id": "3287d595",
        "outputId": "2412ddff-0083-4b93-b8d4-9dde97ff4b79"
      },
      "outputs": [
        {
          "name": "stdout",
          "output_type": "stream",
          "text": [
            "<class 'pandas.core.frame.DataFrame'>\n",
            "Int64Index: 842 entries, 0 to 841\n",
            "Data columns (total 6 columns):\n",
            " #   Column              Non-Null Count  Dtype         \n",
            "---  ------              --------------  -----         \n",
            " 0   seller_id           842 non-null    object        \n",
            " 1   origin              828 non-null    object        \n",
            " 2   first_contact_date  842 non-null    datetime64[ns]\n",
            " 3   total_trx           842 non-null    float64       \n",
            " 4   freight_value       842 non-null    float64       \n",
            " 5   has_transaction     842 non-null    bool          \n",
            "dtypes: bool(1), datetime64[ns](1), float64(2), object(2)\n",
            "memory usage: 40.3+ KB\n"
          ]
        }
      ],
      "source": [
        "# data for model\n",
        "data_for_model.info()"
      ]
    },
    {
      "cell_type": "code",
      "execution_count": null,
      "id": "a7f3e697",
      "metadata": {
        "id": "a7f3e697",
        "outputId": "4c8627bd-d779-4290-cb8a-423c770c186a"
      },
      "outputs": [
        {
          "data": {
            "text/plain": [
              "seller_id              0\n",
              "origin                14\n",
              "first_contact_date     0\n",
              "total_trx              0\n",
              "freight_value          0\n",
              "has_transaction        0\n",
              "dtype: int64"
            ]
          },
          "execution_count": 40,
          "metadata": {},
          "output_type": "execute_result"
        }
      ],
      "source": [
        "# check null\n",
        "data_for_model.isnull().sum()"
      ]
    },
    {
      "cell_type": "code",
      "execution_count": null,
      "id": "3ba3d789",
      "metadata": {
        "id": "3ba3d789"
      },
      "outputs": [],
      "source": [
        "# drop the null\n",
        "data_for_model = data_for_model.dropna()"
      ]
    },
    {
      "cell_type": "code",
      "execution_count": null,
      "id": "4ca7a892",
      "metadata": {
        "id": "4ca7a892"
      },
      "outputs": [],
      "source": [
        "attribution = MAM(\n",
        "    data_for_model, \n",
        "    channels_colname='origin',\n",
        "    group_channels=True, \n",
        "    group_channels_by_id_list=['seller_id'], \n",
        "    group_timestamp_colname='first_contact_date',\n",
        "    journey_with_conv_colname='has_transaction',\n",
        "    create_journey_id_based_on_conversion = True,\n",
        "    conversion_value='freight_value'\n",
        ")"
      ]
    },
    {
      "cell_type": "markdown",
      "id": "792281b0",
      "metadata": {
        "id": "792281b0"
      },
      "source": [
        "### Last Click Attribution"
      ]
    },
    {
      "cell_type": "code",
      "execution_count": null,
      "id": "ee29e5a0",
      "metadata": {
        "id": "ee29e5a0",
        "outputId": "12c14ce1-a066-44c9-ff3f-b99ac4867deb"
      },
      "outputs": [
        {
          "data": {
            "text/plain": [
              "(0                     [0.0]\n",
              " 1      [47.230000000000004]\n",
              " 2                     [0.0]\n",
              " 3       [575.3600000000001]\n",
              " 4                     [0.0]\n",
              "                ...         \n",
              " 823                   [0.0]\n",
              " 824                [130.16]\n",
              " 825     [537.0800000000002]\n",
              " 826    [206.52999999999997]\n",
              " 827                [438.12]\n",
              " Length: 828, dtype: object,\n",
              " channels\n",
              " direct_traffic        5645.90\n",
              " display                284.95\n",
              " email                  637.42\n",
              " organic_search       28933.13\n",
              " other                 1877.98\n",
              " other_publicities        0.00\n",
              " paid_search          26723.01\n",
              " referral              1800.69\n",
              " social                7885.48\n",
              " unknown              25020.70\n",
              " Name: value, dtype: float64)"
            ]
          },
          "execution_count": 43,
          "metadata": {},
          "output_type": "execute_result"
        }
      ],
      "source": [
        "attribution.attribution_last_click()"
      ]
    },
    {
      "cell_type": "markdown",
      "id": "fe497b06",
      "metadata": {
        "id": "fe497b06"
      },
      "source": [
        "### First Click Attribution"
      ]
    },
    {
      "cell_type": "code",
      "execution_count": null,
      "id": "3c476852",
      "metadata": {
        "id": "3c476852",
        "outputId": "61eacb22-3bf8-4117-ed2b-9da54da63ba0"
      },
      "outputs": [
        {
          "data": {
            "text/plain": [
              "(0                     [0.0]\n",
              " 1      [47.230000000000004]\n",
              " 2                     [0.0]\n",
              " 3       [575.3600000000001]\n",
              " 4                     [0.0]\n",
              "                ...         \n",
              " 823                   [0.0]\n",
              " 824                [130.16]\n",
              " 825     [537.0800000000002]\n",
              " 826    [206.52999999999997]\n",
              " 827                [438.12]\n",
              " Length: 828, dtype: object,\n",
              "             channels  attribution_first_click_heuristic\n",
              " 0     direct_traffic                            5645.90\n",
              " 1            display                             284.95\n",
              " 2              email                             637.42\n",
              " 3     organic_search                           28933.13\n",
              " 4              other                            1877.98\n",
              " 5  other_publicities                               0.00\n",
              " 6        paid_search                           26723.01\n",
              " 7           referral                            1800.69\n",
              " 8             social                            7885.48\n",
              " 9            unknown                           25020.70)"
            ]
          },
          "execution_count": 44,
          "metadata": {},
          "output_type": "execute_result"
        }
      ],
      "source": [
        "attribution.attribution_first_click()"
      ]
    },
    {
      "cell_type": "markdown",
      "id": "f2c3cd59",
      "metadata": {
        "id": "f2c3cd59"
      },
      "source": [
        "### Linear Attribution"
      ]
    },
    {
      "cell_type": "code",
      "execution_count": null,
      "id": "20314251",
      "metadata": {
        "id": "20314251",
        "outputId": "227afc70-abd4-48d9-9430-8316977726c6"
      },
      "outputs": [
        {
          "data": {
            "text/plain": [
              "(0                     [0.0]\n",
              " 1      [47.230000000000004]\n",
              " 2                     [0.0]\n",
              " 3       [575.3600000000001]\n",
              " 4                     [0.0]\n",
              "                ...         \n",
              " 823                   [0.0]\n",
              " 824                [130.16]\n",
              " 825     [537.0800000000002]\n",
              " 826    [206.52999999999997]\n",
              " 827                [438.12]\n",
              " Length: 828, dtype: object,\n",
              "             channels  attribution_linear_heuristic\n",
              " 0     direct_traffic                       5645.90\n",
              " 1            display                        284.95\n",
              " 2              email                        637.42\n",
              " 3     organic_search                      28933.13\n",
              " 4              other                       1877.98\n",
              " 5  other_publicities                          0.00\n",
              " 6        paid_search                      26723.01\n",
              " 7           referral                       1800.69\n",
              " 8             social                       7885.48\n",
              " 9            unknown                      25020.70)"
            ]
          },
          "execution_count": 45,
          "metadata": {},
          "output_type": "execute_result"
        }
      ],
      "source": [
        "attribution.attribution_linear()"
      ]
    },
    {
      "cell_type": "markdown",
      "id": "01a14790",
      "metadata": {
        "id": "01a14790"
      },
      "source": [
        "### Attribution Plot"
      ]
    },
    {
      "cell_type": "code",
      "execution_count": null,
      "id": "25721108",
      "metadata": {
        "id": "25721108",
        "outputId": "01ca3462-ff33-4f9b-8785-e68a9b86d4bd"
      },
      "outputs": [
        {
          "data": {
            "text/plain": [
              "<AxesSubplot:xlabel='channels', ylabel='value'>"
            ]
          },
          "execution_count": 46,
          "metadata": {},
          "output_type": "execute_result"
        },
        {
          "data": {
            "image/png": "[encoded data removed]",
            "text/plain": [
              "<Figure size 1440x504 with 1 Axes>"
            ]
          },
          "metadata": {
            "needs_background": "light"
          },
          "output_type": "display_data"
        }
      ],
      "source": [
        "attribution.plot(model_type='heuristic')"
      ]
    },
    {
      "cell_type": "markdown",
      "id": "a53b2c44",
      "metadata": {
        "id": "a53b2c44"
      },
      "source": [
        "**Interpretation:**\n",
        "\n",
        "Based on the plot of attribution, `Organic Search` has the largest impact on the marketing channel, following by `Paid Search` and `Unknown Channel`. Since we didn't the unknown channel, we assume it as `Seller Self Marketing`.\n",
        "\n",
        "It is mean, seller has their own way to sales the product."
      ]
    },
    {
      "cell_type": "markdown",
      "id": "25850202",
      "metadata": {
        "id": "25850202"
      },
      "source": [
        "##  Markov Model"
      ]
    },
    {
      "cell_type": "code",
      "execution_count": null,
      "id": "3ef14132",
      "metadata": {
        "id": "3ef14132"
      },
      "outputs": [],
      "source": [
        "# create markov results\n",
        "markov_results = attribution.attribution_markov(transition_to_same_state=False)"
      ]
    },
    {
      "cell_type": "code",
      "execution_count": null,
      "id": "56c883e2",
      "metadata": {
        "id": "56c883e2",
        "outputId": "c1731fab-6984-482f-c1de-6ebabfaea15b"
      },
      "outputs": [
        {
          "data": {
            "text/html": [
              "<div>\n",
              "<style scoped>\n",
              "    .dataframe tbody tr th:only-of-type {\n",
              "        vertical-align: middle;\n",
              "    }\n",
              "\n",
              "    .dataframe tbody tr th {\n",
              "        vertical-align: top;\n",
              "    }\n",
              "\n",
              "    .dataframe thead th {\n",
              "        text-align: right;\n",
              "    }\n",
              "</style>\n",
              "<table border=\"1\" class=\"dataframe\">\n",
              "  <thead>\n",
              "    <tr style=\"text-align: right;\">\n",
              "      <th></th>\n",
              "      <th>channels</th>\n",
              "      <th>attribution_markov_algorithmic</th>\n",
              "    </tr>\n",
              "  </thead>\n",
              "  <tbody>\n",
              "    <tr>\n",
              "      <th>0</th>\n",
              "      <td>other_publicities</td>\n",
              "      <td>0.00</td>\n",
              "    </tr>\n",
              "    <tr>\n",
              "      <th>1</th>\n",
              "      <td>referral</td>\n",
              "      <td>1800.69</td>\n",
              "    </tr>\n",
              "    <tr>\n",
              "      <th>2</th>\n",
              "      <td>paid_search</td>\n",
              "      <td>26723.01</td>\n",
              "    </tr>\n",
              "    <tr>\n",
              "      <th>3</th>\n",
              "      <td>other</td>\n",
              "      <td>1877.98</td>\n",
              "    </tr>\n",
              "    <tr>\n",
              "      <th>4</th>\n",
              "      <td>social</td>\n",
              "      <td>7885.48</td>\n",
              "    </tr>\n",
              "    <tr>\n",
              "      <th>5</th>\n",
              "      <td>display</td>\n",
              "      <td>284.95</td>\n",
              "    </tr>\n",
              "    <tr>\n",
              "      <th>6</th>\n",
              "      <td>unknown</td>\n",
              "      <td>25020.70</td>\n",
              "    </tr>\n",
              "    <tr>\n",
              "      <th>7</th>\n",
              "      <td>organic_search</td>\n",
              "      <td>28933.13</td>\n",
              "    </tr>\n",
              "    <tr>\n",
              "      <th>8</th>\n",
              "      <td>email</td>\n",
              "      <td>637.42</td>\n",
              "    </tr>\n",
              "    <tr>\n",
              "      <th>9</th>\n",
              "      <td>direct_traffic</td>\n",
              "      <td>5645.90</td>\n",
              "    </tr>\n",
              "  </tbody>\n",
              "</table>\n",
              "</div>"
            ],
            "text/plain": [
              "            channels  attribution_markov_algorithmic\n",
              "0  other_publicities                            0.00\n",
              "1           referral                         1800.69\n",
              "2        paid_search                        26723.01\n",
              "3              other                         1877.98\n",
              "4             social                         7885.48\n",
              "5            display                          284.95\n",
              "6            unknown                        25020.70\n",
              "7     organic_search                        28933.13\n",
              "8              email                          637.42\n",
              "9     direct_traffic                         5645.90"
            ]
          },
          "execution_count": 48,
          "metadata": {},
          "output_type": "execute_result"
        }
      ],
      "source": [
        "# check markov results\n",
        "markov_results[1]"
      ]
    },
    {
      "cell_type": "code",
      "execution_count": null,
      "id": "cc2be1b0",
      "metadata": {
        "id": "cc2be1b0",
        "outputId": "9c0fda08-311c-48bd-e97f-deecaa192985"
      },
      "outputs": [
        {
          "data": {
            "image/png": "[encoded data removed]",
            "text/plain": [
              "<Figure size 720x720 with 2 Axes>"
            ]
          },
          "metadata": {
            "needs_background": "light"
          },
          "output_type": "display_data"
        }
      ],
      "source": [
        "# check removal effects\n",
        "ax, fig = plt.subplots(figsize=(10,10))\n",
        "sns.heatmap(\n",
        "    markov_results[3].round(3), \n",
        "    cmap=\"YlGnBu\", \n",
        "    annot=True, \n",
        "    linewidths=.5\n",
        ");"
      ]
    },
    {
      "cell_type": "markdown",
      "id": "670fb694",
      "metadata": {
        "id": "670fb694"
      },
      "source": [
        "**Interpretation:**\n",
        "\n",
        "This visualization goes the same way as the plot of attribution. The largest effect of losses is when we delete the `Organic Search` and `Paid Search` marketing channel. But if we delete the `Other Publicities` channel, we may couldn't find the percentage of losses but we need to identified those publicity. It is maybe the SEO."
      ]
    },
    {
      "cell_type": "markdown",
      "id": "b9720162",
      "metadata": {
        "id": "b9720162"
      },
      "source": [
        "## Final Attribution"
      ]
    },
    {
      "cell_type": "code",
      "execution_count": null,
      "id": "9dd5cb33",
      "metadata": {
        "id": "9dd5cb33",
        "outputId": "27003ba8-344d-4697-be2a-7fb3d0b96c2a"
      },
      "outputs": [
        {
          "data": {
            "image/png": "[encoded data removed]",
            "text/plain": [
              "<Figure size 1440x504 with 1 Axes>"
            ]
          },
          "metadata": {
            "needs_background": "light"
          },
          "output_type": "display_data"
        }
      ],
      "source": [
        "attribution.plot();"
      ]
    },
    {
      "cell_type": "markdown",
      "id": "24fdf03b",
      "metadata": {
        "id": "24fdf03b"
      },
      "source": [
        "**Interpretation:**\n",
        "\n",
        "It is the same results from the first Attribution Plot. We didn't get different between these two."
      ]
    },
    {
      "cell_type": "markdown",
      "id": "ee4a27f3",
      "metadata": {
        "id": "ee4a27f3"
      },
      "source": [
        "# Converted Seller Analysis"
      ]
    },
    {
      "cell_type": "code",
      "execution_count": null,
      "id": "b6da73bb",
      "metadata": {
        "id": "b6da73bb",
        "outputId": "716b0b2d-89bc-4a32-df9d-444dc77d7ded"
      },
      "outputs": [
        {
          "data": {
            "text/html": [
              "<div>\n",
              "<style scoped>\n",
              "    .dataframe tbody tr th:only-of-type {\n",
              "        vertical-align: middle;\n",
              "    }\n",
              "\n",
              "    .dataframe tbody tr th {\n",
              "        vertical-align: top;\n",
              "    }\n",
              "\n",
              "    .dataframe thead th {\n",
              "        text-align: right;\n",
              "    }\n",
              "</style>\n",
              "<table border=\"1\" class=\"dataframe\">\n",
              "  <thead>\n",
              "    <tr style=\"text-align: right;\">\n",
              "      <th></th>\n",
              "      <th>mql_id</th>\n",
              "      <th>seller_id</th>\n",
              "      <th>sdr_id</th>\n",
              "      <th>sr_id</th>\n",
              "      <th>won_date</th>\n",
              "      <th>business_segment</th>\n",
              "      <th>lead_type</th>\n",
              "      <th>lead_behaviour_profile</th>\n",
              "      <th>has_company</th>\n",
              "      <th>has_gtin</th>\n",
              "      <th>average_stock</th>\n",
              "      <th>business_type</th>\n",
              "      <th>declared_product_catalog_size</th>\n",
              "      <th>declared_monthly_revenue</th>\n",
              "    </tr>\n",
              "  </thead>\n",
              "  <tbody>\n",
              "    <tr>\n",
              "      <th>0</th>\n",
              "      <td>5420aad7fec3549a85876ba1c529bd84</td>\n",
              "      <td>2c43fb513632d29b3b58df74816f1b06</td>\n",
              "      <td>a8387c01a09e99ce014107505b92388c</td>\n",
              "      <td>4ef15afb4b2723d8f3d81e51ec7afefe</td>\n",
              "      <td>2018-02-26 19:58:54</td>\n",
              "      <td>pet</td>\n",
              "      <td>online_medium</td>\n",
              "      <td>cat</td>\n",
              "      <td>NaN</td>\n",
              "      <td>NaN</td>\n",
              "      <td>NaN</td>\n",
              "      <td>reseller</td>\n",
              "      <td>NaN</td>\n",
              "      <td>0.0</td>\n",
              "    </tr>\n",
              "    <tr>\n",
              "      <th>1</th>\n",
              "      <td>a555fb36b9368110ede0f043dfc3b9a0</td>\n",
              "      <td>bbb7d7893a450660432ea6652310ebb7</td>\n",
              "      <td>09285259593c61296eef10c734121d5b</td>\n",
              "      <td>d3d1e91a157ea7f90548eef82f1955e3</td>\n",
              "      <td>2018-05-08 20:17:59</td>\n",
              "      <td>car_accessories</td>\n",
              "      <td>industry</td>\n",
              "      <td>eagle</td>\n",
              "      <td>NaN</td>\n",
              "      <td>NaN</td>\n",
              "      <td>NaN</td>\n",
              "      <td>reseller</td>\n",
              "      <td>NaN</td>\n",
              "      <td>0.0</td>\n",
              "    </tr>\n",
              "    <tr>\n",
              "      <th>2</th>\n",
              "      <td>327174d3648a2d047e8940d7d15204ca</td>\n",
              "      <td>612170e34b97004b3ba37eae81836b4c</td>\n",
              "      <td>b90f87164b5f8c2cfa5c8572834dbe3f</td>\n",
              "      <td>6565aa9ce3178a5caf6171827af3a9ba</td>\n",
              "      <td>2018-06-05 17:27:23</td>\n",
              "      <td>home_appliances</td>\n",
              "      <td>online_big</td>\n",
              "      <td>cat</td>\n",
              "      <td>NaN</td>\n",
              "      <td>NaN</td>\n",
              "      <td>NaN</td>\n",
              "      <td>reseller</td>\n",
              "      <td>NaN</td>\n",
              "      <td>0.0</td>\n",
              "    </tr>\n",
              "    <tr>\n",
              "      <th>3</th>\n",
              "      <td>f5fee8f7da74f4887f5bcae2bafb6dd6</td>\n",
              "      <td>21e1781e36faf92725dde4730a88ca0f</td>\n",
              "      <td>56bf83c4bb35763a51c2baab501b4c67</td>\n",
              "      <td>d3d1e91a157ea7f90548eef82f1955e3</td>\n",
              "      <td>2018-01-17 13:51:03</td>\n",
              "      <td>food_drink</td>\n",
              "      <td>online_small</td>\n",
              "      <td>NaN</td>\n",
              "      <td>NaN</td>\n",
              "      <td>NaN</td>\n",
              "      <td>NaN</td>\n",
              "      <td>reseller</td>\n",
              "      <td>NaN</td>\n",
              "      <td>0.0</td>\n",
              "    </tr>\n",
              "    <tr>\n",
              "      <th>4</th>\n",
              "      <td>ffe640179b554e295c167a2f6be528e0</td>\n",
              "      <td>ed8cb7b190ceb6067227478e48cf8dde</td>\n",
              "      <td>4b339f9567d060bcea4f5136b9f5949e</td>\n",
              "      <td>d3d1e91a157ea7f90548eef82f1955e3</td>\n",
              "      <td>2018-07-03 20:17:45</td>\n",
              "      <td>home_appliances</td>\n",
              "      <td>industry</td>\n",
              "      <td>wolf</td>\n",
              "      <td>NaN</td>\n",
              "      <td>NaN</td>\n",
              "      <td>NaN</td>\n",
              "      <td>manufacturer</td>\n",
              "      <td>NaN</td>\n",
              "      <td>0.0</td>\n",
              "    </tr>\n",
              "    <tr>\n",
              "      <th>...</th>\n",
              "      <td>...</td>\n",
              "      <td>...</td>\n",
              "      <td>...</td>\n",
              "      <td>...</td>\n",
              "      <td>...</td>\n",
              "      <td>...</td>\n",
              "      <td>...</td>\n",
              "      <td>...</td>\n",
              "      <td>...</td>\n",
              "      <td>...</td>\n",
              "      <td>...</td>\n",
              "      <td>...</td>\n",
              "      <td>...</td>\n",
              "      <td>...</td>\n",
              "    </tr>\n",
              "    <tr>\n",
              "      <th>837</th>\n",
              "      <td>df9a2abe2ad3f2d8758b675ac8331ecf</td>\n",
              "      <td>bfcc27719640628da877db48b672b169</td>\n",
              "      <td>45749fb708130f78d0db07d8d80f030b</td>\n",
              "      <td>a8387c01a09e99ce014107505b92388c</td>\n",
              "      <td>2018-08-01 20:22:31</td>\n",
              "      <td>home_decor</td>\n",
              "      <td>offline</td>\n",
              "      <td>cat</td>\n",
              "      <td>NaN</td>\n",
              "      <td>NaN</td>\n",
              "      <td>NaN</td>\n",
              "      <td>reseller</td>\n",
              "      <td>NaN</td>\n",
              "      <td>0.0</td>\n",
              "    </tr>\n",
              "    <tr>\n",
              "      <th>838</th>\n",
              "      <td>8723201570415eb23b4f095d8c20a27c</td>\n",
              "      <td>4a82eab98441aeb64566e2776c1fb2b6</td>\n",
              "      <td>370c9f455f93a9a96cbe9bea48e70033</td>\n",
              "      <td>4b339f9567d060bcea4f5136b9f5949e</td>\n",
              "      <td>2018-09-27 18:58:41</td>\n",
              "      <td>construction_tools_house_garden</td>\n",
              "      <td>online_big</td>\n",
              "      <td>wolf</td>\n",
              "      <td>NaN</td>\n",
              "      <td>NaN</td>\n",
              "      <td>NaN</td>\n",
              "      <td>reseller</td>\n",
              "      <td>132.0</td>\n",
              "      <td>200000.0</td>\n",
              "    </tr>\n",
              "    <tr>\n",
              "      <th>839</th>\n",
              "      <td>2e57665b8faf05c967a801eb5aedfa0a</td>\n",
              "      <td>55031883943971ca22db6894574cfe2c</td>\n",
              "      <td>370c9f455f93a9a96cbe9bea48e70033</td>\n",
              "      <td>a8387c01a09e99ce014107505b92388c</td>\n",
              "      <td>2018-06-06 20:15:26</td>\n",
              "      <td>computers</td>\n",
              "      <td>online_medium</td>\n",
              "      <td>wolf</td>\n",
              "      <td>NaN</td>\n",
              "      <td>NaN</td>\n",
              "      <td>NaN</td>\n",
              "      <td>reseller</td>\n",
              "      <td>NaN</td>\n",
              "      <td>0.0</td>\n",
              "    </tr>\n",
              "    <tr>\n",
              "      <th>840</th>\n",
              "      <td>40955be51cc85c5a5a6cdd12b19e9f10</td>\n",
              "      <td>c0e933c238e41f0cd459d6025ee9b364</td>\n",
              "      <td>068066e24f0c643eb1d089c7dd20cd73</td>\n",
              "      <td>d3d1e91a157ea7f90548eef82f1955e3</td>\n",
              "      <td>2018-03-06 15:52:23</td>\n",
              "      <td>pet</td>\n",
              "      <td>online_beginner</td>\n",
              "      <td>cat</td>\n",
              "      <td>NaN</td>\n",
              "      <td>NaN</td>\n",
              "      <td>NaN</td>\n",
              "      <td>reseller</td>\n",
              "      <td>NaN</td>\n",
              "      <td>0.0</td>\n",
              "    </tr>\n",
              "    <tr>\n",
              "      <th>841</th>\n",
              "      <td>8a6492305a5fbcdcdd1a7f5a90764c07</td>\n",
              "      <td>1bba9c94eb5c4e82fba9f7286fe81025</td>\n",
              "      <td>56bf83c4bb35763a51c2baab501b4c67</td>\n",
              "      <td>de63de0d10a6012430098db33c679b0b</td>\n",
              "      <td>2018-05-02 13:31:32</td>\n",
              "      <td>household_utilities</td>\n",
              "      <td>industry</td>\n",
              "      <td>eagle</td>\n",
              "      <td>NaN</td>\n",
              "      <td>NaN</td>\n",
              "      <td>NaN</td>\n",
              "      <td>manufacturer</td>\n",
              "      <td>NaN</td>\n",
              "      <td>0.0</td>\n",
              "    </tr>\n",
              "  </tbody>\n",
              "</table>\n",
              "<p>842 rows × 14 columns</p>\n",
              "</div>"
            ],
            "text/plain": [
              "                               mql_id                         seller_id  \\\n",
              "0    5420aad7fec3549a85876ba1c529bd84  2c43fb513632d29b3b58df74816f1b06   \n",
              "1    a555fb36b9368110ede0f043dfc3b9a0  bbb7d7893a450660432ea6652310ebb7   \n",
              "2    327174d3648a2d047e8940d7d15204ca  612170e34b97004b3ba37eae81836b4c   \n",
              "3    f5fee8f7da74f4887f5bcae2bafb6dd6  21e1781e36faf92725dde4730a88ca0f   \n",
              "4    ffe640179b554e295c167a2f6be528e0  ed8cb7b190ceb6067227478e48cf8dde   \n",
              "..                                ...                               ...   \n",
              "837  df9a2abe2ad3f2d8758b675ac8331ecf  bfcc27719640628da877db48b672b169   \n",
              "838  8723201570415eb23b4f095d8c20a27c  4a82eab98441aeb64566e2776c1fb2b6   \n",
              "839  2e57665b8faf05c967a801eb5aedfa0a  55031883943971ca22db6894574cfe2c   \n",
              "840  40955be51cc85c5a5a6cdd12b19e9f10  c0e933c238e41f0cd459d6025ee9b364   \n",
              "841  8a6492305a5fbcdcdd1a7f5a90764c07  1bba9c94eb5c4e82fba9f7286fe81025   \n",
              "\n",
              "                               sdr_id                             sr_id  \\\n",
              "0    a8387c01a09e99ce014107505b92388c  4ef15afb4b2723d8f3d81e51ec7afefe   \n",
              "1    09285259593c61296eef10c734121d5b  d3d1e91a157ea7f90548eef82f1955e3   \n",
              "2    b90f87164b5f8c2cfa5c8572834dbe3f  6565aa9ce3178a5caf6171827af3a9ba   \n",
              "3    56bf83c4bb35763a51c2baab501b4c67  d3d1e91a157ea7f90548eef82f1955e3   \n",
              "4    4b339f9567d060bcea4f5136b9f5949e  d3d1e91a157ea7f90548eef82f1955e3   \n",
              "..                                ...                               ...   \n",
              "837  45749fb708130f78d0db07d8d80f030b  a8387c01a09e99ce014107505b92388c   \n",
              "838  370c9f455f93a9a96cbe9bea48e70033  4b339f9567d060bcea4f5136b9f5949e   \n",
              "839  370c9f455f93a9a96cbe9bea48e70033  a8387c01a09e99ce014107505b92388c   \n",
              "840  068066e24f0c643eb1d089c7dd20cd73  d3d1e91a157ea7f90548eef82f1955e3   \n",
              "841  56bf83c4bb35763a51c2baab501b4c67  de63de0d10a6012430098db33c679b0b   \n",
              "\n",
              "                won_date                 business_segment        lead_type  \\\n",
              "0    2018-02-26 19:58:54                              pet    online_medium   \n",
              "1    2018-05-08 20:17:59                  car_accessories         industry   \n",
              "2    2018-06-05 17:27:23                  home_appliances       online_big   \n",
              "3    2018-01-17 13:51:03                       food_drink     online_small   \n",
              "4    2018-07-03 20:17:45                  home_appliances         industry   \n",
              "..                   ...                              ...              ...   \n",
              "837  2018-08-01 20:22:31                       home_decor          offline   \n",
              "838  2018-09-27 18:58:41  construction_tools_house_garden       online_big   \n",
              "839  2018-06-06 20:15:26                        computers    online_medium   \n",
              "840  2018-03-06 15:52:23                              pet  online_beginner   \n",
              "841  2018-05-02 13:31:32              household_utilities         industry   \n",
              "\n",
              "    lead_behaviour_profile has_company has_gtin average_stock business_type  \\\n",
              "0                      cat         NaN      NaN           NaN      reseller   \n",
              "1                    eagle         NaN      NaN           NaN      reseller   \n",
              "2                      cat         NaN      NaN           NaN      reseller   \n",
              "3                      NaN         NaN      NaN           NaN      reseller   \n",
              "4                     wolf         NaN      NaN           NaN  manufacturer   \n",
              "..                     ...         ...      ...           ...           ...   \n",
              "837                    cat         NaN      NaN           NaN      reseller   \n",
              "838                   wolf         NaN      NaN           NaN      reseller   \n",
              "839                   wolf         NaN      NaN           NaN      reseller   \n",
              "840                    cat         NaN      NaN           NaN      reseller   \n",
              "841                  eagle         NaN      NaN           NaN  manufacturer   \n",
              "\n",
              "     declared_product_catalog_size  declared_monthly_revenue  \n",
              "0                              NaN                       0.0  \n",
              "1                              NaN                       0.0  \n",
              "2                              NaN                       0.0  \n",
              "3                              NaN                       0.0  \n",
              "4                              NaN                       0.0  \n",
              "..                             ...                       ...  \n",
              "837                            NaN                       0.0  \n",
              "838                          132.0                  200000.0  \n",
              "839                            NaN                       0.0  \n",
              "840                            NaN                       0.0  \n",
              "841                            NaN                       0.0  \n",
              "\n",
              "[842 rows x 14 columns]"
            ]
          },
          "execution_count": 51,
          "metadata": {},
          "output_type": "execute_result"
        }
      ],
      "source": [
        "olist_closed_deals"
      ]
    },
    {
      "cell_type": "code",
      "execution_count": null,
      "id": "6f81ebfc",
      "metadata": {
        "id": "6f81ebfc",
        "outputId": "df923c59-597a-4432-f4d7-3388c1eb22e1"
      },
      "outputs": [
        {
          "data": {
            "text/html": [
              "<div>\n",
              "<style scoped>\n",
              "    .dataframe tbody tr th:only-of-type {\n",
              "        vertical-align: middle;\n",
              "    }\n",
              "\n",
              "    .dataframe tbody tr th {\n",
              "        vertical-align: top;\n",
              "    }\n",
              "\n",
              "    .dataframe thead th {\n",
              "        text-align: right;\n",
              "    }\n",
              "</style>\n",
              "<table border=\"1\" class=\"dataframe\">\n",
              "  <thead>\n",
              "    <tr style=\"text-align: right;\">\n",
              "      <th></th>\n",
              "      <th>mql_id</th>\n",
              "      <th>first_contact_date</th>\n",
              "      <th>landing_page_id</th>\n",
              "      <th>origin</th>\n",
              "    </tr>\n",
              "  </thead>\n",
              "  <tbody>\n",
              "    <tr>\n",
              "      <th>0</th>\n",
              "      <td>dac32acd4db4c29c230538b72f8dd87d</td>\n",
              "      <td>2018-02-01</td>\n",
              "      <td>88740e65d5d6b056e0cda098e1ea6313</td>\n",
              "      <td>social</td>\n",
              "    </tr>\n",
              "    <tr>\n",
              "      <th>1</th>\n",
              "      <td>8c18d1de7f67e60dbd64e3c07d7e9d5d</td>\n",
              "      <td>2017-10-20</td>\n",
              "      <td>007f9098284a86ee80ddeb25d53e0af8</td>\n",
              "      <td>paid_search</td>\n",
              "    </tr>\n",
              "    <tr>\n",
              "      <th>2</th>\n",
              "      <td>b4bc852d233dfefc5131f593b538befa</td>\n",
              "      <td>2018-03-22</td>\n",
              "      <td>a7982125ff7aa3b2054c6e44f9d28522</td>\n",
              "      <td>organic_search</td>\n",
              "    </tr>\n",
              "    <tr>\n",
              "      <th>3</th>\n",
              "      <td>6be030b81c75970747525b843c1ef4f8</td>\n",
              "      <td>2018-01-22</td>\n",
              "      <td>d45d558f0daeecf3cccdffe3c59684aa</td>\n",
              "      <td>email</td>\n",
              "    </tr>\n",
              "    <tr>\n",
              "      <th>4</th>\n",
              "      <td>5420aad7fec3549a85876ba1c529bd84</td>\n",
              "      <td>2018-02-21</td>\n",
              "      <td>b48ec5f3b04e9068441002a19df93c6c</td>\n",
              "      <td>organic_search</td>\n",
              "    </tr>\n",
              "    <tr>\n",
              "      <th>...</th>\n",
              "      <td>...</td>\n",
              "      <td>...</td>\n",
              "      <td>...</td>\n",
              "      <td>...</td>\n",
              "    </tr>\n",
              "    <tr>\n",
              "      <th>7995</th>\n",
              "      <td>feaba3ffcd2ff97501696c7f9a42f41c</td>\n",
              "      <td>2018-05-22</td>\n",
              "      <td>e42a14209c69c3e9cc6b042620465f12</td>\n",
              "      <td>paid_search</td>\n",
              "    </tr>\n",
              "    <tr>\n",
              "      <th>7996</th>\n",
              "      <td>a79cb53cd009ab92e0143b92baa2407b</td>\n",
              "      <td>2018-03-27</td>\n",
              "      <td>c494978688ccf66ad9fad3d6a3338c22</td>\n",
              "      <td>paid_search</td>\n",
              "    </tr>\n",
              "    <tr>\n",
              "      <th>7997</th>\n",
              "      <td>68f049a23ab109c6a0f6989bb9a02994</td>\n",
              "      <td>2017-08-27</td>\n",
              "      <td>b48ec5f3b04e9068441002a19df93c6c</td>\n",
              "      <td>organic_search</td>\n",
              "    </tr>\n",
              "    <tr>\n",
              "      <th>7998</th>\n",
              "      <td>4f8c96e2509b984329044c6682c88ee9</td>\n",
              "      <td>2017-10-06</td>\n",
              "      <td>a56671a54260a44923d32c2f08fad39c</td>\n",
              "      <td>organic_search</td>\n",
              "    </tr>\n",
              "    <tr>\n",
              "      <th>7999</th>\n",
              "      <td>8a6492305a5fbcdcdd1a7f5a90764c07</td>\n",
              "      <td>2018-01-11</td>\n",
              "      <td>b76ef37428e6799c421989521c0e5077</td>\n",
              "      <td>direct_traffic</td>\n",
              "    </tr>\n",
              "  </tbody>\n",
              "</table>\n",
              "<p>8000 rows × 4 columns</p>\n",
              "</div>"
            ],
            "text/plain": [
              "                                mql_id first_contact_date  \\\n",
              "0     dac32acd4db4c29c230538b72f8dd87d         2018-02-01   \n",
              "1     8c18d1de7f67e60dbd64e3c07d7e9d5d         2017-10-20   \n",
              "2     b4bc852d233dfefc5131f593b538befa         2018-03-22   \n",
              "3     6be030b81c75970747525b843c1ef4f8         2018-01-22   \n",
              "4     5420aad7fec3549a85876ba1c529bd84         2018-02-21   \n",
              "...                                ...                ...   \n",
              "7995  feaba3ffcd2ff97501696c7f9a42f41c         2018-05-22   \n",
              "7996  a79cb53cd009ab92e0143b92baa2407b         2018-03-27   \n",
              "7997  68f049a23ab109c6a0f6989bb9a02994         2017-08-27   \n",
              "7998  4f8c96e2509b984329044c6682c88ee9         2017-10-06   \n",
              "7999  8a6492305a5fbcdcdd1a7f5a90764c07         2018-01-11   \n",
              "\n",
              "                       landing_page_id          origin  \n",
              "0     88740e65d5d6b056e0cda098e1ea6313          social  \n",
              "1     007f9098284a86ee80ddeb25d53e0af8     paid_search  \n",
              "2     a7982125ff7aa3b2054c6e44f9d28522  organic_search  \n",
              "3     d45d558f0daeecf3cccdffe3c59684aa           email  \n",
              "4     b48ec5f3b04e9068441002a19df93c6c  organic_search  \n",
              "...                                ...             ...  \n",
              "7995  e42a14209c69c3e9cc6b042620465f12     paid_search  \n",
              "7996  c494978688ccf66ad9fad3d6a3338c22     paid_search  \n",
              "7997  b48ec5f3b04e9068441002a19df93c6c  organic_search  \n",
              "7998  a56671a54260a44923d32c2f08fad39c  organic_search  \n",
              "7999  b76ef37428e6799c421989521c0e5077  direct_traffic  \n",
              "\n",
              "[8000 rows x 4 columns]"
            ]
          },
          "execution_count": 52,
          "metadata": {},
          "output_type": "execute_result"
        }
      ],
      "source": [
        "olist_marketing_qualified_leads"
      ]
    },
    {
      "cell_type": "code",
      "execution_count": null,
      "id": "51231cbe",
      "metadata": {
        "id": "51231cbe"
      },
      "outputs": [],
      "source": [
        "# create new columns named as deals\n",
        "data_for_seller = olist_marketing_qualified_leads\n",
        "data_for_seller['deals'] = olist_marketing_qualified_leads['mql_id'].isin(olist_closed_deals['mql_id'])"
      ]
    },
    {
      "cell_type": "code",
      "execution_count": null,
      "id": "91507bac",
      "metadata": {
        "id": "91507bac",
        "outputId": "c2b5bab9-28c4-41c2-d3ac-61d25986cfe7"
      },
      "outputs": [
        {
          "data": {
            "text/html": [
              "<div>\n",
              "<style scoped>\n",
              "    .dataframe tbody tr th:only-of-type {\n",
              "        vertical-align: middle;\n",
              "    }\n",
              "\n",
              "    .dataframe tbody tr th {\n",
              "        vertical-align: top;\n",
              "    }\n",
              "\n",
              "    .dataframe thead th {\n",
              "        text-align: right;\n",
              "    }\n",
              "</style>\n",
              "<table border=\"1\" class=\"dataframe\">\n",
              "  <thead>\n",
              "    <tr style=\"text-align: right;\">\n",
              "      <th></th>\n",
              "      <th>mql_id</th>\n",
              "      <th>first_contact_date</th>\n",
              "      <th>landing_page_id</th>\n",
              "      <th>origin</th>\n",
              "      <th>deals</th>\n",
              "    </tr>\n",
              "  </thead>\n",
              "  <tbody>\n",
              "    <tr>\n",
              "      <th>0</th>\n",
              "      <td>dac32acd4db4c29c230538b72f8dd87d</td>\n",
              "      <td>2018-02-01</td>\n",
              "      <td>88740e65d5d6b056e0cda098e1ea6313</td>\n",
              "      <td>social</td>\n",
              "      <td>False</td>\n",
              "    </tr>\n",
              "    <tr>\n",
              "      <th>1</th>\n",
              "      <td>8c18d1de7f67e60dbd64e3c07d7e9d5d</td>\n",
              "      <td>2017-10-20</td>\n",
              "      <td>007f9098284a86ee80ddeb25d53e0af8</td>\n",
              "      <td>paid_search</td>\n",
              "      <td>False</td>\n",
              "    </tr>\n",
              "    <tr>\n",
              "      <th>2</th>\n",
              "      <td>b4bc852d233dfefc5131f593b538befa</td>\n",
              "      <td>2018-03-22</td>\n",
              "      <td>a7982125ff7aa3b2054c6e44f9d28522</td>\n",
              "      <td>organic_search</td>\n",
              "      <td>False</td>\n",
              "    </tr>\n",
              "    <tr>\n",
              "      <th>3</th>\n",
              "      <td>6be030b81c75970747525b843c1ef4f8</td>\n",
              "      <td>2018-01-22</td>\n",
              "      <td>d45d558f0daeecf3cccdffe3c59684aa</td>\n",
              "      <td>email</td>\n",
              "      <td>False</td>\n",
              "    </tr>\n",
              "    <tr>\n",
              "      <th>4</th>\n",
              "      <td>5420aad7fec3549a85876ba1c529bd84</td>\n",
              "      <td>2018-02-21</td>\n",
              "      <td>b48ec5f3b04e9068441002a19df93c6c</td>\n",
              "      <td>organic_search</td>\n",
              "      <td>True</td>\n",
              "    </tr>\n",
              "    <tr>\n",
              "      <th>...</th>\n",
              "      <td>...</td>\n",
              "      <td>...</td>\n",
              "      <td>...</td>\n",
              "      <td>...</td>\n",
              "      <td>...</td>\n",
              "    </tr>\n",
              "    <tr>\n",
              "      <th>7995</th>\n",
              "      <td>feaba3ffcd2ff97501696c7f9a42f41c</td>\n",
              "      <td>2018-05-22</td>\n",
              "      <td>e42a14209c69c3e9cc6b042620465f12</td>\n",
              "      <td>paid_search</td>\n",
              "      <td>False</td>\n",
              "    </tr>\n",
              "    <tr>\n",
              "      <th>7996</th>\n",
              "      <td>a79cb53cd009ab92e0143b92baa2407b</td>\n",
              "      <td>2018-03-27</td>\n",
              "      <td>c494978688ccf66ad9fad3d6a3338c22</td>\n",
              "      <td>paid_search</td>\n",
              "      <td>False</td>\n",
              "    </tr>\n",
              "    <tr>\n",
              "      <th>7997</th>\n",
              "      <td>68f049a23ab109c6a0f6989bb9a02994</td>\n",
              "      <td>2017-08-27</td>\n",
              "      <td>b48ec5f3b04e9068441002a19df93c6c</td>\n",
              "      <td>organic_search</td>\n",
              "      <td>False</td>\n",
              "    </tr>\n",
              "    <tr>\n",
              "      <th>7998</th>\n",
              "      <td>4f8c96e2509b984329044c6682c88ee9</td>\n",
              "      <td>2017-10-06</td>\n",
              "      <td>a56671a54260a44923d32c2f08fad39c</td>\n",
              "      <td>organic_search</td>\n",
              "      <td>False</td>\n",
              "    </tr>\n",
              "    <tr>\n",
              "      <th>7999</th>\n",
              "      <td>8a6492305a5fbcdcdd1a7f5a90764c07</td>\n",
              "      <td>2018-01-11</td>\n",
              "      <td>b76ef37428e6799c421989521c0e5077</td>\n",
              "      <td>direct_traffic</td>\n",
              "      <td>True</td>\n",
              "    </tr>\n",
              "  </tbody>\n",
              "</table>\n",
              "<p>8000 rows × 5 columns</p>\n",
              "</div>"
            ],
            "text/plain": [
              "                                mql_id first_contact_date  \\\n",
              "0     dac32acd4db4c29c230538b72f8dd87d         2018-02-01   \n",
              "1     8c18d1de7f67e60dbd64e3c07d7e9d5d         2017-10-20   \n",
              "2     b4bc852d233dfefc5131f593b538befa         2018-03-22   \n",
              "3     6be030b81c75970747525b843c1ef4f8         2018-01-22   \n",
              "4     5420aad7fec3549a85876ba1c529bd84         2018-02-21   \n",
              "...                                ...                ...   \n",
              "7995  feaba3ffcd2ff97501696c7f9a42f41c         2018-05-22   \n",
              "7996  a79cb53cd009ab92e0143b92baa2407b         2018-03-27   \n",
              "7997  68f049a23ab109c6a0f6989bb9a02994         2017-08-27   \n",
              "7998  4f8c96e2509b984329044c6682c88ee9         2017-10-06   \n",
              "7999  8a6492305a5fbcdcdd1a7f5a90764c07         2018-01-11   \n",
              "\n",
              "                       landing_page_id          origin  deals  \n",
              "0     88740e65d5d6b056e0cda098e1ea6313          social  False  \n",
              "1     007f9098284a86ee80ddeb25d53e0af8     paid_search  False  \n",
              "2     a7982125ff7aa3b2054c6e44f9d28522  organic_search  False  \n",
              "3     d45d558f0daeecf3cccdffe3c59684aa           email  False  \n",
              "4     b48ec5f3b04e9068441002a19df93c6c  organic_search   True  \n",
              "...                                ...             ...    ...  \n",
              "7995  e42a14209c69c3e9cc6b042620465f12     paid_search  False  \n",
              "7996  c494978688ccf66ad9fad3d6a3338c22     paid_search  False  \n",
              "7997  b48ec5f3b04e9068441002a19df93c6c  organic_search  False  \n",
              "7998  a56671a54260a44923d32c2f08fad39c  organic_search  False  \n",
              "7999  b76ef37428e6799c421989521c0e5077  direct_traffic   True  \n",
              "\n",
              "[8000 rows x 5 columns]"
            ]
          },
          "execution_count": 54,
          "metadata": {},
          "output_type": "execute_result"
        }
      ],
      "source": [
        "data_for_seller"
      ]
    },
    {
      "cell_type": "code",
      "execution_count": null,
      "id": "f590a035",
      "metadata": {
        "id": "f590a035"
      },
      "outputs": [],
      "source": [
        "# change deals type as int\n",
        "data_for_seller['deals'] = data_for_seller['deals'].astype(int)"
      ]
    },
    {
      "cell_type": "code",
      "execution_count": null,
      "id": "5d0c1097",
      "metadata": {
        "id": "5d0c1097",
        "outputId": "a1852014-426c-45ee-ad61-2ceb3694359e"
      },
      "outputs": [
        {
          "data": {
            "text/html": [
              "<div>\n",
              "<style scoped>\n",
              "    .dataframe tbody tr th:only-of-type {\n",
              "        vertical-align: middle;\n",
              "    }\n",
              "\n",
              "    .dataframe tbody tr th {\n",
              "        vertical-align: top;\n",
              "    }\n",
              "\n",
              "    .dataframe thead th {\n",
              "        text-align: right;\n",
              "    }\n",
              "</style>\n",
              "<table border=\"1\" class=\"dataframe\">\n",
              "  <thead>\n",
              "    <tr style=\"text-align: right;\">\n",
              "      <th></th>\n",
              "      <th>mql_id</th>\n",
              "      <th>first_contact_date</th>\n",
              "      <th>landing_page_id</th>\n",
              "      <th>origin</th>\n",
              "      <th>deals</th>\n",
              "    </tr>\n",
              "  </thead>\n",
              "  <tbody>\n",
              "    <tr>\n",
              "      <th>0</th>\n",
              "      <td>dac32acd4db4c29c230538b72f8dd87d</td>\n",
              "      <td>2018-02-01</td>\n",
              "      <td>88740e65d5d6b056e0cda098e1ea6313</td>\n",
              "      <td>social</td>\n",
              "      <td>0</td>\n",
              "    </tr>\n",
              "    <tr>\n",
              "      <th>1</th>\n",
              "      <td>8c18d1de7f67e60dbd64e3c07d7e9d5d</td>\n",
              "      <td>2017-10-20</td>\n",
              "      <td>007f9098284a86ee80ddeb25d53e0af8</td>\n",
              "      <td>paid_search</td>\n",
              "      <td>0</td>\n",
              "    </tr>\n",
              "    <tr>\n",
              "      <th>2</th>\n",
              "      <td>b4bc852d233dfefc5131f593b538befa</td>\n",
              "      <td>2018-03-22</td>\n",
              "      <td>a7982125ff7aa3b2054c6e44f9d28522</td>\n",
              "      <td>organic_search</td>\n",
              "      <td>0</td>\n",
              "    </tr>\n",
              "    <tr>\n",
              "      <th>3</th>\n",
              "      <td>6be030b81c75970747525b843c1ef4f8</td>\n",
              "      <td>2018-01-22</td>\n",
              "      <td>d45d558f0daeecf3cccdffe3c59684aa</td>\n",
              "      <td>email</td>\n",
              "      <td>0</td>\n",
              "    </tr>\n",
              "    <tr>\n",
              "      <th>4</th>\n",
              "      <td>5420aad7fec3549a85876ba1c529bd84</td>\n",
              "      <td>2018-02-21</td>\n",
              "      <td>b48ec5f3b04e9068441002a19df93c6c</td>\n",
              "      <td>organic_search</td>\n",
              "      <td>1</td>\n",
              "    </tr>\n",
              "    <tr>\n",
              "      <th>...</th>\n",
              "      <td>...</td>\n",
              "      <td>...</td>\n",
              "      <td>...</td>\n",
              "      <td>...</td>\n",
              "      <td>...</td>\n",
              "    </tr>\n",
              "    <tr>\n",
              "      <th>7995</th>\n",
              "      <td>feaba3ffcd2ff97501696c7f9a42f41c</td>\n",
              "      <td>2018-05-22</td>\n",
              "      <td>e42a14209c69c3e9cc6b042620465f12</td>\n",
              "      <td>paid_search</td>\n",
              "      <td>0</td>\n",
              "    </tr>\n",
              "    <tr>\n",
              "      <th>7996</th>\n",
              "      <td>a79cb53cd009ab92e0143b92baa2407b</td>\n",
              "      <td>2018-03-27</td>\n",
              "      <td>c494978688ccf66ad9fad3d6a3338c22</td>\n",
              "      <td>paid_search</td>\n",
              "      <td>0</td>\n",
              "    </tr>\n",
              "    <tr>\n",
              "      <th>7997</th>\n",
              "      <td>68f049a23ab109c6a0f6989bb9a02994</td>\n",
              "      <td>2017-08-27</td>\n",
              "      <td>b48ec5f3b04e9068441002a19df93c6c</td>\n",
              "      <td>organic_search</td>\n",
              "      <td>0</td>\n",
              "    </tr>\n",
              "    <tr>\n",
              "      <th>7998</th>\n",
              "      <td>4f8c96e2509b984329044c6682c88ee9</td>\n",
              "      <td>2017-10-06</td>\n",
              "      <td>a56671a54260a44923d32c2f08fad39c</td>\n",
              "      <td>organic_search</td>\n",
              "      <td>0</td>\n",
              "    </tr>\n",
              "    <tr>\n",
              "      <th>7999</th>\n",
              "      <td>8a6492305a5fbcdcdd1a7f5a90764c07</td>\n",
              "      <td>2018-01-11</td>\n",
              "      <td>b76ef37428e6799c421989521c0e5077</td>\n",
              "      <td>direct_traffic</td>\n",
              "      <td>1</td>\n",
              "    </tr>\n",
              "  </tbody>\n",
              "</table>\n",
              "<p>8000 rows × 5 columns</p>\n",
              "</div>"
            ],
            "text/plain": [
              "                                mql_id first_contact_date  \\\n",
              "0     dac32acd4db4c29c230538b72f8dd87d         2018-02-01   \n",
              "1     8c18d1de7f67e60dbd64e3c07d7e9d5d         2017-10-20   \n",
              "2     b4bc852d233dfefc5131f593b538befa         2018-03-22   \n",
              "3     6be030b81c75970747525b843c1ef4f8         2018-01-22   \n",
              "4     5420aad7fec3549a85876ba1c529bd84         2018-02-21   \n",
              "...                                ...                ...   \n",
              "7995  feaba3ffcd2ff97501696c7f9a42f41c         2018-05-22   \n",
              "7996  a79cb53cd009ab92e0143b92baa2407b         2018-03-27   \n",
              "7997  68f049a23ab109c6a0f6989bb9a02994         2017-08-27   \n",
              "7998  4f8c96e2509b984329044c6682c88ee9         2017-10-06   \n",
              "7999  8a6492305a5fbcdcdd1a7f5a90764c07         2018-01-11   \n",
              "\n",
              "                       landing_page_id          origin  deals  \n",
              "0     88740e65d5d6b056e0cda098e1ea6313          social      0  \n",
              "1     007f9098284a86ee80ddeb25d53e0af8     paid_search      0  \n",
              "2     a7982125ff7aa3b2054c6e44f9d28522  organic_search      0  \n",
              "3     d45d558f0daeecf3cccdffe3c59684aa           email      0  \n",
              "4     b48ec5f3b04e9068441002a19df93c6c  organic_search      1  \n",
              "...                                ...             ...    ...  \n",
              "7995  e42a14209c69c3e9cc6b042620465f12     paid_search      0  \n",
              "7996  c494978688ccf66ad9fad3d6a3338c22     paid_search      0  \n",
              "7997  b48ec5f3b04e9068441002a19df93c6c  organic_search      0  \n",
              "7998  a56671a54260a44923d32c2f08fad39c  organic_search      0  \n",
              "7999  b76ef37428e6799c421989521c0e5077  direct_traffic      1  \n",
              "\n",
              "[8000 rows x 5 columns]"
            ]
          },
          "execution_count": 56,
          "metadata": {},
          "output_type": "execute_result"
        }
      ],
      "source": [
        "data_for_seller"
      ]
    },
    {
      "cell_type": "markdown",
      "id": "ae71f79f",
      "metadata": {
        "id": "ae71f79f"
      },
      "source": [
        "## Data Preprocessing"
      ]
    },
    {
      "cell_type": "code",
      "execution_count": null,
      "id": "ceb80b91",
      "metadata": {
        "id": "ceb80b91"
      },
      "outputs": [],
      "source": [
        "from sklearn.model_selection import train_test_split\n",
        "\n",
        "# split train and test\n",
        "X = data_for_seller.drop(['deals','landing_page_id'], axis = 1)\n",
        "y = data_for_seller['deals']\n",
        "ids = X['mql_id']\n",
        "X.drop(['mql_id'], axis=1, inplace=True)\n",
        "\n",
        "X_train, X_test, y_train, y_test= train_test_split(X, y, test_size=0.25, random_state=101)"
      ]
    },
    {
      "cell_type": "code",
      "execution_count": null,
      "id": "f056d86e",
      "metadata": {
        "id": "f056d86e",
        "outputId": "6fe20438-10d0-4718-ce91-61a3537505c7"
      },
      "outputs": [
        {
          "name": "stdout",
          "output_type": "stream",
          "text": [
            "(6000, 2)\n",
            "<class 'pandas.core.frame.DataFrame'>\n",
            "Int64Index: 6000 entries, 6529 to 4959\n",
            "Data columns (total 2 columns):\n",
            " #   Column              Non-Null Count  Dtype \n",
            "---  ------              --------------  ----- \n",
            " 0   first_contact_date  6000 non-null   object\n",
            " 1   origin              5961 non-null   object\n",
            "dtypes: object(2)\n",
            "memory usage: 140.6+ KB\n",
            "None\n"
          ]
        }
      ],
      "source": [
        "# check shape and info\n",
        "print(X_train.shape)\n",
        "print(X_train.info())"
      ]
    },
    {
      "cell_type": "code",
      "execution_count": null,
      "id": "a59b3edb",
      "metadata": {
        "id": "a59b3edb",
        "outputId": "38a22721-3a96-4ee7-936c-5e06613be6f6"
      },
      "outputs": [
        {
          "name": "stdout",
          "output_type": "stream",
          "text": [
            "(2000, 2)\n",
            "<class 'pandas.core.frame.DataFrame'>\n",
            "Int64Index: 2000 entries, 7289 to 5271\n",
            "Data columns (total 2 columns):\n",
            " #   Column              Non-Null Count  Dtype \n",
            "---  ------              --------------  ----- \n",
            " 0   first_contact_date  2000 non-null   object\n",
            " 1   origin              1979 non-null   object\n",
            "dtypes: object(2)\n",
            "memory usage: 46.9+ KB\n",
            "None\n"
          ]
        }
      ],
      "source": [
        "# check shape and info on test data\n",
        "print(X_test.shape)\n",
        "print(X_test.info())"
      ]
    },
    {
      "cell_type": "code",
      "execution_count": null,
      "id": "1bca0ffb",
      "metadata": {
        "id": "1bca0ffb"
      },
      "outputs": [],
      "source": [
        "# missing value handling\n",
        "\n",
        "from sklearn.impute import SimpleImputer\n",
        "\n",
        "imputer = SimpleImputer(strategy='most_frequent')\n",
        "\n",
        "imputed_X_train = pd.DataFrame(imputer.fit_transform(X_train))\n",
        "imputed_X_test = pd.DataFrame(imputer.transform(X_test))\n",
        "\n",
        "imputed_X_train.columns = X_train.columns\n",
        "imputed_X_test.columns = X_test.columns"
      ]
    },
    {
      "cell_type": "code",
      "execution_count": null,
      "id": "07cb4417",
      "metadata": {
        "id": "07cb4417",
        "outputId": "75cc0f05-3119-46c1-f908-33478b37e186"
      },
      "outputs": [
        {
          "name": "stdout",
          "output_type": "stream",
          "text": [
            "<class 'pandas.core.frame.DataFrame'>\n",
            "RangeIndex: 6000 entries, 0 to 5999\n",
            "Data columns (total 2 columns):\n",
            " #   Column              Non-Null Count  Dtype \n",
            "---  ------              --------------  ----- \n",
            " 0   first_contact_date  6000 non-null   object\n",
            " 1   origin              6000 non-null   object\n",
            "dtypes: object(2)\n",
            "memory usage: 93.9+ KB\n",
            "None\n",
            "<class 'pandas.core.frame.DataFrame'>\n",
            "RangeIndex: 2000 entries, 0 to 1999\n",
            "Data columns (total 2 columns):\n",
            " #   Column              Non-Null Count  Dtype \n",
            "---  ------              --------------  ----- \n",
            " 0   first_contact_date  2000 non-null   object\n",
            " 1   origin              2000 non-null   object\n",
            "dtypes: object(2)\n",
            "memory usage: 31.4+ KB\n",
            "None\n"
          ]
        }
      ],
      "source": [
        "# check the imputed\n",
        "print(imputed_X_train.info())\n",
        "print(imputed_X_test.info())"
      ]
    },
    {
      "cell_type": "code",
      "execution_count": null,
      "id": "aa2151ba",
      "metadata": {
        "id": "aa2151ba"
      },
      "outputs": [],
      "source": [
        "from sklearn.preprocessing import LabelEncoder\n",
        "\n",
        "label_encoder = LabelEncoder()\n",
        "\n",
        "train_X_labeled = imputed_X_train.copy()\n",
        "test_X_labeled = imputed_X_test.copy()\n",
        "\n",
        "for col in ['first_contact_date','origin']:\n",
        "    train_X_labeled[col] = label_encoder.fit_transform(imputed_X_train[col])\n",
        "    test_X_labeled[col] = label_encoder.fit_transform(imputed_X_test[col]) "
      ]
    },
    {
      "cell_type": "code",
      "execution_count": null,
      "id": "d50ed36a",
      "metadata": {
        "id": "d50ed36a",
        "outputId": "4da023fd-2de9-41a9-f1f1-d0e8d861233d"
      },
      "outputs": [
        {
          "data": {
            "text/html": [
              "<div>\n",
              "<style scoped>\n",
              "    .dataframe tbody tr th:only-of-type {\n",
              "        vertical-align: middle;\n",
              "    }\n",
              "\n",
              "    .dataframe tbody tr th {\n",
              "        vertical-align: top;\n",
              "    }\n",
              "\n",
              "    .dataframe thead th {\n",
              "        text-align: right;\n",
              "    }\n",
              "</style>\n",
              "<table border=\"1\" class=\"dataframe\">\n",
              "  <thead>\n",
              "    <tr style=\"text-align: right;\">\n",
              "      <th></th>\n",
              "      <th>first_contact_date</th>\n",
              "      <th>origin</th>\n",
              "    </tr>\n",
              "  </thead>\n",
              "  <tbody>\n",
              "    <tr>\n",
              "      <th>0</th>\n",
              "      <td>199</td>\n",
              "      <td>8</td>\n",
              "    </tr>\n",
              "    <tr>\n",
              "      <th>1</th>\n",
              "      <td>251</td>\n",
              "      <td>9</td>\n",
              "    </tr>\n",
              "    <tr>\n",
              "      <th>2</th>\n",
              "      <td>238</td>\n",
              "      <td>6</td>\n",
              "    </tr>\n",
              "    <tr>\n",
              "      <th>3</th>\n",
              "      <td>142</td>\n",
              "      <td>9</td>\n",
              "    </tr>\n",
              "    <tr>\n",
              "      <th>4</th>\n",
              "      <td>230</td>\n",
              "      <td>6</td>\n",
              "    </tr>\n",
              "    <tr>\n",
              "      <th>...</th>\n",
              "      <td>...</td>\n",
              "      <td>...</td>\n",
              "    </tr>\n",
              "    <tr>\n",
              "      <th>1995</th>\n",
              "      <td>88</td>\n",
              "      <td>5</td>\n",
              "    </tr>\n",
              "    <tr>\n",
              "      <th>1996</th>\n",
              "      <td>132</td>\n",
              "      <td>3</td>\n",
              "    </tr>\n",
              "    <tr>\n",
              "      <th>1997</th>\n",
              "      <td>278</td>\n",
              "      <td>9</td>\n",
              "    </tr>\n",
              "    <tr>\n",
              "      <th>1998</th>\n",
              "      <td>262</td>\n",
              "      <td>8</td>\n",
              "    </tr>\n",
              "    <tr>\n",
              "      <th>1999</th>\n",
              "      <td>206</td>\n",
              "      <td>3</td>\n",
              "    </tr>\n",
              "  </tbody>\n",
              "</table>\n",
              "<p>2000 rows × 2 columns</p>\n",
              "</div>"
            ],
            "text/plain": [
              "      first_contact_date  origin\n",
              "0                    199       8\n",
              "1                    251       9\n",
              "2                    238       6\n",
              "3                    142       9\n",
              "4                    230       6\n",
              "...                  ...     ...\n",
              "1995                  88       5\n",
              "1996                 132       3\n",
              "1997                 278       9\n",
              "1998                 262       8\n",
              "1999                 206       3\n",
              "\n",
              "[2000 rows x 2 columns]"
            ]
          },
          "execution_count": 65,
          "metadata": {},
          "output_type": "execute_result"
        }
      ],
      "source": [
        "test_X_labeled"
      ]
    },
    {
      "cell_type": "markdown",
      "id": "5b0eaef9",
      "metadata": {
        "id": "5b0eaef9"
      },
      "source": [
        "## Modeling"
      ]
    },
    {
      "cell_type": "code",
      "execution_count": null,
      "id": "1e7d498b",
      "metadata": {
        "id": "1e7d498b"
      },
      "outputs": [],
      "source": [
        "import sklearn as sklearn\n",
        "\n",
        "# import metrics method for model evaluation\n",
        "import sklearn.metrics as metrics\n",
        "\n",
        "# import logistic regression classifier\n",
        "from sklearn.linear_model import LogisticRegression\n",
        "from sklearn.model_selection import cross_val_score\n",
        "\n",
        "# import knn classifier\n",
        "from sklearn.neighbors import KNeighborsClassifier\n",
        "\n",
        "# import decision tree\n",
        "from sklearn.tree import DecisionTreeClassifier\n",
        "\n",
        "# import random forest classifier\n",
        "from sklearn.ensemble import RandomForestClassifier\n",
        "\n",
        "# evaluation\n",
        "from sklearn.metrics import classification_report\n",
        "from sklearn.metrics import roc_auc_score\n",
        "from sklearn.metrics import mean_squared_error\n",
        "from sklearn import linear_model, datasets\n"
      ]
    },
    {
      "cell_type": "code",
      "execution_count": null,
      "id": "818a97c2",
      "metadata": {
        "id": "818a97c2"
      },
      "outputs": [],
      "source": [
        "# Initialze the estimators\n",
        "clf1 = LogisticRegression()\n",
        "clf2 = KNeighborsClassifier()\n",
        "clf3 = DecisionTreeClassifier()\n",
        "clf4 = RandomForestClassifier()"
      ]
    },
    {
      "cell_type": "code",
      "execution_count": null,
      "id": "a3602765",
      "metadata": {
        "id": "a3602765"
      },
      "outputs": [],
      "source": [
        "# run machine\n",
        "lg = clf1.fit(train_X_labeled, y_train)\n",
        "knc = clf2.fit(train_X_labeled, y_train)\n",
        "dtc = clf3.fit(train_X_labeled, y_train)\n",
        "rf = clf4.fit(train_X_labeled, y_train)"
      ]
    },
    {
      "cell_type": "markdown",
      "id": "324e2be2",
      "metadata": {
        "id": "324e2be2"
      },
      "source": [
        "### Logistic Regression"
      ]
    },
    {
      "cell_type": "code",
      "execution_count": null,
      "id": "3462e362",
      "metadata": {
        "id": "3462e362",
        "outputId": "2641e773-c652-4b23-efd6-3122571f648a"
      },
      "outputs": [
        {
          "name": "stdout",
          "output_type": "stream",
          "text": [
            "Below is the report of Modeling results: \n",
            "                  Deals  Did Not Deals  accuracy    macro avg  weighted avg\n",
            "precision     0.896500            0.0    0.8965     0.448250      0.803712\n",
            "recall        1.000000            0.0    0.8965     0.500000      0.896500\n",
            "f1-score      0.945426            0.0    0.8965     0.472713      0.847574\n",
            "support    1793.000000          207.0    0.8965  2000.000000   2000.000000 \n",
            "\n"
          ]
        },
        {
          "name": "stderr",
          "output_type": "stream",
          "text": [
            "C:\\Users\\HP\\anaconda3\\lib\\site-packages\\sklearn\\metrics\\_classification.py:1318: UndefinedMetricWarning: Precision and F-score are ill-defined and being set to 0.0 in labels with no predicted samples. Use `zero_division` parameter to control this behavior.\n",
            "  _warn_prf(average, modifier, msg_start, len(result))\n",
            "C:\\Users\\HP\\anaconda3\\lib\\site-packages\\sklearn\\metrics\\_classification.py:1318: UndefinedMetricWarning: Precision and F-score are ill-defined and being set to 0.0 in labels with no predicted samples. Use `zero_division` parameter to control this behavior.\n",
            "  _warn_prf(average, modifier, msg_start, len(result))\n",
            "C:\\Users\\HP\\anaconda3\\lib\\site-packages\\sklearn\\metrics\\_classification.py:1318: UndefinedMetricWarning: Precision and F-score are ill-defined and being set to 0.0 in labels with no predicted samples. Use `zero_division` parameter to control this behavior.\n",
            "  _warn_prf(average, modifier, msg_start, len(result))\n"
          ]
        }
      ],
      "source": [
        "# predict\n",
        "y_pred_lg = lg.predict(test_X_labeled)\n",
        "y_pred_proba_lg = lg.predict_proba(test_X_labeled)\n",
        "\n",
        "# report result\n",
        "modeling_report = pd.DataFrame(metrics.classification_report(y_test, y_pred_lg, target_names=['Deals','Did Not Deals'], output_dict=True))\n",
        "print(\"Below is the report of Modeling results:\",\"\\n\",modeling_report,'\\n')"
      ]
    },
    {
      "cell_type": "code",
      "execution_count": null,
      "id": "e4b41e34",
      "metadata": {
        "id": "e4b41e34",
        "outputId": "d63fda88-7f1d-4069-e2b2-ffdc64ae6b10"
      },
      "outputs": [
        {
          "name": "stdout",
          "output_type": "stream",
          "text": [
            "[0.94560386 0.94560386 0.94560386 0.94560386 0.94560386]\n"
          ]
        }
      ],
      "source": [
        "# cross validation\n",
        "scores = cross_val_score(lg, train_X_labeled, y_train, cv=5)\n",
        "print(np.sqrt(scores))"
      ]
    },
    {
      "cell_type": "code",
      "execution_count": null,
      "id": "81207d01",
      "metadata": {
        "id": "81207d01",
        "outputId": "3f123b53-0211-4ea7-9723-dd3412eaf388"
      },
      "outputs": [
        {
          "name": "stdout",
          "output_type": "stream",
          "text": [
            "-11.54489682097044 %\n"
          ]
        }
      ],
      "source": [
        "# r2 score\n",
        "\n",
        "from sklearn.metrics import r2_score\n",
        "\n",
        "lin = r2_score(y_test, lg.predict(test_X_labeled))*100\n",
        "print(lin,'%')"
      ]
    },
    {
      "cell_type": "code",
      "execution_count": null,
      "id": "277edb82",
      "metadata": {
        "id": "277edb82",
        "outputId": "8c365c5e-5ddc-4fa8-dba6-7cc5d4c408a2"
      },
      "outputs": [
        {
          "name": "stdout",
          "output_type": "stream",
          "text": [
            "Confusion Matrix on Logistic Regression Tuning:\n",
            " AxesSubplot(0.125,0.125;0.62x0.755)\n"
          ]
        },
        {
          "data": {
            "image/png": "[encoded data removed]",
            "text/plain": [
              "<Figure size 432x288 with 2 Axes>"
            ]
          },
          "metadata": {
            "needs_background": "light"
          },
          "output_type": "display_data"
        }
      ],
      "source": [
        "# confusion metric\n",
        "import scikitplot as skplt\n",
        "\n",
        "lg_cm = skplt.metrics.plot_confusion_matrix(y_test,y_pred_lg)\n",
        "print('Confusion Matrix on Logistic Regression Tuning:\\n',lg_cm)"
      ]
    },
    {
      "cell_type": "code",
      "execution_count": null,
      "id": "af486259",
      "metadata": {
        "id": "af486259",
        "outputId": "af00a865-805a-48cf-cdfd-312b057adf05"
      },
      "outputs": [
        {
          "name": "stderr",
          "output_type": "stream",
          "text": [
            "C:\\Users\\HP\\anaconda3\\lib\\site-packages\\sklearn\\utils\\deprecation.py:87: FutureWarning: Function plot_roc_curve is deprecated; This will be removed in v0.5.0. Please use scikitplot.metrics.plot_roc instead.\n",
            "  warnings.warn(msg, category=FutureWarning)\n"
          ]
        },
        {
          "name": "stdout",
          "output_type": "stream",
          "text": [
            "AxesSubplot(0.125,0.125;0.775x0.755)\n"
          ]
        },
        {
          "data": {
            "image/png": "[encoded data removed]",
            "text/plain": [
              "<Figure size 432x288 with 1 Axes>"
            ]
          },
          "metadata": {
            "needs_background": "light"
          },
          "output_type": "display_data"
        }
      ],
      "source": [
        "# model performance check\n",
        "lg_ROC_AUC = skplt.metrics.plot_roc_curve(y_test, y_pred_proba_lg)\n",
        "print(lg_ROC_AUC)"
      ]
    },
    {
      "cell_type": "code",
      "execution_count": null,
      "id": "7f8f1513",
      "metadata": {
        "id": "7f8f1513"
      },
      "outputs": [],
      "source": [
        "# predict\n",
        "y_pred = lg.predict(test_X_labeled)\n",
        "y_pred_proba = lg.predict_proba(test_X_labeled)\n",
        "\n",
        "# report result\n",
        "modeling_report = pd.DataFrame(metrics.classification_report(y_test, y_pred, target_names=['Deals','Did Not Deals'], output_dict=True))\n",
        "print(\"Below is the report of Modeling results:\",\"\\n\",modeling_report,'\\n')"
      ]
    },
    {
      "cell_type": "code",
      "execution_count": null,
      "id": "9873efc5",
      "metadata": {
        "id": "9873efc5",
        "outputId": "531c8917-78ab-4742-8717-452bed6491a5"
      },
      "outputs": [
        {
          "name": "stdout",
          "output_type": "stream",
          "text": [
            "The accuracy score for Random Forest is: 0.8965 \n",
            "\n",
            "The F1 score on Random Forest is: 0.0 \n",
            "\n"
          ]
        }
      ],
      "source": [
        "# check model accuracy\n",
        "lg_accuracy = metrics.accuracy_score(y_test, y_pred_lg)\n",
        "print(\"The accuracy score for Random Forest is:\",lg_accuracy,'\\n')\n",
        "\n",
        "# check f1-score\n",
        "lg_f1_score = metrics.f1_score(y_test,y_pred_lg)\n",
        "print(\"The F1 score on Random Forest is:\",lg_f1_score,'\\n')"
      ]
    },
    {
      "cell_type": "markdown",
      "id": "2ab93b19",
      "metadata": {
        "id": "2ab93b19"
      },
      "source": [
        "### K-Neighbors"
      ]
    },
    {
      "cell_type": "code",
      "execution_count": null,
      "id": "a796fff6",
      "metadata": {
        "id": "a796fff6",
        "outputId": "072c6bdd-96e2-4dd1-c327-89c7f77fc23c"
      },
      "outputs": [
        {
          "name": "stdout",
          "output_type": "stream",
          "text": [
            "Below is the report of Modeling results: \n",
            "                  Deals  Did Not Deals  accuracy    macro avg  weighted avg\n",
            "precision     0.896657       0.115385    0.8865     0.506021      0.815795\n",
            "recall        0.987172       0.014493    0.8865     0.500833      0.886500\n",
            "f1-score      0.939740       0.025751    0.8865     0.482745      0.845142\n",
            "support    1793.000000     207.000000    0.8865  2000.000000   2000.000000 \n",
            "\n"
          ]
        }
      ],
      "source": [
        "# predict\n",
        "y_pred_knc = knc.predict(test_X_labeled)\n",
        "y_pred_proba_knc = knc.predict_proba(test_X_labeled)\n",
        "\n",
        "# report result\n",
        "modeling_report = pd.DataFrame(metrics.classification_report(y_test, y_pred_knc, target_names=['Deals','Did Not Deals'], output_dict=True))\n",
        "print(\"Below is the report of Modeling results:\",\"\\n\",modeling_report,'\\n')"
      ]
    },
    {
      "cell_type": "code",
      "execution_count": null,
      "id": "3da4c827",
      "metadata": {
        "id": "3da4c827",
        "outputId": "614511d9-841f-4a71-ba85-fd405aaca1ac"
      },
      "outputs": [
        {
          "name": "stdout",
          "output_type": "stream",
          "text": [
            "[0.9336309  0.93452305 0.93941471 0.94030137 0.93719439]\n"
          ]
        }
      ],
      "source": [
        "# cross validation\n",
        "scores = cross_val_score(knc, train_X_labeled, y_train, cv=5)\n",
        "print(np.sqrt(scores))"
      ]
    },
    {
      "cell_type": "code",
      "execution_count": null,
      "id": "a009c4b0",
      "metadata": {
        "id": "a009c4b0",
        "outputId": "1200cb49-6f00-423e-d846-f3c8a386fbb8"
      },
      "outputs": [
        {
          "name": "stdout",
          "output_type": "stream",
          "text": [
            "-22.32218153797241 %\n"
          ]
        }
      ],
      "source": [
        "# r2 score\n",
        "\n",
        "kn = r2_score(y_test, knc.predict(test_X_labeled))*100\n",
        "print(kn,'%')"
      ]
    },
    {
      "cell_type": "code",
      "execution_count": null,
      "id": "764e410d",
      "metadata": {
        "id": "764e410d",
        "outputId": "8c2c672a-6c15-4b04-b36c-c10d80da2af0"
      },
      "outputs": [
        {
          "name": "stdout",
          "output_type": "stream",
          "text": [
            "Confusion Matrix on Logistic Regression Tuning:\n",
            " AxesSubplot(0.125,0.125;0.62x0.755)\n"
          ]
        },
        {
          "data": {
            "image/png": "[encoded data removed]",
            "text/plain": [
              "<Figure size 432x288 with 2 Axes>"
            ]
          },
          "metadata": {
            "needs_background": "light"
          },
          "output_type": "display_data"
        }
      ],
      "source": [
        "# confusion metric\n",
        "\n",
        "kn_cm = skplt.metrics.plot_confusion_matrix(y_test,y_pred_knc)\n",
        "print('Confusion Matrix on Logistic Regression Tuning:\\n',kn_cm)"
      ]
    },
    {
      "cell_type": "code",
      "execution_count": null,
      "id": "495c3d14",
      "metadata": {
        "id": "495c3d14",
        "outputId": "dbad4bf2-f76d-47aa-8af6-53622ea0dbe1"
      },
      "outputs": [
        {
          "name": "stderr",
          "output_type": "stream",
          "text": [
            "C:\\Users\\HP\\anaconda3\\lib\\site-packages\\sklearn\\utils\\deprecation.py:87: FutureWarning: Function plot_roc_curve is deprecated; This will be removed in v0.5.0. Please use scikitplot.metrics.plot_roc instead.\n",
            "  warnings.warn(msg, category=FutureWarning)\n"
          ]
        },
        {
          "name": "stdout",
          "output_type": "stream",
          "text": [
            "AxesSubplot(0.125,0.125;0.775x0.755)\n"
          ]
        },
        {
          "data": {
            "image/png": "[encoded data removed]",
            "text/plain": [
              "<Figure size 432x288 with 1 Axes>"
            ]
          },
          "metadata": {
            "needs_background": "light"
          },
          "output_type": "display_data"
        }
      ],
      "source": [
        "# model performance check\n",
        "kn_ROC_AUC = skplt.metrics.plot_roc_curve(y_test, y_pred_proba_knc)\n",
        "print(kn_ROC_AUC)"
      ]
    },
    {
      "cell_type": "code",
      "execution_count": null,
      "id": "091cb42f",
      "metadata": {
        "id": "091cb42f",
        "outputId": "f20b2e62-a502-4a42-d719-57ac8fdabe4c"
      },
      "outputs": [
        {
          "name": "stdout",
          "output_type": "stream",
          "text": [
            "The accuracy score for Random Forest is: 0.8865 \n",
            "\n",
            "The F1 score on Random Forest is: 0.02575107296137339 \n",
            "\n"
          ]
        }
      ],
      "source": [
        "# check model accuracy\n",
        "kn_accuracy = metrics.accuracy_score(y_test, y_pred_knc)\n",
        "print(\"The accuracy score for Random Forest is:\",kn_accuracy,'\\n')\n",
        "\n",
        "# check f1-score\n",
        "kn_f1_score = metrics.f1_score(y_test,y_pred_knc)\n",
        "print(\"The F1 score on Random Forest is:\",kn_f1_score,'\\n')"
      ]
    },
    {
      "cell_type": "markdown",
      "id": "8203fc97",
      "metadata": {
        "id": "8203fc97"
      },
      "source": [
        "### Decision Tree"
      ]
    },
    {
      "cell_type": "code",
      "execution_count": null,
      "id": "85fb31e4",
      "metadata": {
        "id": "85fb31e4",
        "outputId": "3432c033-68b0-429b-ef39-33f0d61750f8"
      },
      "outputs": [
        {
          "name": "stdout",
          "output_type": "stream",
          "text": [
            "Below is the report of Modeling results: \n",
            "                  Deals  Did Not Deals  accuracy    macro avg  weighted avg\n",
            "precision     0.901538       0.300000    0.8865     0.600769      0.839279\n",
            "recall        0.980480       0.072464    0.8865     0.526472      0.886500\n",
            "f1-score      0.939353       0.116732    0.8865     0.528042      0.854212\n",
            "support    1793.000000     207.000000    0.8865  2000.000000   2000.000000 \n",
            "\n"
          ]
        }
      ],
      "source": [
        "# predict\n",
        "y_pred_dtc = dtc.predict(test_X_labeled)\n",
        "y_pred_proba_dtc = dtc.predict_proba(test_X_labeled)\n",
        "\n",
        "# report result\n",
        "modeling_report = pd.DataFrame(metrics.classification_report(y_test, y_pred_dtc, target_names=['Deals','Did Not Deals'], output_dict=True))\n",
        "print(\"Below is the report of Modeling results:\",\"\\n\",modeling_report,'\\n')"
      ]
    },
    {
      "cell_type": "code",
      "execution_count": null,
      "id": "e77734c3",
      "metadata": {
        "id": "e77734c3",
        "outputId": "52a8fa38-45b6-4975-8091-17a1e68a5c45"
      },
      "outputs": [
        {
          "name": "stdout",
          "output_type": "stream",
          "text": [
            "[0.93808315 0.93630479 0.9336309  0.93719439 0.93407708]\n"
          ]
        }
      ],
      "source": [
        "# cross validation\n",
        "scores = cross_val_score(dtc, train_X_labeled, y_train, cv=5)\n",
        "print(np.sqrt(scores))"
      ]
    },
    {
      "cell_type": "code",
      "execution_count": null,
      "id": "35932ad7",
      "metadata": {
        "id": "35932ad7",
        "outputId": "dee707b2-2f44-41fc-d9bb-bcf0bfbb5900"
      },
      "outputs": [
        {
          "name": "stdout",
          "output_type": "stream",
          "text": [
            "-22.32218153797241 %\n"
          ]
        }
      ],
      "source": [
        "# r2 score\n",
        "\n",
        "dt = r2_score(y_test, dtc.predict(test_X_labeled))*100\n",
        "print(dt,'%')"
      ]
    },
    {
      "cell_type": "code",
      "execution_count": null,
      "id": "1de2d3ff",
      "metadata": {
        "id": "1de2d3ff",
        "outputId": "9ba8eda7-bbfe-4f2f-c5d3-a8814715880a"
      },
      "outputs": [
        {
          "name": "stdout",
          "output_type": "stream",
          "text": [
            "Confusion Matrix on Logistic Regression Tuning:\n",
            " AxesSubplot(0.125,0.125;0.62x0.755)\n"
          ]
        },
        {
          "data": {
            "image/png": "[encoded data removed]",
            "text/plain": [
              "<Figure size 432x288 with 2 Axes>"
            ]
          },
          "metadata": {
            "needs_background": "light"
          },
          "output_type": "display_data"
        }
      ],
      "source": [
        "# confusion metric\n",
        "\n",
        "dt_cm = skplt.metrics.plot_confusion_matrix(y_test,y_pred_dtc)\n",
        "print('Confusion Matrix on Logistic Regression Tuning:\\n',dt_cm)"
      ]
    },
    {
      "cell_type": "code",
      "execution_count": null,
      "id": "ac36b5bf",
      "metadata": {
        "id": "ac36b5bf",
        "outputId": "7f5d839c-4b4e-4855-9309-a615b1e483c8"
      },
      "outputs": [
        {
          "name": "stderr",
          "output_type": "stream",
          "text": [
            "C:\\Users\\HP\\anaconda3\\lib\\site-packages\\sklearn\\utils\\deprecation.py:87: FutureWarning: Function plot_roc_curve is deprecated; This will be removed in v0.5.0. Please use scikitplot.metrics.plot_roc instead.\n",
            "  warnings.warn(msg, category=FutureWarning)\n"
          ]
        },
        {
          "name": "stdout",
          "output_type": "stream",
          "text": [
            "AxesSubplot(0.125,0.125;0.775x0.755)\n"
          ]
        },
        {
          "data": {
            "image/png": "[encoded data removed]",
            "text/plain": [
              "<Figure size 432x288 with 1 Axes>"
            ]
          },
          "metadata": {
            "needs_background": "light"
          },
          "output_type": "display_data"
        }
      ],
      "source": [
        "# model performance check\n",
        "dt_ROC_AUC = skplt.metrics.plot_roc_curve(y_test, y_pred_proba_dtc)\n",
        "print(dt_ROC_AUC)"
      ]
    },
    {
      "cell_type": "code",
      "execution_count": null,
      "id": "e7d3adff",
      "metadata": {
        "id": "e7d3adff",
        "outputId": "2f6ee057-3c73-4e84-e24b-e9c27f5ecfa6"
      },
      "outputs": [
        {
          "name": "stdout",
          "output_type": "stream",
          "text": [
            "The accuracy score for Random Forest is: 0.8865 \n",
            "\n",
            "The F1 score on Random Forest is: 0.11673151750972763 \n",
            "\n"
          ]
        }
      ],
      "source": [
        "# check model accuracy\n",
        "dt_accuracy = metrics.accuracy_score(y_test, y_pred_dtc)\n",
        "print(\"The accuracy score for Random Forest is:\",dt_accuracy,'\\n')\n",
        "\n",
        "# check f1-score\n",
        "dt_f1_score = metrics.f1_score(y_test,y_pred_dtc)\n",
        "print(\"The F1 score on Random Forest is:\",dt_f1_score,'\\n')"
      ]
    },
    {
      "cell_type": "markdown",
      "id": "8d83190e",
      "metadata": {
        "id": "8d83190e"
      },
      "source": [
        "### Random Forest"
      ]
    },
    {
      "cell_type": "code",
      "execution_count": null,
      "id": "fb499d48",
      "metadata": {
        "id": "fb499d48",
        "outputId": "470ce559-6025-4b7e-de23-e9e54271c610"
      },
      "outputs": [
        {
          "name": "stdout",
          "output_type": "stream",
          "text": [
            "Below is the report of Modeling results: \n",
            "                  Deals  Did Not Deals  accuracy    macro avg  weighted avg\n",
            "precision     0.900878       0.238095      0.88     0.569486      0.832280\n",
            "recall        0.973229       0.072464      0.88     0.522846      0.880000\n",
            "f1-score      0.935657       0.111111      0.88     0.523384      0.850316\n",
            "support    1793.000000     207.000000      0.88  2000.000000   2000.000000 \n",
            "\n"
          ]
        }
      ],
      "source": [
        "# predict\n",
        "y_pred_rf = rf.predict(test_X_labeled)\n",
        "y_pred_proba_rf = rf.predict_proba(test_X_labeled)\n",
        "\n",
        "# report result\n",
        "modeling_report = pd.DataFrame(metrics.classification_report(y_test, y_pred_rf, target_names=['Deals','Did Not Deals'], output_dict=True))\n",
        "print(\"Below is the report of Modeling results:\",\"\\n\",modeling_report,'\\n')"
      ]
    },
    {
      "cell_type": "code",
      "execution_count": null,
      "id": "ac5c7a0e",
      "metadata": {
        "id": "ac5c7a0e",
        "outputId": "5b9f94b8-4352-421b-a013-33d7c0d03506"
      },
      "outputs": [
        {
          "name": "stdout",
          "output_type": "stream",
          "text": [
            "[0.93763888 0.93005376 0.93229108 0.93585968 0.93184405]\n"
          ]
        }
      ],
      "source": [
        "# cross validation\n",
        "scores = cross_val_score(rf, train_X_labeled, y_train, cv=5)\n",
        "print(np.sqrt(scores))"
      ]
    },
    {
      "cell_type": "code",
      "execution_count": null,
      "id": "fe36fc3e",
      "metadata": {
        "id": "fe36fc3e",
        "outputId": "f632bb6c-d39d-491b-e069-39c9b14317ba"
      },
      "outputs": [
        {
          "name": "stdout",
          "output_type": "stream",
          "text": [
            "-29.327416604023693 %\n"
          ]
        }
      ],
      "source": [
        "# r2 score\n",
        "\n",
        "rfc = r2_score(y_test, rf.predict(test_X_labeled))*100\n",
        "print(rfc,'%')"
      ]
    },
    {
      "cell_type": "code",
      "execution_count": null,
      "id": "6d5b66bf",
      "metadata": {
        "id": "6d5b66bf",
        "outputId": "ea585051-3a6a-432c-e6be-bf4ad4a3e2f3"
      },
      "outputs": [
        {
          "name": "stdout",
          "output_type": "stream",
          "text": [
            "Confusion Matrix on Logistic Regression Tuning:\n",
            " AxesSubplot(0.125,0.125;0.62x0.755)\n"
          ]
        },
        {
          "data": {
            "image/png": "[encoded data removed]",
            "text/plain": [
              "<Figure size 432x288 with 2 Axes>"
            ]
          },
          "metadata": {
            "needs_background": "light"
          },
          "output_type": "display_data"
        }
      ],
      "source": [
        "# confusion metric\n",
        "\n",
        "rfc_cm = skplt.metrics.plot_confusion_matrix(y_test,y_pred_rf)\n",
        "print('Confusion Matrix on Logistic Regression Tuning:\\n',rfc_cm)"
      ]
    },
    {
      "cell_type": "code",
      "execution_count": null,
      "id": "223dc886",
      "metadata": {
        "id": "223dc886",
        "outputId": "e771a5a0-663a-4991-a383-104aba704240"
      },
      "outputs": [
        {
          "name": "stderr",
          "output_type": "stream",
          "text": [
            "C:\\Users\\HP\\anaconda3\\lib\\site-packages\\sklearn\\utils\\deprecation.py:87: FutureWarning: Function plot_roc_curve is deprecated; This will be removed in v0.5.0. Please use scikitplot.metrics.plot_roc instead.\n",
            "  warnings.warn(msg, category=FutureWarning)\n"
          ]
        },
        {
          "name": "stdout",
          "output_type": "stream",
          "text": [
            "AxesSubplot(0.125,0.125;0.775x0.755)\n"
          ]
        },
        {
          "data": {
            "image/png": "[encoded data removed]",
            "text/plain": [
              "<Figure size 432x288 with 1 Axes>"
            ]
          },
          "metadata": {
            "needs_background": "light"
          },
          "output_type": "display_data"
        }
      ],
      "source": [
        "# model performance check\n",
        "rfc_ROC_AUC = skplt.metrics.plot_roc_curve(y_test, y_pred_proba_rf)\n",
        "print(rfc_ROC_AUC)"
      ]
    },
    {
      "cell_type": "code",
      "execution_count": null,
      "id": "84d980db",
      "metadata": {
        "id": "84d980db",
        "outputId": "09fdf866-30e6-4140-db43-ee2d8928cba6"
      },
      "outputs": [
        {
          "name": "stdout",
          "output_type": "stream",
          "text": [
            "The accuracy score for Random Forest is: 0.88 \n",
            "\n",
            "The F1 score on Random Forest is: 0.11111111111111112 \n",
            "\n"
          ]
        }
      ],
      "source": [
        "# check model accuracy\n",
        "rf_accuracy = metrics.accuracy_score(y_test, y_pred_rf)\n",
        "print(\"The accuracy score for Random Forest is:\",rf_accuracy,'\\n')\n",
        "\n",
        "# check f1-score\n",
        "rf_f1_score = metrics.f1_score(y_test,y_pred_rf)\n",
        "print(\"The F1 score on Random Forest is:\",rf_f1_score,'\\n')"
      ]
    },
    {
      "cell_type": "markdown",
      "id": "6bed638f",
      "metadata": {
        "id": "6bed638f"
      },
      "source": [
        "## Modeling Comparison"
      ]
    },
    {
      "cell_type": "code",
      "execution_count": null,
      "id": "56371bab",
      "metadata": {
        "id": "56371bab",
        "outputId": "42184c74-a7a9-4d5f-ef4b-1e9d423fac89"
      },
      "outputs": [
        {
          "data": {
            "text/plain": [
              "Text(0.5, 1.0, 'Plotting the Model Accuracies Score')"
            ]
          },
          "execution_count": 115,
          "metadata": {},
          "output_type": "execute_result"
        },
        {
          "data": {
            "image/png": "[encoded data removed]",
            "text/plain": [
              "<Figure size 576x504 with 1 Axes>"
            ]
          },
          "metadata": {
            "needs_background": "light"
          },
          "output_type": "display_data"
        }
      ],
      "source": [
        "plt.figure(figsize= (8,7))\n",
        "ac = [lg_f1_score, kn_f1_score, dt_f1_score, rf_f1_score]\n",
        "name = ['Linear Regression','K-Neighbors','Decision Tree','Random Forest']\n",
        "sns.barplot(x = ac,y = name,palette='bright')\n",
        "plt.title(\"Plotting the Model Accuracies Score\", fontsize=16, fontweight=\"bold\")"
      ]
    },
    {
      "cell_type": "markdown",
      "id": "90200f4d",
      "metadata": {
        "id": "90200f4d"
      },
      "source": [
        "The best modeling is Decision Tree by F1 Score, even the Confusion Matrix didn't goes well."
      ]
    }
  ],
  "metadata": {
    "kernelspec": {
      "display_name": "Python 3",
      "language": "python",
      "name": "python3"
    },
    "language_info": {
      "codemirror_mode": {
        "name": "ipython",
        "version": 3
      },
      "file_extension": ".py",
      "mimetype": "text/x-python",
      "name": "python",
      "nbconvert_exporter": "python",
      "pygments_lexer": "ipython3",
      "version": "3.8.8"
    },
    "colab": {
      "name": "Marketing Funnel.ipynb",
      "provenance": [],
      "toc_visible": true
    }
  },
  "nbformat": 4,
  "nbformat_minor": 5
}